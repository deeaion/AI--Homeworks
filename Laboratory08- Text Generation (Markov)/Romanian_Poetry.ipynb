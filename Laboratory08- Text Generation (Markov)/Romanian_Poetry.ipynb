{
 "cells": [
  {
   "cell_type": "markdown",
   "source": [
    "# Generating Poetry in romanian"
   ],
   "metadata": {
    "collapsed": false
   },
   "id": "cb1845efd38b3851"
  },
  {
   "cell_type": "code",
   "execution_count": 5,
   "outputs": [],
   "source": [],
   "metadata": {
    "collapsed": false,
    "ExecuteTime": {
     "end_time": "2024-04-25T15:19:51.812895500Z",
     "start_time": "2024-04-25T15:19:51.795914200Z"
    }
   },
   "id": "49561292759e599f"
  },
  {
   "cell_type": "markdown",
   "source": [],
   "metadata": {
    "collapsed": false
   },
   "id": "a7ded332e3cbead7"
  },
  {
   "cell_type": "code",
   "execution_count": 10,
   "outputs": [
    {
     "name": "stdout",
     "output_type": "stream",
     "text": [
      "Nemultumitului i se ia darul . nevoia il invata pe om . nevoia te invata . \n",
      "\n",
      "\n",
      "----------------------------------------------------------\n",
      "\n",
      "Nu zice hop pana nu ai sarit parleazul . numa incet cu furca se incarca carul . numai in pomul care nu face roade \n",
      "\n",
      "\n",
      "----------------------------------------------------------\n",
      "\n",
      "Nu iti baga nasul unde nu iti fierbe oala . nu iti dori ca ti se va intampla . nu \n",
      "\n",
      "\n",
      "----------------------------------------------------------\n",
      "\n",
      "In tara orbilor chiorul este imparat . jarul potolit te arde . \n",
      "\n",
      "\n",
      "----------------------------------------------------------\n"
     ]
    },
    {
     "name": "stderr",
     "output_type": "stream",
     "text": [
      "[nltk_data] Downloading package vader_lexicon to\n",
      "[nltk_data]     C:\\Users\\Deea\\AppData\\Roaming\\nltk_data...\n",
      "[nltk_data]   Package vader_lexicon is already up-to-date!\n"
     ]
    }
   ],
   "source": [
    "%run Markov.ipynb\n",
    "%run Utils.ipynb"
   ],
   "metadata": {
    "collapsed": false,
    "ExecuteTime": {
     "end_time": "2024-04-26T07:11:32.680652Z",
     "start_time": "2024-04-26T07:11:30.095554100Z"
    }
   },
   "id": "2273fc15d8a51447"
  },
  {
   "cell_type": "code",
   "execution_count": 11,
   "outputs": [],
   "source": [
    "proverbe=read_file(\"data/proverbe.txt\")\n",
    "# proverbe[:10]"
   ],
   "metadata": {
    "collapsed": false,
    "ExecuteTime": {
     "end_time": "2024-04-26T07:11:32.693751800Z",
     "start_time": "2024-04-26T07:11:32.680652Z"
    }
   },
   "id": "e49cb1fb54269ade"
  },
  {
   "cell_type": "markdown",
   "source": [
    "## Generating proverbe with markov chains"
   ],
   "metadata": {
    "collapsed": false
   },
   "id": "a48c7d191537150a"
  },
  {
   "cell_type": "markdown",
   "source": [
    "# with one state"
   ],
   "metadata": {
    "collapsed": false
   },
   "id": "1767b69d9897fdc7"
  },
  {
   "cell_type": "code",
   "execution_count": 11,
   "outputs": [],
   "source": [],
   "metadata": {
    "collapsed": false,
    "ExecuteTime": {
     "end_time": "2024-04-26T07:11:32.950896800Z",
     "start_time": "2024-04-26T07:11:32.947387200Z"
    }
   },
   "id": "24859a9d3f978f0c"
  },
  {
   "cell_type": "code",
   "execution_count": 12,
   "outputs": [
    {
     "name": "stdout",
     "output_type": "stream",
     "text": [
      "Sarguinta e de toate caile duc cainii la usa . ziua \n",
      "\n",
      "\n",
      "----------------------------------------------------------\n",
      "\n",
      "Banu ii cap vai de dimineata departe de toate . zace pe usa . ziua buna povata de lup ramane . \n",
      "\n",
      "\n",
      "----------------------------------------------------------\n",
      "\n",
      "Toate . ziua ce stie mocanul ce sa aiba urechi nu merge de dimineata departe ajungi \n",
      "\n",
      "\n",
      "----------------------------------------------------------\n",
      "\n",
      "Naravul ba . zace pe moarte \n",
      "\n",
      "\n",
      "----------------------------------------------------------\n"
     ]
    }
   ],
   "source": [
    "generate_one_State(proverbe,[10,20,15,5])"
   ],
   "metadata": {
    "collapsed": false,
    "ExecuteTime": {
     "end_time": "2024-04-26T07:11:34.453192600Z",
     "start_time": "2024-04-26T07:11:33.994871600Z"
    }
   },
   "id": "c86f9beb7f772cf3"
  },
  {
   "cell_type": "markdown",
   "source": [
    "# with more states"
   ],
   "metadata": {
    "collapsed": false
   },
   "id": "a2fc548258e735bf"
  },
  {
   "cell_type": "code",
   "execution_count": 14,
   "outputs": [
    {
     "name": "stdout",
     "output_type": "stream",
     "text": [
      "Incetul se cunoaste de toate mustele fac miere . zace pe \n",
      "\n",
      "\n",
      "----------------------------------------------------------\n",
      "\n",
      "Exceptia confirma regula . ziua buna se vede padurea de toate . zace pe usa . vrei sa aiba urechi nu \n",
      "\n",
      "\n",
      "----------------------------------------------------------\n",
      "\n",
      "Latra ursul merge de toate mustele fac miere . ziua inainte la usa . ziua inainte \n",
      "\n",
      "\n",
      "----------------------------------------------------------\n",
      "\n",
      "Punctualitatea ii arde si lupul la \n",
      "\n",
      "\n",
      "----------------------------------------------------------\n",
      "\n",
      "^^^^^^^^^^^^^^^^^^^^^^^^^\n",
      "Ochii care nu se face . sarguinta e mama norocului . scopul \n",
      "\n",
      "\n",
      "----------------------------------------------------------\n",
      "\n",
      "Nu face ce face popa fa ce zice popa . nu haina il face pe om . omul harnic silitor de paine \n",
      "\n",
      "\n",
      "----------------------------------------------------------\n",
      "\n",
      "Nu iti mai intra in pravalie . cu cine te insotesti ca spun cine esti . stapanul zgarcit \n",
      "\n",
      "\n",
      "----------------------------------------------------------\n",
      "\n",
      "Nu este padure fara uscatura . obrazul de \n",
      "\n",
      "\n",
      "----------------------------------------------------------\n",
      "\n",
      "^^^^^^^^^^^^^^^^^^^^^^^^^\n",
      "Fa bine si asteapta raul . doamne de prieteni ca de dusmani ma feresc singur . \n",
      "\n",
      "\n",
      "----------------------------------------------------------\n",
      "\n",
      "Rade ciob de oala sparta . rade dracul de porumbe negre si pe sine nu se vede . rade prostul de neghiob . rusinosul \n",
      "\n",
      "\n",
      "----------------------------------------------------------\n",
      "\n",
      "Prostia din nastere nu are leac . prostia din nastere nu se vindeca . prostul daca nu ii fudul parca \n",
      "\n",
      "\n",
      "----------------------------------------------------------\n",
      "\n",
      "Rade harb de oala sparta . rade ciob de oala sparta . \n",
      "\n",
      "\n",
      "----------------------------------------------------------\n",
      "\n",
      "^^^^^^^^^^^^^^^^^^^^^^^^^\n",
      "Cum se scoala cum ii e foame cum se culca cum adoarme . cum tu \n",
      "\n",
      "\n",
      "----------------------------------------------------------\n",
      "\n",
      "Nu mor caii cand vor cainii . nu lauda ziua inainte de asfintit . nu poti fi si cu varza unsa si cu slanina in \n",
      "\n",
      "\n",
      "----------------------------------------------------------\n",
      "\n",
      "Cui pe cui scoate . cui ii dai pe datorie nu iti mai intra in pravalie . cui ii dai \n",
      "\n",
      "\n",
      "----------------------------------------------------------\n",
      "\n",
      "Laudat sa nu te duci cu sacul . lacomului nu \n",
      "\n",
      "\n",
      "----------------------------------------------------------\n",
      "\n",
      "^^^^^^^^^^^^^^^^^^^^^^^^^\n"
     ]
    }
   ],
   "source": [
    "generate_some_sentences_n(proverbe,[10,20,15,5],1)\n",
    "print(\"^^^^^^^^^^^^^^^^^^^^^^^^^\")\n",
    "generate_some_sentences_n(proverbe,[10,20,15,5],2)\n",
    "print(\"^^^^^^^^^^^^^^^^^^^^^^^^^\")\n",
    "generate_some_sentences_n(proverbe,[10,20,15,5],4)\n",
    "print(\"^^^^^^^^^^^^^^^^^^^^^^^^^\")\n",
    "generate_some_sentences_n(proverbe,[10,20,15,5],5)\n",
    "print(\"^^^^^^^^^^^^^^^^^^^^^^^^^\")"
   ],
   "metadata": {
    "collapsed": false,
    "ExecuteTime": {
     "end_time": "2024-04-26T07:12:34.171535300Z",
     "start_time": "2024-04-26T07:12:31.592042600Z"
    }
   },
   "id": "cd866944aafe02c0"
  },
  {
   "cell_type": "markdown",
   "source": [],
   "metadata": {
    "collapsed": false
   },
   "id": "f1ccae2b610599bc"
  },
  {
   "cell_type": "code",
   "execution_count": 15,
   "outputs": [
    {
     "name": "stdout",
     "output_type": "stream",
     "text": [
      "Nu stie stanga ce face dreapta . nu te increde in canele care da din coada \n",
      "\n",
      "\n",
      "----------------------------------------------------------\n",
      "\n",
      "Lucrul odata inceput e pe jumatate facut . lupul cu slugi nu face gatul gros . lupul lup ramane . lupu isi schimba parul \n",
      "\n",
      "\n",
      "----------------------------------------------------------\n",
      "\n",
      "Ochii verzi niciodata sa nu ii crezi . omul sfinteste locul nu locul pe om . omul face haina si \n",
      "\n",
      "\n",
      "----------------------------------------------------------\n",
      "\n",
      "Ca musca in fundul calului . dus bou si a venit vaca \n",
      "\n",
      "\n",
      "----------------------------------------------------------\n"
     ]
    },
    {
     "name": "stderr",
     "output_type": "stream",
     "text": [
      "[nltk_data] Downloading package vader_lexicon to\n",
      "[nltk_data]     C:\\Users\\Deea\\AppData\\Roaming\\nltk_data...\n",
      "[nltk_data]   Package vader_lexicon is already up-to-date!\n"
     ]
    }
   ],
   "source": [
    "%run Markov.ipynb"
   ],
   "metadata": {
    "collapsed": false,
    "ExecuteTime": {
     "end_time": "2024-04-26T07:12:42.496518Z",
     "start_time": "2024-04-26T07:12:40.869541100Z"
    }
   },
   "id": "eaabb8455d0f3512"
  },
  {
   "cell_type": "code",
   "execution_count": 16,
   "outputs": [],
   "source": [
    "data_comp=read_file(\"data/corpus_complet.txt\")"
   ],
   "metadata": {
    "collapsed": false,
    "ExecuteTime": {
     "end_time": "2024-04-26T07:12:43.710932Z",
     "start_time": "2024-04-26T07:12:43.682303900Z"
    }
   },
   "id": "890dbce9fa5ea890"
  },
  {
   "cell_type": "code",
   "execution_count": 17,
   "outputs": [
    {
     "data": {
      "text/plain": "['Nimic nu mă-nspăimântă, că mor sau că viez...',\n 'Eşti început a toate şi tuturor sfârşitul:',\n 'De când m-am rapt de Tine şi nu mai încetez',\n 'Cumplita mea cădere ce umple infinitul,',\n 'M-aproprii tot de Tine pe cât mă depărtez.',\n '...Locul inimii noastre? Cine-1 ştie? Câţi îl cer?',\n 'Vârtejul cugetelor noastre sălăşluieşte-n Cer',\n \"Şi-n el lumina lină a Celui fâr' de-moarte.\",\n 'Aspre prăpăstii se sparg în orice ins,',\n 'Pe munţii sufletului ninşi de blesteme']"
     },
     "execution_count": 17,
     "metadata": {},
     "output_type": "execute_result"
    }
   ],
   "source": [
    "data_comp[0:10]"
   ],
   "metadata": {
    "collapsed": false,
    "ExecuteTime": {
     "end_time": "2024-04-26T07:12:44.814118500Z",
     "start_time": "2024-04-26T07:12:44.792205Z"
    }
   },
   "id": "78289d7ba83cba62"
  },
  {
   "cell_type": "code",
   "execution_count": null,
   "outputs": [],
   "source": [
    "generate_one_State(data_comp,[10,20,15,5])\n"
   ],
   "metadata": {
    "collapsed": false,
    "is_executing": true,
    "ExecuteTime": {
     "start_time": "2024-04-26T07:12:46.227651500Z"
    }
   },
   "id": "5780f9343298f01d"
  },
  {
   "cell_type": "code",
   "execution_count": null,
   "outputs": [],
   "source": [
    "generate_some_sentences_n(data_comp,[10,20,15,5],1)"
   ],
   "metadata": {
    "collapsed": false,
    "is_executing": true
   },
   "id": "6c10b6d909cd8eb4"
  },
  {
   "cell_type": "code",
   "execution_count": null,
   "outputs": [],
   "source": [
    "generate_some_sentences_n(data_comp,[10,20,15,5],2)"
   ],
   "metadata": {
    "collapsed": false,
    "is_executing": true
   },
   "id": "1f9866692567c289"
  },
  {
   "cell_type": "code",
   "execution_count": null,
   "outputs": [],
   "source": [
    "generate_some_sentences_n(data_comp,[10,20,15,5,100],4)"
   ],
   "metadata": {
    "collapsed": false,
    "is_executing": true
   },
   "id": "b55b5b3bbc1f8fa3"
  },
  {
   "cell_type": "code",
   "execution_count": 11,
   "outputs": [],
   "source": [],
   "metadata": {
    "collapsed": false,
    "ExecuteTime": {
     "end_time": "2024-04-25T20:15:59.588053400Z",
     "start_time": "2024-04-25T20:15:59.549011800Z"
    }
   },
   "id": "46e0cabd8389709f"
  },
  {
   "cell_type": "code",
   "execution_count": null,
   "outputs": [],
   "source": [],
   "metadata": {
    "collapsed": false
   },
   "id": "1b0c952418adb51e"
  }
 ],
 "metadata": {
  "kernelspec": {
   "display_name": "Python 3",
   "language": "python",
   "name": "python3"
  },
  "language_info": {
   "codemirror_mode": {
    "name": "ipython",
    "version": 2
   },
   "file_extension": ".py",
   "mimetype": "text/x-python",
   "name": "python",
   "nbconvert_exporter": "python",
   "pygments_lexer": "ipython2",
   "version": "2.7.6"
  }
 },
 "nbformat": 4,
 "nbformat_minor": 5
}

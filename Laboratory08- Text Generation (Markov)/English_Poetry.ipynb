{
 "cells": [
  {
   "cell_type": "markdown",
   "id": "f9928edc0d857357",
   "metadata": {},
   "source": [
    "# Generating poetry in English"
   ]
  },
  {
   "cell_type": "code",
   "execution_count": 26,
   "id": "a7b775a36a47e4cf",
   "metadata": {
    "ExecuteTime": {
     "end_time": "2024-04-26T08:29:32.130214200Z",
     "start_time": "2024-04-26T08:29:29.611472100Z"
    },
    "collapsed": false,
    "jupyter": {
     "outputs_hidden": false
    },
    "tags": []
   },
   "outputs": [
    {
     "name": "stderr",
     "output_type": "stream",
     "text": [
      "[nltk_data] Downloading package punkt to\n",
      "[nltk_data]     C:\\Users\\Deea\\AppData\\Roaming\\nltk_data...\n",
      "[nltk_data]   Package punkt is already up-to-date!\n"
     ]
    },
    {
     "name": "stdout",
     "output_type": "stream",
     "text": [
      "E\n",
      "\n",
      "\n",
      "----------------------------------------------------------\n",
      "\n",
      "Lupu isi\n",
      "\n",
      "\n",
      "----------------------------------------------------------\n",
      "\n",
      "Pofta vine\n",
      "\n",
      "\n",
      "----------------------------------------------------------\n",
      "\n",
      "Cainele care latra\n",
      "\n",
      "\n",
      "----------------------------------------------------------\n",
      "\n"
     ]
    },
    {
     "name": "stderr",
     "output_type": "stream",
     "text": [
      "[nltk_data] Downloading package vader_lexicon to\n",
      "[nltk_data]     C:\\Users\\Deea\\AppData\\Roaming\\nltk_data...\n",
      "[nltk_data]   Package vader_lexicon is already up-to-date!\n",
      "[nltk_data] Downloading package punkt to\n",
      "[nltk_data]     C:\\Users\\Deea\\AppData\\Roaming\\nltk_data...\n",
      "[nltk_data]   Package punkt is already up-to-date!\n"
     ]
    }
   ],
   "source": [
    "%run Markov.ipynb\n",
    "%run Utils.ipynb"
   ]
  },
  {
   "cell_type": "code",
   "execution_count": 27,
   "id": "2d803c89b028be87",
   "metadata": {
    "ExecuteTime": {
     "end_time": "2024-04-26T08:29:32.146253Z",
     "start_time": "2024-04-26T08:29:32.131738600Z"
    },
    "collapsed": false,
    "jupyter": {
     "outputs_hidden": false
    },
    "tags": []
   },
   "outputs": [],
   "source": [
    "from datasets import load_dataset"
   ]
  },
  {
   "cell_type": "code",
   "execution_count": 5,
   "id": "d6bcf0235054d707",
   "metadata": {
    "ExecuteTime": {
     "end_time": "2024-04-26T07:34:07.441893600Z",
     "start_time": "2024-04-26T07:33:10.421124100Z"
    },
    "collapsed": false,
    "jupyter": {
     "outputs_hidden": false
    },
    "tags": []
   },
   "outputs": [
    {
     "data": {
      "application/vnd.jupyter.widget-view+json": {
       "model_id": "307d0955d03d48dca892a1eaadf00233",
       "version_major": 2,
       "version_minor": 0
      },
      "text/plain": [
       "Downloading metadata:   0%|          | 0.00/903 [00:00<?, ?B/s]"
      ]
     },
     "metadata": {},
     "output_type": "display_data"
    },
    {
     "data": {
      "application/vnd.jupyter.widget-view+json": {
       "model_id": "d28f83ac1b7b4f938d4813d310b3ac44",
       "version_major": 2,
       "version_minor": 0
      },
      "text/plain": [
       "Downloading readme:   0%|          | 0.00/1.15k [00:00<?, ?B/s]"
      ]
     },
     "metadata": {},
     "output_type": "display_data"
    },
    {
     "name": "stdout",
     "output_type": "stream",
     "text": [
      "Downloading and preparing dataset None/None (download: 86.92 MiB, generated: 148.45 MiB, post-processed: Unknown size, total: 235.37 MiB) to C:/Users/Deea/.cache/huggingface/datasets/biglam___parquet/cakiki--gutenberg-poetry-corpus-7745b6aecdad34dc/0.0.0/2a3b91fbd88a2c90d1dbbb32b460cf621d31bd5b05b934492fdef7d8d6f236ec...\n"
     ]
    },
    {
     "data": {
      "application/vnd.jupyter.widget-view+json": {
       "model_id": "1230f7b5fbba4204a50481ae0287df2c",
       "version_major": 2,
       "version_minor": 0
      },
      "text/plain": [
       "Downloading data files:   0%|          | 0/1 [00:00<?, ?it/s]"
      ]
     },
     "metadata": {},
     "output_type": "display_data"
    },
    {
     "data": {
      "application/vnd.jupyter.widget-view+json": {
       "model_id": "6f77e0b49f034323a9e6ab77ec28165a",
       "version_major": 2,
       "version_minor": 0
      },
      "text/plain": [
       "Downloading data:   0%|          | 0.00/91.1M [00:00<?, ?B/s]"
      ]
     },
     "metadata": {},
     "output_type": "display_data"
    },
    {
     "data": {
      "application/vnd.jupyter.widget-view+json": {
       "model_id": "e06e108ec0a64a8e98c6358823b7fbaa",
       "version_major": 2,
       "version_minor": 0
      },
      "text/plain": [
       "Extracting data files:   0%|          | 0/1 [00:00<?, ?it/s]"
      ]
     },
     "metadata": {},
     "output_type": "display_data"
    },
    {
     "data": {
      "application/vnd.jupyter.widget-view+json": {
       "model_id": "",
       "version_major": 2,
       "version_minor": 0
      },
      "text/plain": [
       "Generating train split:   0%|          | 0/3085117 [00:00<?, ? examples/s]"
      ]
     },
     "metadata": {},
     "output_type": "display_data"
    },
    {
     "name": "stdout",
     "output_type": "stream",
     "text": [
      "Dataset parquet downloaded and prepared to C:/Users/Deea/.cache/huggingface/datasets/biglam___parquet/cakiki--gutenberg-poetry-corpus-7745b6aecdad34dc/0.0.0/2a3b91fbd88a2c90d1dbbb32b460cf621d31bd5b05b934492fdef7d8d6f236ec. Subsequent calls will reuse this data.\n"
     ]
    },
    {
     "data": {
      "application/vnd.jupyter.widget-view+json": {
       "model_id": "f3b57894e10b4cbbbb0cdbfd952c231e",
       "version_major": 2,
       "version_minor": 0
      },
      "text/plain": [
       "  0%|          | 0/1 [00:00<?, ?it/s]"
      ]
     },
     "metadata": {},
     "output_type": "display_data"
    },
    {
     "data": {
      "text/plain": [
       "['The Song of Hiawatha is based on the legends and stories of',\n",
       " 'many North American Indian tribes, but especially those of the']"
      ]
     },
     "execution_count": 5,
     "metadata": {},
     "output_type": "execute_result"
    }
   ],
   "source": [
    "from datasets import load_dataset\n",
    "\n",
    "dataset_gutenBerg = get_Gutenber_poetry()\n",
    "\n",
    "dataset_gutenBerg[:2]"
   ]
  },
  {
   "cell_type": "code",
   "execution_count": 28,
   "id": "e63c99756a7a4d92",
   "metadata": {
    "ExecuteTime": {
     "end_time": "2024-04-26T07:41:10.976425700Z",
     "start_time": "2024-04-26T07:41:10.973884800Z"
    },
    "collapsed": false,
    "jupyter": {
     "outputs_hidden": false
    },
    "tags": []
   },
   "outputs": [],
   "source": [
    "def get_poetry(data_set,poetry_length,state):\n",
    "    attempts=0\n",
    "    max=3\n",
    "    while(attempts<max):\n",
    "        print(\"Attempt: \",attempts)\n",
    "        attempts+=1\n",
    "        poetry=markovifyDo(data_set,poetry_length,state)\n",
    "        if poetry is not None:\n",
    "            return poetry\n",
    "    return poetry"
   ]
  },
  {
   "cell_type": "markdown",
   "id": "b57ffc759270890e",
   "metadata": {},
   "source": []
  },
  {
   "cell_type": "code",
   "execution_count": 30,
   "id": "3e5430a9cdd17da4",
   "metadata": {
    "ExecuteTime": {
     "end_time": "2024-04-26T07:43:32.170827Z",
     "start_time": "2024-04-26T07:41:11.838013500Z"
    },
    "collapsed": false,
    "jupyter": {
     "outputs_hidden": false
    },
    "tags": []
   },
   "outputs": [
    {
     "name": "stdout",
     "output_type": "stream",
     "text": [
      "Attempt:  0\n",
      "Attempt:  1\n",
      "Attempt:  2\n"
     ]
    }
   ],
   "source": [
    "poetry1=None\n",
    "\n",
    "poetry1=get_poetry(dataset_gutenBerg,30,5)"
   ]
  },
  {
   "cell_type": "code",
   "execution_count": 31,
   "id": "b7389d54d61e5549",
   "metadata": {
    "ExecuteTime": {
     "end_time": "2024-04-26T07:44:19.605814900Z",
     "start_time": "2024-04-26T07:43:32.171827700Z"
    },
    "collapsed": false,
    "jupyter": {
     "outputs_hidden": false
    },
    "tags": []
   },
   "outputs": [
    {
     "name": "stdout",
     "output_type": "stream",
     "text": [
      "Attempt:  0\n"
     ]
    }
   ],
   "source": [
    "poetry2=get_poetry(dataset_gutenBerg,200,4)"
   ]
  },
  {
   "cell_type": "code",
   "execution_count": 32,
   "id": "7297cdc0533fd146",
   "metadata": {
    "ExecuteTime": {
     "end_time": "2024-04-26T07:45:06.902141400Z",
     "start_time": "2024-04-26T07:44:19.606812800Z"
    },
    "collapsed": false,
    "jupyter": {
     "outputs_hidden": false
    },
    "tags": []
   },
   "outputs": [
    {
     "name": "stdout",
     "output_type": "stream",
     "text": [
      "Attempt:  0\n"
     ]
    }
   ],
   "source": [
    "poetry3=get_poetry(dataset_gutenBerg,500,2)"
   ]
  },
  {
   "cell_type": "code",
   "execution_count": 33,
   "id": "f6b19e4bec73de5c",
   "metadata": {
    "ExecuteTime": {
     "end_time": "2024-04-26T07:45:50.097291Z",
     "start_time": "2024-04-26T07:45:06.904143300Z"
    },
    "collapsed": false,
    "jupyter": {
     "outputs_hidden": false
    },
    "tags": []
   },
   "outputs": [
    {
     "name": "stdout",
     "output_type": "stream",
     "text": [
      "Attempt:  0\n"
     ]
    }
   ],
   "source": [
    "poetry4=get_poetry(dataset_gutenBerg,1000,1)"
   ]
  },
  {
   "cell_type": "code",
   "execution_count": 34,
   "id": "5703273af70e2f1b",
   "metadata": {
    "ExecuteTime": {
     "end_time": "2024-04-26T07:45:50.100594600Z",
     "start_time": "2024-04-26T07:45:50.097291Z"
    },
    "collapsed": false,
    "jupyter": {
     "outputs_hidden": false
    },
    "tags": []
   },
   "outputs": [
    {
     "name": "stdout",
     "output_type": "stream",
     "text": [
      "None\n"
     ]
    }
   ],
   "source": [
    "print(poetry1)"
   ]
  },
  {
   "cell_type": "code",
   "execution_count": 35,
   "id": "8effcac70b92dcd5",
   "metadata": {
    "ExecuteTime": {
     "end_time": "2024-04-26T07:45:50.115677800Z",
     "start_time": "2024-04-26T07:45:50.102609800Z"
    },
    "collapsed": false,
    "jupyter": {
     "outputs_hidden": false
    },
    "tags": []
   },
   "outputs": [
    {
     "name": "stdout",
     "output_type": "stream",
     "text": [
      "Yet have we lay of love and the other side of the streamlet, to gaze at the great variety of the fresh may.\n"
     ]
    }
   ],
   "source": [
    "print(poetry2)"
   ]
  },
  {
   "cell_type": "code",
   "execution_count": 36,
   "id": "459ca7c02bbb0b55",
   "metadata": {
    "ExecuteTime": {
     "end_time": "2024-04-26T07:45:50.138948700Z",
     "start_time": "2024-04-26T07:45:50.115677800Z"
    },
    "collapsed": false,
    "jupyter": {
     "outputs_hidden": false
    },
    "tags": []
   },
   "outputs": [
    {
     "name": "stdout",
     "output_type": "stream",
     "text": [
      "Dispersed by Penëus Wandering, caught in mathematics, jotted down Upon a roughened bench--bare walls, bare floor, And the sea and the shame!\n"
     ]
    }
   ],
   "source": [
    "print(poetry3)"
   ]
  },
  {
   "cell_type": "code",
   "execution_count": 37,
   "id": "7fbcd6e439ef6d1c",
   "metadata": {
    "ExecuteTime": {
     "end_time": "2024-04-26T08:33:33.861735700Z",
     "start_time": "2024-04-26T08:33:24.170998Z"
    },
    "collapsed": false,
    "jupyter": {
     "outputs_hidden": false
    },
    "tags": []
   },
   "outputs": [
    {
     "name": "stdout",
     "output_type": "stream",
     "text": [
      "Belch 'd\n",
      "\n",
      "\n",
      "----------------------------------------------------------\n",
      "\n",
      "None\n",
      "When ever that shall redound upon his own for neither man nor angel can discern hypocrisie , the magician , who transformed you to this trial , but free love dealt equally to all the earth a fabrick huge rose like an antelope he bounded , till he wearied of the shouting and the gods were more familiar , in your watch and ward i leave behind me , in the precincts of light , thy self invisible amidst the glorious brightness where thou and death grinnd horrible a gastly smile , while by thee rais i ruin all my\n",
      "\n",
      "\n",
      "----------------------------------------------------------\n",
      "\n",
      "None\n",
      "Busiris and his memphian chivalrie , vvhile with perfidious hatred they pursu the sojourners of goshen , who yet by deeds what it intends till first i know you , a deliverer of the bowl ishkoodah , fire , and the more communicated , more abundant growes , the author of all this talking , tired of old , fortunate fields , and groves and flourie vales , thrice happy iles , but who here will envy whom the highest in nor fail they to express how much they prais , that rais us from the empty air returning ,\n",
      "\n",
      "\n",
      "----------------------------------------------------------\n",
      "\n",
      "None\n",
      "Friends\n",
      "\n",
      "\n",
      "----------------------------------------------------------\n",
      "\n",
      "None\n",
      "The speediest of thy head i sprung amazement seis all , what multitudes were banded to oppose his high decree and smiling to his commands above who hates me , i am happy , as the fog from the , in the water , let us advise , may speak . he was dressed in shirt of doeskin , white and polished very smoothly . she had sent through all restraint broke loose he wings his way not farr off , in whom my thoughts find all repose , my son , while pardon may be devis of honours new\n",
      "\n",
      "\n",
      "----------------------------------------------------------\n",
      "\n",
      "None\n",
      "Departed from thee , dim thine eyes , and dizzie swumm in darkness , and the robin , the opechee , joyous , said , pointing with her haire two other precious drops that ready stood , each his course , the work of body or mind appointed , which now sat high in honour rise for on som message high they guessd him bound . thou at the sight of god , in the green and silent stream , as down that foaming river , plunged beneath the sluggish water headlong , as from melting lakes the streamlets ,\n",
      "\n",
      "\n",
      "----------------------------------------------------------\n",
      "\n",
      "None\n",
      "Stamped\n",
      "\n",
      "\n",
      "----------------------------------------------------------\n",
      "\n",
      "None\n",
      "Were the eyes of laughing water , gone the silly laughing water shown resentment at the gleaming sky above them . like a ring of fire , outrageous fellow goes on thus a little , speaking slowly , from the land of the dacotahs , making dints upon the ashes , as he seem , to the great , leads to no excess that reaches blame , but farr more pleasant garden god ordaind out of the earth he drew nigh , and to thy speed add wings , least of all this world was not , and highth ,\n",
      "\n",
      "\n",
      "----------------------------------------------------------\n",
      "\n",
      "None\n",
      "Heav'ns awful\n",
      "\n",
      "\n",
      "----------------------------------------------------------\n",
      "\n",
      "None\n",
      "Smote their fists against the heavens , bodies lying pierced with arrows , shod with , bows and arrows , opened the great cage of silver , and our guests be more contented ! then the angry hiawatha raised his , smote and crushed it into a , the blueberry , meenahga , and her hair was like the sunshine and thus his own strength , and thou thy self though great glorious dost thou count , or undertake the perilous attempt but all alike informd with radiant locks of silver , he with eyes serene and tender , in\n",
      "\n",
      "\n",
      "----------------------------------------------------------\n",
      "\n",
      "None\n"
     ]
    }
   ],
   "source": [
    "for _ in range(10):\n",
    "    print (generate_some_sentences_n(dataset_gutenBerg[:10000],[100],2))"
   ]
  },
  {
   "cell_type": "code",
   "execution_count": 38,
   "id": "6289bb8b3721ae05",
   "metadata": {
    "ExecuteTime": {
     "end_time": "2024-04-26T08:38:36.462548Z",
     "start_time": "2024-04-26T08:35:51.400858Z"
    },
    "collapsed": false,
    "jupyter": {
     "outputs_hidden": false
    },
    "tags": []
   },
   "outputs": [
    {
     "name": "stdout",
     "output_type": "stream",
     "text": [
      "Dried\n",
      "\n",
      "\n",
      "----------------------------------------------------------\n",
      "\n",
      "None\n",
      "Look black behind your deadly slime , poyson the budding sallows . a youth in ardour but a shade be the prime , and cringed , and servilely adored heaven awful monarch ? wherefore break her passion . suddenly a woman feeble sense opprest should be his faithful friend . brown was goin to grow an git a pair o license fer to marry him , what on her head . he for this was all painted over . ah , aphrodite , if once in english woods i heard them say , that good distributed , the last reserve of fruit untouched , unsmit by any stroke or else some comrade , worthy knight , on my way proceed , discoursing with brunetto , and balls of gold florence enflowered in all their power and range upraised this ilion wrought this dazzling change ? no , still he did must be borne , or upward of the grass , ate forth a channel through the casement standing wide for with the sliding puffs from the setting sun . yea , all heard , achilles and his father with language unsainted the captain came back to the nothingness that is , as were our soldiers bold , great comus , with his downfall , bleeding from the first love , and all is this labour ? said the soul of wretched myrrha , he neither chere made , nor marr , by h . c . i . c . xxiv . . and so far punished , and keep down the bank descended , learn from this prostration , and wish confusion to your elements . the lord , as well as artist , auch , ish crand , crates heroes ish de cratest ding on eart again rush\n",
      "\n",
      "\n",
      "----------------------------------------------------------\n",
      "\n",
      "None\n",
      "One mounts the wall wroth with foes , the gods , and on through a world or a wayfaring bloke , his feelings , when this army is the man of fight her beauties thorow me did hurt my . a farm , d think bill squared hisself with heaven afflicting thunder , and not yours , not ambracia scanty ports dismay the sailors drooping souls . now and then concludes the royal youth appear in thy unpractis view . and little danger found , though bembo remarks , that so himself deceiveth , that he saw the imperial ensigns spread , stained with holy blood shed by the romans there with form and face , and so paints him that his face , nay , thou shalt behold , she says , . that you have much written in exquisite english prose , shall make us citizens of rome the standards seize and possess the power to move . pistoia ! why resolve not to weep for men when we were on the rock the path ascended in such a wise , such desire to close with clash of sovereign wills may shake nor splash , nor scipio with his blood upon the golden shore , ever closer wound in this court , married , but i should be yours to mine and mart , on thy bench , into the dust descend dust into her drink her food , her sorrowings , this was atlantes the enchanter deed , whose guide , by me to sing the sun in tropic lands , to quench it he meets with what seems brightly dim , dimly lighted by the brands on the troubled main ? whom but thee , vain beauty , so that another life and his spouse redeemed\n",
      "\n",
      "\n",
      "----------------------------------------------------------\n",
      "\n",
      "None\n",
      "Which tightly packed and closely joined since body unable to look back over things , that yet is dark to me . eek i nil not rakle as for to telle in schrifte , so as king alisandre honoured long time stod , was seen , and art handless evermore ? thou how i wish that you were ever sweetest and dearest amity . some heavenward soared , like the eyes of pure women , wholesome , and pay him their due obedience pay to rome . rome , do draw towards it , and tame , as erst they had lacked relief . struck with his wings , his corslet bore by thousands fill thyme , marjoram , crocus , and least of all . to him when in haste they leave the sick hearts that honour high , the furnace burning clear showed them how to wear my crown . . and after irad mahalaleel was warden of the heavenly quire stood mute , on me is come . behold the wretched man rose , son , dilates and now the long lines , that might direct our knowledge , following the gait and air . she calls , pursue your way with stedfast gaze and pity those who on the earth , each living thing soever . nay , menelaus , when he arises and around him . then , with a grateful shelter shall afford to be sick an forlorn an stand by the guiding helm while on the right now oiled their carven maces and scoured their daggers bright they gat them to the chariot had turned . the king implores , you shall love the , once when ye were caught er that ye were given , unsought ? oh , more or less\n",
      "\n",
      "\n",
      "----------------------------------------------------------\n",
      "\n",
      "None\n",
      "Hierafterward nou woll i desobeie for also wel sche myhte seie , thei worchen be diverse and paths must vary according to the years that are going round were far the more than father said unto me what then remaines , but still the ground must vexed be , the lips unkissed of women that ever weren , kindest and the beste is for to blame , but shrunk within and froze her youthful brow is wreathed with a mistletoe ring . i feel assured to her that his wound , demanded my conductor without stay or pause , in secret kept , in sportive and infantine onset , the foes had found the shining dew on every side drew in and blocked his leap make room ! and the next and of this . and therefore are cleft thus . a sort of mosaic , and the laughing of the herbage smiles , and hushes the wave with the dragon to strive . with comrades , they fled , glad they seemed to move , and if you think me touched in honour rise for on some rising lawn often depressed in dewy grass at fairs , and floral halls , and to the camp were none that drove him , the host went again to its keeping given , the whilst i wonder , and the massic juice of bacchus and of the court , but love intend the welfare of the fern be littered deep , lest thou kindle me to sing them to the soldier who falls in his harness of battle , for al to lytel him supposeth , the false woman is not undevelopt man , the damsel had sometime descried this mighty soldan and his eyes wept , he fares and but waves\n",
      "\n",
      "\n",
      "----------------------------------------------------------\n",
      "\n",
      "None\n"
     ]
    }
   ],
   "source": [
    "for _ in range(5):\n",
    "    print (generate_some_sentences_n(dataset_gutenBerg[:400000],[300],2))"
   ]
  },
  {
   "cell_type": "code",
   "execution_count": 39,
   "id": "4ba2945a70c175f2",
   "metadata": {
    "ExecuteTime": {
     "end_time": "2024-04-26T08:34:20.760898500Z",
     "start_time": "2024-04-26T08:34:16.013234700Z"
    },
    "collapsed": false,
    "jupyter": {
     "outputs_hidden": false
    },
    "tags": []
   },
   "outputs": [
    {
     "name": "stdout",
     "output_type": "stream",
     "text": [
      "Red were\n",
      "\n",
      "\n",
      "----------------------------------------------------------\n",
      "\n",
      "None\n",
      "Not only\n",
      "\n",
      "\n",
      "----------------------------------------------------------\n",
      "\n",
      "None\n",
      "Thus talking hand in hand alone they pass on to thir blissful bower it was a place by the sovran planter , when he fram all things to mans delightful use the roofe of thickest covert was inwoven shade laurel and mirtle , and what surmounts the reach of human sense , i shall delineate so , by spiritual to corporal forms , as may express them best , though what if earth be but the shaddow of , and things therein each to other like , more then on earth is thought ? as yet this world was not , and\n",
      "\n",
      "\n",
      "----------------------------------------------------------\n",
      "\n",
      "None\n",
      "Though single\n",
      "\n",
      "\n",
      "----------------------------------------------------------\n",
      "\n",
      "None\n",
      "`` all the\n",
      "\n",
      "\n",
      "----------------------------------------------------------\n",
      "\n",
      "None\n"
     ]
    }
   ],
   "source": [
    "for _ in range(5):\n",
    "    print (generate_some_sentences_n(dataset_gutenBerg[:10000],[100],3))"
   ]
  },
  {
   "cell_type": "code",
   "execution_count": 40,
   "id": "c9e6d91a1f69470f",
   "metadata": {
    "ExecuteTime": {
     "end_time": "2024-04-26T07:52:13.597686600Z",
     "start_time": "2024-04-26T07:52:13.595702Z"
    },
    "collapsed": false,
    "jupyter": {
     "outputs_hidden": false
    },
    "tags": []
   },
   "outputs": [
    {
     "ename": "NameError",
     "evalue": "name 'mine1' is not defined",
     "output_type": "error",
     "traceback": [
      "\u001b[1;31m---------------------------------------------------------------------------\u001b[0m",
      "\u001b[1;31mNameError\u001b[0m                                 Traceback (most recent call last)",
      "Cell \u001b[1;32mIn[40], line 1\u001b[0m\n\u001b[1;32m----> 1\u001b[0m \u001b[38;5;28mprint\u001b[39m(mine1)\n",
      "\u001b[1;31mNameError\u001b[0m: name 'mine1' is not defined"
     ]
    }
   ],
   "source": [
    "print(mine1)"
   ]
  },
  {
   "cell_type": "code",
   "execution_count": null,
   "id": "af7fd06a8466a59c",
   "metadata": {
    "ExecuteTime": {
     "end_time": "2024-04-26T07:52:13.597686600Z",
     "start_time": "2024-04-26T07:52:13.597686600Z"
    },
    "collapsed": false,
    "jupyter": {
     "outputs_hidden": false
    }
   },
   "outputs": [],
   "source": [
    "print(mine2)"
   ]
  },
  {
   "cell_type": "code",
   "execution_count": null,
   "id": "ebf80cbed453ecb2",
   "metadata": {
    "ExecuteTime": {
     "end_time": "2024-04-26T07:52:13.599684700Z",
     "start_time": "2024-04-26T07:52:13.598680700Z"
    },
    "collapsed": false,
    "jupyter": {
     "outputs_hidden": false
    }
   },
   "outputs": [],
   "source": [
    "print(mine3)"
   ]
  },
  {
   "cell_type": "code",
   "execution_count": 49,
   "id": "22b8f21e5a045d6c",
   "metadata": {
    "ExecuteTime": {
     "end_time": "2024-04-26T07:58:11.579522200Z",
     "start_time": "2024-04-26T07:58:11.570465200Z"
    },
    "collapsed": false,
    "jupyter": {
     "outputs_hidden": false
    },
    "tags": []
   },
   "outputs": [],
   "source": [
    "saved1='With them the Seed of Wisdom did I sow, And then I thought those curious eyes Were eyes that once I knew.'"
   ]
  },
  {
   "cell_type": "code",
   "execution_count": 50,
   "id": "685560ad27c2173e",
   "metadata": {
    "ExecuteTime": {
     "end_time": "2024-04-26T08:11:29.355358700Z",
     "start_time": "2024-04-26T08:11:29.350984500Z"
    },
    "collapsed": false,
    "jupyter": {
     "outputs_hidden": false
    },
    "tags": []
   },
   "outputs": [
    {
     "name": "stdout",
     "output_type": "stream",
     "text": [
      "Sentiment(polarity=-0.1, subjectivity=1.0)\n"
     ]
    }
   ],
   "source": [
    "print(emotion_calculate(saved1))"
   ]
  },
  {
   "cell_type": "code",
   "execution_count": 51,
   "id": "6c469ec31dc20d5e",
   "metadata": {
    "ExecuteTime": {
     "end_time": "2024-04-26T09:01:18.147163900Z",
     "start_time": "2024-04-26T09:01:18.044590600Z"
    },
    "collapsed": false,
    "jupyter": {
     "outputs_hidden": false
    },
    "tags": []
   },
   "outputs": [
    {
     "name": "stdout",
     "output_type": "stream",
     "text": [
      "With we the Seed of Wisdom ca I sow , I he I it those we eyes Are eyes it he I 'd .\n"
     ]
    }
   ],
   "source": [
    "saved1_sinonyms=replace_words_with_synonyms(saved1)\n",
    "print(saved1_sinonyms)"
   ]
  },
  {
   "cell_type": "code",
   "execution_count": 52,
   "id": "ecef047754865c8d",
   "metadata": {
    "ExecuteTime": {
     "end_time": "2024-04-26T09:13:28.917353700Z",
     "start_time": "2024-04-26T09:13:28.844985900Z"
    },
    "collapsed": false,
    "jupyter": {
     "outputs_hidden": false
    },
    "tags": []
   },
   "outputs": [
    {
     "name": "stdout",
     "output_type": "stream",
     "text": [
      "With them the Seed of Wisdom did I sow, And then I thought those curious eyes Were eyes that once I knew. With we the Seed of Wisdom ca I sow , I he I it those we eyes Are eyes it he I 'd .\n",
      "['with', 'we', 'the', 'seed', 'of', 'wisdom', 'ca', 'i', 'sow', ',', 'i', 'he', 'i', 'it', 'those', 'we', 'eyes', 'are', 'eyes', 'it', 'he', 'i', \"'d\", '.']\n",
      "['with', 'them', 'the', 'seed', 'of', 'wisdom', 'did', 'i', 'sow', ',', 'and', 'then', 'i', 'thought', 'those', 'curious', 'eyes', 'were', 'eyes', 'that', 'once', 'i', 'knew', '.']\n",
      "0.169398499987232\n",
      "None\n"
     ]
    }
   ],
   "source": [
    "print(calculate_bleu_score(saved1,saved1_sinonyms))"
   ]
  },
  {
   "cell_type": "code",
   "execution_count": 48,
   "id": "6690bdee33ac36a5",
   "metadata": {
    "ExecuteTime": {
     "end_time": "2024-04-26T09:13:26.699621800Z",
     "start_time": "2024-04-26T09:13:25.202462200Z"
    },
    "collapsed": false,
    "jupyter": {
     "outputs_hidden": false
    },
    "tags": []
   },
   "outputs": [
    {
     "name": "stderr",
     "output_type": "stream",
     "text": [
      "[nltk_data] Downloading package punkt to\n",
      "[nltk_data]     C:\\Users\\Deea\\AppData\\Roaming\\nltk_data...\n",
      "[nltk_data]   Package punkt is already up-to-date!\n"
     ]
    }
   ],
   "source": [
    "%run Utils.ipynb"
   ]
  },
  {
   "cell_type": "code",
   "execution_count": 53,
   "id": "f7b1ef10e5822ed5",
   "metadata": {
    "ExecuteTime": {
     "end_time": "2024-04-26T09:13:47.438139500Z",
     "start_time": "2024-04-26T09:13:47.324369900Z"
    },
    "collapsed": false,
    "jupyter": {
     "outputs_hidden": false
    },
    "tags": []
   },
   "outputs": [],
   "source": [
    "saved2='The speediest of thy head i sprung amazement seis all , what multitudes were banded to oppose his high decree and smiling to his commands above who hates me , i am happy , as the fog from the , in the water , let us advise , may speak . he was dressed in shirt of doeskin , white and polished very smoothly . she had sent through all restraint broke loose he wings his way not farr off , in whom my thoughts find all repose , my son , while pardon may be devis of honours new'"
   ]
  },
  {
   "cell_type": "code",
   "execution_count": 57,
   "id": "867a08e6-b6a1-4b22-8115-0d4efdffb3b6",
   "metadata": {
    "tags": []
   },
   "outputs": [
    {
     "data": {
      "text/plain": [
       "'The speediest of thy head i sprung amazement seis all , what multitudes were banded to oppose his high decree and smiling to his commands above who hates me , i am happy , as the fog from the , in the water , let us advise , may speak . he was dressed in shirt of doeskin , white and polished very smoothly . she had sent through all restraint broke loose he wings his way not farr off , in whom my thoughts find all repose , my son , while pardon may be devis of honours new'"
      ]
     },
     "execution_count": 57,
     "metadata": {},
     "output_type": "execute_result"
    }
   ],
   "source": [
    "saved2"
   ]
  },
  {
   "cell_type": "code",
   "execution_count": 58,
   "id": "8ad1f12b73ae248a",
   "metadata": {
    "collapsed": false,
    "jupyter": {
     "outputs_hidden": false
    },
    "tags": []
   },
   "outputs": [
    {
     "name": "stdout",
     "output_type": "stream",
     "text": [
      "Sentiment(polarity=0.19243006993006995, subjectivity=0.38922202797202793)\n"
     ]
    }
   ],
   "source": [
    "print(emotion_calculate(saved2))"
   ]
  },
  {
   "cell_type": "code",
   "execution_count": 59,
   "id": "a7a62945-5e18-4bda-9ecd-d317ab5d3b93",
   "metadata": {
    "tags": []
   },
   "outputs": [
    {
     "name": "stdout",
     "output_type": "stream",
     "text": [
      "The speediest of thy head i got of in all , how to were banded to oppose his high decree and my to his to above who hates me , i am we , as the fog from the , in the water , let us advise , may speak . he was dressed in shirt of ü. , white and polished very smoothly . he had sent in all to broke off he wings his way not farr off , in who my us find all be , my son , while Mr may be ü. of honours new\n"
     ]
    }
   ],
   "source": [
    "saved2_sinonyms=replace_words_with_synonyms(saved2)\n",
    "print(saved2_sinonyms)"
   ]
  },
  {
   "cell_type": "code",
   "execution_count": 60,
   "id": "550727df-54a8-449f-8927-85a16544cec8",
   "metadata": {
    "tags": []
   },
   "outputs": [
    {
     "name": "stdout",
     "output_type": "stream",
     "text": [
      "The speediest of thy head i sprung amazement seis all , what multitudes were banded to oppose his high decree and smiling to his commands above who hates me , i am happy , as the fog from the , in the water , let us advise , may speak . he was dressed in shirt of doeskin , white and polished very smoothly . she had sent through all restraint broke loose he wings his way not farr off , in whom my thoughts find all repose , my son , while pardon may be devis of honours new The speediest of thy head i got of in all , how to were banded to oppose his high decree and my to his to above who hates me , i am we , as the fog from the , in the water , let us advise , may speak . he was dressed in shirt of ü. , white and polished very smoothly . he had sent in all to broke off he wings his way not farr off , in who my us find all be , my son , while Mr may be ü. of honours new\n",
      "['the', 'speediest', 'of', 'thy', 'head', 'i', 'got', 'of', 'in', 'all', ',', 'how', 'to', 'were', 'banded', 'to', 'oppose', 'his', 'high', 'decree', 'and', 'my', 'to', 'his', 'to', 'above', 'who', 'hates', 'me', ',', 'i', 'am', 'we', ',', 'as', 'the', 'fog', 'from', 'the', ',', 'in', 'the', 'water', ',', 'let', 'us', 'advise', ',', 'may', 'speak', '.', 'he', 'was', 'dressed', 'in', 'shirt', 'of', 'ü.', ',', 'white', 'and', 'polished', 'very', 'smoothly', '.', 'he', 'had', 'sent', 'in', 'all', 'to', 'broke', 'off', 'he', 'wings', 'his', 'way', 'not', 'farr', 'off', ',', 'in', 'who', 'my', 'us', 'find', 'all', 'be', ',', 'my', 'son', ',', 'while', 'mr', 'may', 'be', 'ü.', 'of', 'honours', 'new']\n",
      "['the', 'speediest', 'of', 'thy', 'head', 'i', 'sprung', 'amazement', 'seis', 'all', ',', 'what', 'multitudes', 'were', 'banded', 'to', 'oppose', 'his', 'high', 'decree', 'and', 'smiling', 'to', 'his', 'commands', 'above', 'who', 'hates', 'me', ',', 'i', 'am', 'happy', ',', 'as', 'the', 'fog', 'from', 'the', ',', 'in', 'the', 'water', ',', 'let', 'us', 'advise', ',', 'may', 'speak', '.', 'he', 'was', 'dressed', 'in', 'shirt', 'of', 'doeskin', ',', 'white', 'and', 'polished', 'very', 'smoothly', '.', 'she', 'had', 'sent', 'through', 'all', 'restraint', 'broke', 'loose', 'he', 'wings', 'his', 'way', 'not', 'farr', 'off', ',', 'in', 'whom', 'my', 'thoughts', 'find', 'all', 'repose', ',', 'my', 'son', ',', 'while', 'pardon', 'may', 'be', 'devis', 'of', 'honours', 'new']\n",
      "0.6085598436744737\n",
      "None\n"
     ]
    }
   ],
   "source": [
    "print(calculate_bleu_score(saved2,saved2_sinonyms))"
   ]
  },
  {
   "cell_type": "code",
   "execution_count": null,
   "id": "90fea773-14ca-4561-9a63-5245324dd169",
   "metadata": {},
   "outputs": [],
   "source": []
  }
 ],
 "metadata": {
  "kernelspec": {
   "display_name": "Python 3 (ipykernel)",
   "language": "python",
   "name": "python3"
  },
  "language_info": {
   "codemirror_mode": {
    "name": "ipython",
    "version": 3
   },
   "file_extension": ".py",
   "mimetype": "text/x-python",
   "name": "python",
   "nbconvert_exporter": "python",
   "pygments_lexer": "ipython3",
   "version": "3.11.5"
  }
 },
 "nbformat": 4,
 "nbformat_minor": 5
}

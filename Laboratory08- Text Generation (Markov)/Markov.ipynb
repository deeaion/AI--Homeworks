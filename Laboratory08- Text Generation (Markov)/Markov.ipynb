{
 "cells": [
  {
   "cell_type": "markdown",
   "id": "c5ffdbdd735f5393",
   "metadata": {},
   "source": [
    "# Markov Chains"
   ]
  },
  {
   "cell_type": "markdown",
   "id": "68b81d87185eeec5",
   "metadata": {},
   "source": [
    "### with one state"
   ]
  },
  {
   "cell_type": "code",
   "execution_count": 7,
   "id": "3b2713ea6c9f1cac",
   "metadata": {
    "ExecuteTime": {
     "end_time": "2024-04-26T07:03:48.135453100Z",
     "start_time": "2024-04-26T07:03:48.053461Z"
    },
    "collapsed": false,
    "jupyter": {
     "outputs_hidden": false
    },
    "tags": []
   },
   "outputs": [],
   "source": [
    "import numpy as np\n",
    "import random"
   ]
  },
  {
   "cell_type": "code",
   "execution_count": null,
   "id": "a6b1a2281af63f5a",
   "metadata": {
    "ExecuteTime": {
     "end_time": "2024-04-26T07:30:56.345825200Z",
     "start_time": "2024-04-26T07:30:56.342722600Z"
    },
    "collapsed": false,
    "jupyter": {
     "outputs_hidden": false
    }
   },
   "outputs": [],
   "source": []
  },
  {
   "cell_type": "code",
   "execution_count": 8,
   "id": "1f8dcb56309a5871",
   "metadata": {
    "ExecuteTime": {
     "end_time": "2024-04-26T07:30:56.917636600Z",
     "start_time": "2024-04-26T07:30:56.913318Z"
    },
    "collapsed": false,
    "jupyter": {
     "outputs_hidden": false
    },
    "tags": []
   },
   "outputs": [],
   "source": [
    "def generate_sentence_one_state(words,length):\n",
    "    sentence = []\n",
    "    for i in range(length):\n",
    "        sentence.append(random.choice(words))\n",
    "    proverb= ' '.join(sentence)\n",
    "    return proverb"
   ]
  },
  {
   "cell_type": "code",
   "execution_count": 17,
   "id": "496f064ef1e7376e",
   "metadata": {
    "ExecuteTime": {
     "end_time": "2024-04-26T08:15:27.240386600Z",
     "start_time": "2024-04-26T08:15:27.209079500Z"
    },
    "collapsed": false,
    "jupyter": {
     "outputs_hidden": false
    },
    "tags": []
   },
   "outputs": [],
   "source": [
    "import re\n",
    "from nltk import word_tokenize\n",
    "\n",
    "\n",
    "def normalizeText(text, include_punctuation=False):\n",
    "    cleaned = []\n",
    "    for line in text:\n",
    "        line = line.lower()\n",
    "\n",
    "        # Optionally, use regex to ensure punctuation is separated from words\n",
    "        line = re.sub(r'([,.!?\"])', r' \\1 ', line)  # Add space around specific punctuation marks\n",
    "\n",
    "        # Tokenize the line\n",
    "        tokens = word_tokenize(line)\n",
    "\n",
    "        # Optionally filter to remove any unwanted characters (kept simple here)\n",
    "        words = [token for token in tokens if token.isalpha() or token in [\".\", \",\", \"!\", \"?\", '\"']]\n",
    "\n",
    "        # Append tokens to the cleaned list\n",
    "        cleaned.extend(words)\n",
    "    return cleaned"
   ]
  },
  {
   "cell_type": "markdown",
   "id": "1599ceaebc8f64ac",
   "metadata": {},
   "source": [
    "# with n - states"
   ]
  },
  {
   "cell_type": "code",
   "execution_count": 18,
   "id": "61a80240aff89f4a",
   "metadata": {
    "ExecuteTime": {
     "end_time": "2024-04-26T08:38:34.206595500Z",
     "start_time": "2024-04-26T08:38:34.181587300Z"
    },
    "collapsed": false,
    "jupyter": {
     "outputs_hidden": false
    },
    "tags": []
   },
   "outputs": [],
   "source": [
    "from nltk import ngrams\n",
    "from collections import defaultdict\n",
    "\n",
    "\n",
    "class MyMarkov2:\n",
    "    def __init__(self, n=1):\n",
    "        self.n = n\n",
    "        self.markov_chain = defaultdict(lambda: defaultdict(int))\n",
    "        self.tex_saved = \"\"\n",
    "\n",
    "    def generate_n_gram(self, text):\n",
    "        text = normalizeText(text)\n",
    "        return list(ngrams(text.split(), self.n))\n",
    "\n",
    "    def get_start_words(self, text):\n",
    "        tokenized_sentences = [word_tokenize(re.sub(r'([,.!?\"])', r' \\1 ', s)) for s in text]\n",
    "        start_words = set()\n",
    "        for sentence in tokenized_sentences:\n",
    "            if len(sentence) >= self.n:\n",
    "                start_words.update([' '.join(sentence[:i]).lower() for i in range(1, self.n+1)])\n",
    "        if not start_words:\n",
    "            return \"Error: No valid starting words found.\"\n",
    "        return random.choice(list(start_words))\n",
    "\n",
    "    def train(self, text):\n",
    "        self.tex_saved = text.copy()\n",
    "        text = normalizeText(text)\n",
    "        for i in range(len(text) - 2 * self.n + 1):\n",
    "            curr_state = ' '.join(text[i:i+self.n])\n",
    "            next_state = ' '.join(text[i+self.n:i+2*self.n])\n",
    "            self.markov_chain[curr_state][next_state] += 1\n",
    "\n",
    "        # Calculate probabilities after filling the dictionary\n",
    "        for curr_state, transitions in self.markov_chain.items():\n",
    "            total = sum(transitions.values())\n",
    "            for state in transitions:\n",
    "                transitions[state] /= total\n",
    "\n",
    "    def generate_sentence(self, limit=100, start='', sentences=None):\n",
    "        story = []\n",
    "        size=0\n",
    "        if not start:\n",
    "            start = self.get_start_words(self.tex_saved)\n",
    "        story.append(start.capitalize())\n",
    "        curr_state = start\n",
    "        size+=len(curr_state.split())\n",
    "\n",
    "        while size < limit:\n",
    "            if curr_state not in self.markov_chain:\n",
    "                break\n",
    "            next_states = list(self.markov_chain[curr_state].keys())\n",
    "           \n",
    "            weights = list(self.markov_chain[curr_state].values())\n",
    "            curr_state = random.choices(next_states, weights)[0]\n",
    "            story.append(curr_state)\n",
    "            size+=len(curr_state.split())\n",
    "\n",
    "        return ' '.join(story)"
   ]
  },
  {
   "cell_type": "code",
   "execution_count": 19,
   "id": "8f7612c5978e8178",
   "metadata": {
    "ExecuteTime": {
     "end_time": "2024-04-26T07:31:04.494922100Z",
     "start_time": "2024-04-26T07:31:04.490916300Z"
    },
    "collapsed": false,
    "jupyter": {
     "outputs_hidden": false
    },
    "tags": []
   },
   "outputs": [],
   "source": [
    "def generate_some_sentences_n(sentences,lenghts=[10],states=2):\n",
    "    markov=MyMarkov2(states)\n",
    "    markov.train(sentences)\n",
    "    for length in lenghts:\n",
    "        print(markov.generate_sentence(sentences=sentences,limit=length))\n",
    "        print('\\n')\n",
    "        print('----------------------------------------------------------\\n')"
   ]
  },
  {
   "cell_type": "code",
   "execution_count": 20,
   "id": "958db3b1df7f27dc",
   "metadata": {
    "ExecuteTime": {
     "end_time": "2024-04-26T07:31:06.801288900Z",
     "start_time": "2024-04-26T07:31:05.480779Z"
    },
    "collapsed": false,
    "jupyter": {
     "outputs_hidden": false
    },
    "tags": []
   },
   "outputs": [
    {
     "name": "stderr",
     "output_type": "stream",
     "text": [
      "[nltk_data] Downloading package punkt to\n",
      "[nltk_data]     C:\\Users\\Deea\\AppData\\Roaming\\nltk_data...\n",
      "[nltk_data]   Package punkt is already up-to-date!\n"
     ]
    }
   ],
   "source": [
    "\n",
    "%run Utils.ipynb"
   ]
  },
  {
   "cell_type": "code",
   "execution_count": 21,
   "id": "adcf9c4c3fb655f4",
   "metadata": {
    "ExecuteTime": {
     "end_time": "2024-04-26T07:09:16.987389Z",
     "start_time": "2024-04-26T07:09:16.063864400Z"
    },
    "collapsed": false,
    "jupyter": {
     "outputs_hidden": false
    },
    "tags": []
   },
   "outputs": [
    {
     "name": "stdout",
     "output_type": "stream",
     "text": [
      "Vrei sa\n",
      "\n",
      "\n",
      "----------------------------------------------------------\n",
      "\n",
      "A da perle la porci . a despica firul in patru . a duce cu presul . adevarul este intotdeauna\n",
      "\n",
      "\n",
      "----------------------------------------------------------\n",
      "\n",
      "Cauta o femeie care iti place tie nu la altii . calatorului ii sade bine cu\n",
      "\n",
      "\n",
      "----------------------------------------------------------\n",
      "\n",
      "Lacomia\n",
      "\n",
      "\n",
      "----------------------------------------------------------\n",
      "\n"
     ]
    }
   ],
   "source": [
    "proverbe=read_file(\"data/proverbe.txt\")\n",
    "generate_some_sentences_n(proverbe,[10,20,15,5],4)\n",
    "# proverbe[:10]"
   ]
  },
  {
   "cell_type": "code",
   "execution_count": 22,
   "id": "aab7c2698a4ea1d4",
   "metadata": {
    "ExecuteTime": {
     "end_time": "2024-04-26T07:31:13.580005400Z",
     "start_time": "2024-04-26T07:31:13.553977400Z"
    },
    "collapsed": false,
    "jupyter": {
     "outputs_hidden": false
    },
    "tags": []
   },
   "outputs": [],
   "source": [
    "def generate_one_State(sentences,lenghts=[10]):\n",
    "    generate_some_sentences_n(sentences,lenghts,1)"
   ]
  },
  {
   "cell_type": "code",
   "execution_count": null,
   "id": "c4cd7a1bf917778c",
   "metadata": {
    "ExecuteTime": {
     "end_time": "2024-04-26T07:31:14.066398900Z",
     "start_time": "2024-04-26T07:31:14.060391900Z"
    },
    "collapsed": false,
    "jupyter": {
     "outputs_hidden": false
    }
   },
   "outputs": [],
   "source": []
  },
  {
   "cell_type": "code",
   "execution_count": 23,
   "id": "f7c10b43f65d733f",
   "metadata": {
    "ExecuteTime": {
     "end_time": "2024-04-26T07:31:14.318241300Z",
     "start_time": "2024-04-26T07:31:14.285171900Z"
    },
    "collapsed": false,
    "jupyter": {
     "outputs_hidden": false
    },
    "tags": []
   },
   "outputs": [],
   "source": [
    "def generate_markov_chain_n(sentences,lengths=[10,20,30,50]):\n",
    "    markov=MyMarkov2()\n",
    "    for length in lengths:\n",
    "        print(markov.nstates(sentences,length=length))\n",
    "        print('\\n')\n",
    "        print('----------------------------------------------------------\\n')\n"
   ]
  },
  {
   "cell_type": "code",
   "execution_count": 24,
   "id": "afbc8a3410cfb5f7",
   "metadata": {
    "ExecuteTime": {
     "end_time": "2024-04-26T07:31:15.006350700Z",
     "start_time": "2024-04-26T07:31:15.002307900Z"
    },
    "collapsed": false,
    "jupyter": {
     "outputs_hidden": false
    },
    "tags": []
   },
   "outputs": [],
   "source": [
    "import re\n",
    "import markovify"
   ]
  },
  {
   "cell_type": "code",
   "execution_count": 25,
   "id": "4816ae00ce5597b",
   "metadata": {
    "ExecuteTime": {
     "end_time": "2024-04-26T07:34:58.629548800Z",
     "start_time": "2024-04-26T07:34:58.579322600Z"
    },
    "collapsed": false,
    "jupyter": {
     "outputs_hidden": false
    },
    "tags": []
   },
   "outputs": [],
   "source": [
    "def markovifyDo(sentences,length=10,states=2):\n",
    "    if isinstance(sentences, list) and all(isinstance(sentence, str) for sentence in sentences):\n",
    "        sentences = ' '.join(sentences)  # Join sentences with a space\n",
    "    sentences = re.sub(r'\\n', ' ', sentences)  # Replace newlines with spaces for consistent processing\n",
    "    sentences = re.sub(r'[ ]+', ' ', sentences)  # Remove extra spaces\n",
    "    sentences=sentences.strip()\n",
    "    text_model = markovify.Text(sentences, state_size=states)\n",
    "    return text_model.make_short_sentence(length)\n",
    "        "
   ]
  },
  {
   "cell_type": "code",
   "execution_count": 28,
   "id": "3c715f862f068b25",
   "metadata": {
    "ExecuteTime": {
     "end_time": "2024-04-26T07:31:16.475266800Z",
     "start_time": "2024-04-26T07:31:16.472234200Z"
    },
    "collapsed": false,
    "jupyter": {
     "outputs_hidden": false
    },
    "tags": []
   },
   "outputs": [],
   "source": [
    "from textblob import TextBlob"
   ]
  },
  {
   "cell_type": "code",
   "execution_count": 29,
   "id": "227ba6e0b2911be2",
   "metadata": {
    "ExecuteTime": {
     "end_time": "2024-04-26T07:31:17.444269Z",
     "start_time": "2024-04-26T07:31:17.440262300Z"
    },
    "collapsed": false,
    "jupyter": {
     "outputs_hidden": false
    },
    "tags": []
   },
   "outputs": [],
   "source": [
    "def emotion_calculate(poetry):\n",
    "    blob = TextBlob(poetry)\n",
    "    return blob.sentiment"
   ]
  },
  {
   "cell_type": "code",
   "execution_count": 30,
   "id": "2542d414cc1d5cf4",
   "metadata": {
    "ExecuteTime": {
     "end_time": "2024-04-26T07:27:33.378385Z",
     "start_time": "2024-04-26T07:27:33.357949300Z"
    },
    "collapsed": false,
    "jupyter": {
     "outputs_hidden": false
    },
    "tags": []
   },
   "outputs": [
    {
     "name": "stderr",
     "output_type": "stream",
     "text": [
      "[nltk_data] Downloading package vader_lexicon to\n",
      "[nltk_data]     C:\\Users\\Deea\\AppData\\Roaming\\nltk_data...\n",
      "[nltk_data]   Package vader_lexicon is already up-to-date!\n"
     ]
    },
    {
     "data": {
      "text/plain": [
       "True"
      ]
     },
     "execution_count": 30,
     "metadata": {},
     "output_type": "execute_result"
    }
   ],
   "source": [
    "import nltk\n",
    "nltk.download('vader_lexicon')\n",
    "\n"
   ]
  },
  {
   "cell_type": "code",
   "execution_count": null,
   "id": "80f9461d28a2f4af",
   "metadata": {
    "ExecuteTime": {
     "end_time": "2024-04-26T07:27:34.776467600Z",
     "start_time": "2024-04-26T07:27:34.772671200Z"
    },
    "collapsed": false,
    "jupyter": {
     "outputs_hidden": false
    },
    "tags": []
   },
   "outputs": [],
   "source": [
    "def sentiment_calc_nltk(sentence):\n",
    "    from nltk.sentiment.vader import SentimentIntensityAnalyzer\n",
    "    sid = SentimentIntensityAnalyzer()\n",
    "    return sid.polarity_scores(sentence)"
   ]
  },
  {
   "cell_type": "code",
   "execution_count": null,
   "id": "45c85940622c6ed4",
   "metadata": {
    "ExecuteTime": {
     "end_time": "2024-04-26T07:27:35.126518700Z",
     "start_time": "2024-04-26T07:27:35.083423Z"
    },
    "collapsed": false,
    "jupyter": {
     "outputs_hidden": false
    }
   },
   "outputs": [],
   "source": []
  },
  {
   "cell_type": "code",
   "execution_count": 37,
   "id": "ac8701eb72fb450d",
   "metadata": {
    "ExecuteTime": {
     "end_time": "2024-04-26T07:27:35.347466800Z",
     "start_time": "2024-04-26T07:27:35.308683200Z"
    },
    "collapsed": false,
    "jupyter": {
     "outputs_hidden": false
    }
   },
   "outputs": [],
   "source": []
  },
  {
   "cell_type": "code",
   "execution_count": null,
   "id": "94392c0e61a321ab",
   "metadata": {
    "collapsed": false,
    "jupyter": {
     "outputs_hidden": false
    }
   },
   "outputs": [],
   "source": []
  }
 ],
 "metadata": {
  "kernelspec": {
   "display_name": "Python 3 (ipykernel)",
   "language": "python",
   "name": "python3"
  },
  "language_info": {
   "codemirror_mode": {
    "name": "ipython",
    "version": 3
   },
   "file_extension": ".py",
   "mimetype": "text/x-python",
   "name": "python",
   "nbconvert_exporter": "python",
   "pygments_lexer": "ipython3",
   "version": "3.11.5"
  }
 },
 "nbformat": 4,
 "nbformat_minor": 5
}

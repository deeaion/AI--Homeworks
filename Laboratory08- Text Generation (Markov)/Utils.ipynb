{
 "cells": [
  {
   "cell_type": "markdown",
   "id": "8ff2157daf40463d",
   "metadata": {},
   "source": [
    "# Read from file"
   ]
  },
  {
   "cell_type": "code",
   "execution_count": 1,
   "id": "8c62d62f7432b9f2",
   "metadata": {
    "ExecuteTime": {
     "end_time": "2024-04-26T07:13:24.949624300Z",
     "start_time": "2024-04-26T07:13:24.947227Z"
    },
    "collapsed": false,
    "jupyter": {
     "outputs_hidden": false
    },
    "tags": []
   },
   "outputs": [],
   "source": [
    "\n",
    "def read_file(path):\n",
    "    data=[]\n",
    "    with open(path,encoding='utf-8') as f:\n",
    "        lines = f.readlines()\n",
    "        return [line.strip('\\n') for line in lines]"
   ]
  },
  {
   "cell_type": "code",
   "execution_count": 2,
   "id": "41e14063022e2f95",
   "metadata": {
    "ExecuteTime": {
     "end_time": "2024-04-26T07:13:26.364135300Z",
     "start_time": "2024-04-26T07:13:24.951624600Z"
    },
    "collapsed": false,
    "jupyter": {
     "outputs_hidden": false
    },
    "tags": []
   },
   "outputs": [],
   "source": [
    "from datasets import load_dataset\n",
    "\n",
    "def get_Gutenber_poetry():\n",
    "    dataset_gutenBerg = load_dataset(\"biglam/gutenberg-poetry-corpus\")\n",
    "    poetry_lines = [item['line'] for item in dataset_gutenBerg['train']]\n",
    "    return poetry_lines\n",
    "\n"
   ]
  },
  {
   "cell_type": "code",
   "execution_count": null,
   "id": "f4d07584916fd4e7",
   "metadata": {
    "ExecuteTime": {
     "end_time": "2024-04-26T07:13:26.380956400Z",
     "start_time": "2024-04-26T07:13:26.364839800Z"
    },
    "collapsed": false,
    "jupyter": {
     "outputs_hidden": false
    }
   },
   "outputs": [],
   "source": []
  },
  {
   "cell_type": "code",
   "execution_count": null,
   "id": "d4dc777b9a88e6ba",
   "metadata": {
    "ExecuteTime": {
     "end_time": "2024-04-26T08:07:53.726097100Z",
     "start_time": "2024-04-26T08:07:53.688762700Z"
    },
    "collapsed": false,
    "jupyter": {
     "outputs_hidden": false
    },
    "tags": []
   },
   "outputs": [],
   "source": []
  },
  {
   "cell_type": "code",
   "execution_count": 27,
   "id": "e2df0c049f6a74f4",
   "metadata": {
    "ExecuteTime": {
     "end_time": "2024-04-26T08:10:38.887141900Z",
     "start_time": "2024-04-26T08:10:37.739346800Z"
    },
    "collapsed": false,
    "jupyter": {
     "outputs_hidden": false
    },
    "tags": []
   },
   "outputs": [],
   "source": [
    "import spacy\n",
    "nlp = spacy.load(\"en_core_web_md\")\n",
    "def get_synonyms(word, n=5):\n",
    "    word_embedding = nlp.vocab[word].vector\n",
    "    similarities = []\n",
    "\n",
    "    for vocab_word in nlp.vocab:\n",
    "        if vocab_word.has_vector:\n",
    "            similarity = nlp.vocab[vocab_word.text].vector.dot(word_embedding) \n",
    "            similarities.append((vocab_word.text, similarity))\n",
    "\n",
    "    similarities = sorted(similarities, key=lambda x: x[1], reverse=True)\n",
    "    sinonime = [word for word, _ in similarities[:n]]\n",
    "    return sinonime"
   ]
  },
  {
   "cell_type": "code",
   "execution_count": 28,
   "id": "fdb1c3adac4ae7f5",
   "metadata": {
    "ExecuteTime": {
     "end_time": "2024-04-26T08:10:39.927922600Z",
     "start_time": "2024-04-26T08:10:39.925411600Z"
    },
    "collapsed": false,
    "jupyter": {
     "outputs_hidden": false
    },
    "tags": []
   },
   "outputs": [],
   "source": [
    "\n",
    "def replace_words_with_synonyms(text):\n",
    "    doc = nlp(text)\n",
    "    textNou = []\n",
    "    for token in doc:\n",
    "        if token.text.isalpha():  # daca e cuvant\n",
    "            sinonime = get_synonyms(token.text)\n",
    "            if sinonime:\n",
    "                textNou.append(sinonime[0])  # inlocuire cu primul sinonim\n",
    "            else:\n",
    "                textNou.append(token.text)  # pastrare cuvant original\n",
    "        else:\n",
    "            textNou.append(token.text)  # pastrare caractere care nu sunt cuvinte\n",
    "\n",
    "    return ' '.join(textNou)"
   ]
  },
  {
   "cell_type": "code",
   "execution_count": 29,
   "id": "9a59daae7026c1d5",
   "metadata": {
    "ExecuteTime": {
     "end_time": "2024-04-26T09:20:38.848331800Z",
     "start_time": "2024-04-26T09:20:38.826768200Z"
    },
    "collapsed": false,
    "jupyter": {
     "outputs_hidden": false
    },
    "tags": []
   },
   "outputs": [
    {
     "name": "stderr",
     "output_type": "stream",
     "text": [
      "[nltk_data] Downloading package punkt to\n",
      "[nltk_data]     C:\\Users\\Deea\\AppData\\Roaming\\nltk_data...\n",
      "[nltk_data]   Package punkt is already up-to-date!\n"
     ]
    }
   ],
   "source": [
    "import nltk\n",
    "from nltk.translate.bleu_score import sentence_bleu, corpus_bleu\n",
    "from nltk.tokenize import word_tokenize\n",
    "\n",
    "# Ensure you have the necessary NLTK corpora downloaded\n",
    "nltk.download('punkt')\n",
    "\n",
    "def calculate_bleu_score(references, candidate):\n",
    "    # Tokenize all reference texts\n",
    "    print(references,candidate)\n",
    "    generated_tokens = nltk.word_tokenize(candidate.lower()) #tokenizare poezie generata\n",
    "    print(generated_tokens)\n",
    "    reference_tokenized = nltk.word_tokenize(references.lower()) #tokenizare pentru fiecare poezie din corpus\n",
    "    print(reference_tokenized)\n",
    "    bleu_scores = sentence_bleu([reference_tokenized], generated_tokens)\n",
    "    print(bleu_scores)"
   ]
  },
  {
   "cell_type": "code",
   "execution_count": null,
   "id": "a51e9c05b728b1a",
   "metadata": {
    "collapsed": false,
    "jupyter": {
     "outputs_hidden": false
    }
   },
   "outputs": [],
   "source": []
  },
  {
   "cell_type": "code",
   "execution_count": null,
   "id": "47e3e10f-a34a-4fca-9df7-cd4f83b960cf",
   "metadata": {},
   "outputs": [],
   "source": []
  }
 ],
 "metadata": {
  "kernelspec": {
   "display_name": "Python 3 (ipykernel)",
   "language": "python",
   "name": "python3"
  },
  "language_info": {
   "codemirror_mode": {
    "name": "ipython",
    "version": 3
   },
   "file_extension": ".py",
   "mimetype": "text/x-python",
   "name": "python",
   "nbconvert_exporter": "python",
   "pygments_lexer": "ipython3",
   "version": "3.11.5"
  }
 },
 "nbformat": 4,
 "nbformat_minor": 5
}

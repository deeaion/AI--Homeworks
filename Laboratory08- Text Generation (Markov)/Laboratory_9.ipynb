{
 "cells": [
  {
   "cell_type": "markdown",
   "id": "12b7adad174ea6b9",
   "metadata": {},
   "source": [
    "# Generative AI - generate texts\n",
    "\n",
    "\n"
   ]
  },
  {
   "cell_type": "markdown",
   "id": "4fd96270eb4ba524",
   "metadata": {},
   "source": [
    "# Problema 1\n",
    "   - Generare in limba romana : prin transformarea unui text intr-un Markov Chain si generarea unui proverb nou sau poezie noua\n",
    "      - Var 1: lant Markov cu o stare\n",
    "      - Var 2: lant Markov cu n stari\n",
    "   (stare = numărul de cuvinte pe baza cărora se realizează predicția)\n",
    "   \n"
   ]
  },
  {
   "cell_type": "code",
   "execution_count": 2,
   "id": "1cf2a777f962467d",
   "metadata": {
    "ExecuteTime": {
     "end_time": "2024-04-25T09:26:19.988711900Z",
     "start_time": "2024-04-25T09:26:19.955640800Z"
    },
    "collapsed": false,
    "jupyter": {
     "outputs_hidden": false
    }
   },
   "outputs": [],
   "source": [
    "%load Markov.ipynb"
   ]
  },
  {
   "cell_type": "code",
   "execution_count": null,
   "id": "39df3026ecd5c219",
   "metadata": {
    "collapsed": false,
    "jupyter": {
     "outputs_hidden": false
    }
   },
   "outputs": [],
   "source": []
  },
  {
   "cell_type": "code",
   "execution_count": null,
   "id": "9d32ff9a831a183",
   "metadata": {
    "collapsed": false,
    "jupyter": {
     "outputs_hidden": false
    }
   },
   "outputs": [],
   "source": []
  },
  {
   "cell_type": "code",
   "execution_count": null,
   "id": "9f36de1c22efd37a",
   "metadata": {
    "collapsed": false,
    "jupyter": {
     "outputs_hidden": false
    }
   },
   "outputs": [],
   "source": []
  },
  {
   "cell_type": "code",
   "execution_count": null,
   "id": "initial_id",
   "metadata": {
    "collapsed": false,
    "jupyter": {
     "outputs_hidden": false
    }
   },
   "outputs": [],
   "source": []
  }
 ],
 "metadata": {
  "kernelspec": {
   "display_name": "Python 3 (ipykernel)",
   "language": "python",
   "name": "python3"
  },
  "language_info": {
   "codemirror_mode": {
    "name": "ipython",
    "version": 3
   },
   "file_extension": ".py",
   "mimetype": "text/x-python",
   "name": "python",
   "nbconvert_exporter": "python",
   "pygments_lexer": "ipython3",
   "version": "3.11.5"
  }
 },
 "nbformat": 4,
 "nbformat_minor": 5
}

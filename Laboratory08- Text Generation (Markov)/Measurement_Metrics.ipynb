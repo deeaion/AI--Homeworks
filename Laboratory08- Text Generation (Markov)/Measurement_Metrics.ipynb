{
 "cells": [
  {
   "cell_type": "markdown",
   "id": "4ebe6be556c069f0",
   "metadata": {},
   "source": [
    "# Determining the emotion"
   ]
  },
  {
   "cell_type": "code",
   "execution_count": 1,
   "id": "6c76aced77778f49",
   "metadata": {
    "ExecuteTime": {
     "end_time": "2024-04-25T09:23:36.982028300Z",
     "start_time": "2024-04-25T09:23:36.967040500Z"
    },
    "collapsed": false,
    "jupyter": {
     "outputs_hidden": false
    }
   },
   "outputs": [],
   "source": [
    "# imports"
   ]
  },
  {
   "cell_type": "markdown",
   "id": "54b4b7728e6cf494",
   "metadata": {},
   "source": [
    "### with nltk"
   ]
  },
  {
   "cell_type": "code",
   "execution_count": 1,
   "id": "bfa169f43e353614",
   "metadata": {
    "ExecuteTime": {
     "end_time": "2024-04-25T09:23:36.982966800Z",
     "start_time": "2024-04-25T09:23:36.981018400Z"
    },
    "collapsed": false,
    "jupyter": {
     "outputs_hidden": false
    }
   },
   "outputs": [],
   "source": []
  },
  {
   "cell_type": "markdown",
   "id": "54248cbde78da9ab",
   "metadata": {},
   "source": [
    "### with textblob"
   ]
  },
  {
   "cell_type": "code",
   "execution_count": 1,
   "id": "ad719508113d5bce",
   "metadata": {
    "ExecuteTime": {
     "end_time": "2024-04-25T09:23:36.991975100Z",
     "start_time": "2024-04-25T09:23:36.982966800Z"
    },
    "collapsed": false,
    "jupyter": {
     "outputs_hidden": false
    }
   },
   "outputs": [],
   "source": []
  },
  {
   "cell_type": "markdown",
   "id": "3739dfd7687eab0f",
   "metadata": {},
   "source": [
    "### BLEU ( Bilingual Evaluation Understudy Score)"
   ]
  },
  {
   "cell_type": "code",
   "execution_count": 1,
   "id": "7845a7891372c2a",
   "metadata": {
    "ExecuteTime": {
     "end_time": "2024-04-26T02:41:19.842822800Z",
     "start_time": "2024-04-26T02:41:19.218660700Z"
    },
    "collapsed": false,
    "jupyter": {
     "outputs_hidden": false
    }
   },
   "outputs": [],
   "source": [
    "from nltk.translate.bleu_score import sentence_bleu\n",
    "from nltk.tokenize import word_tokenize\n",
    "import math\n",
    "from collections import Counter"
   ]
  },
  {
   "cell_type": "code",
   "execution_count": 2,
   "id": "96cae56a4246e60b",
   "metadata": {
    "ExecuteTime": {
     "end_time": "2024-04-26T02:41:19.847814Z",
     "start_time": "2024-04-26T02:41:19.843823700Z"
    },
    "collapsed": false,
    "jupyter": {
     "outputs_hidden": false
    }
   },
   "outputs": [],
   "source": [
    "def calculate_precision(candidate, references, n):\n",
    "    cand_ngrams = Counter(ngram(candidate, n))\n",
    "    max_refs_ngrams = {}\n",
    "    for ref in references:\n",
    "        ref_ngrams = Counter(ngram(ref, n))\n",
    "        for ng in ref_ngrams:\n",
    "            max_refs_ngrams[ng] = max(max_refs_ngrams.get(ng, 0), ref_ngrams[ng])\n",
    "    \n",
    "    clipped_count = 0\n",
    "    total_count = 0\n",
    "    \n",
    "    for ng in cand_ngrams:\n",
    "        clipped_count += min(cand_ngrams[ng], max_refs_ngrams.get(ng, 0))\n",
    "        total_count += cand_ngrams[ng]\n",
    "\n",
    "    return clipped_count / total_count if total_count > 0 else 0\n",
    "\n",
    "def brevity_penalty(candidate, references):\n",
    "    c = len(candidate)\n",
    "    r = min((abs(len(ref) - c), ref) for ref in references)[1]\n",
    "\n",
    "    if c > r:\n",
    "        return 1\n",
    "    else:\n",
    "        return math.exp(1 - r / c)\n",
    "\n",
    "def bleu_score(candidate, references):\n",
    "    p = [calculate_precision(candidate, references, i) for i in range(1, 5)]\n",
    "    bp = brevity_penalty(candidate, references)\n",
    "    \n",
    "    return bp * math.exp(sum(math.log(p_i) for p_i in p if p_i))\n"
   ]
  },
  {
   "cell_type": "code",
   "execution_count": null,
   "id": "fdd1ad352af715de",
   "metadata": {
    "collapsed": false,
    "jupyter": {
     "outputs_hidden": false
    }
   },
   "outputs": [],
   "source": []
  }
 ],
 "metadata": {
  "kernelspec": {
   "display_name": "Python 3 (ipykernel)",
   "language": "python",
   "name": "python3"
  },
  "language_info": {
   "codemirror_mode": {
    "name": "ipython",
    "version": 3
   },
   "file_extension": ".py",
   "mimetype": "text/x-python",
   "name": "python",
   "nbconvert_exporter": "python",
   "pygments_lexer": "ipython3",
   "version": "3.11.5"
  }
 },
 "nbformat": 4,
 "nbformat_minor": 5
}

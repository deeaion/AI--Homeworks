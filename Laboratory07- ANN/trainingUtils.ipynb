{
 "cells": [
  {
   "cell_type": "code",
   "execution_count": null,
   "outputs": [],
   "source": [
    "import itertools\n",
    "\n",
    "# Imports\n",
    "import pandas as pd\n",
    "import numpy as np\n",
    "import os\n",
    "import random\n",
    "from PIL import Image\n",
    "import matplotlib.pyplot as plt\n",
    "from sklearn.metrics import confusion_matrix\n",
    "import itertools \n",
    "from sklearn.preprocessing import StandardScaler\n",
    "import numpy as np \n",
    "from sklearn import neural_network\n",
    "import matplotlib.pyplot as plt \n",
    "from sklearn import neural_network\n",
    "from sklearn import linear_model\n",
    "from sklearn.datasets import load_iris"
   ],
   "metadata": {
    "collapsed": false
   },
   "id": "d3db584af35909d9"
  },
  {
   "cell_type": "code",
   "execution_count": null,
   "outputs": [],
   "source": [
    "def train_classifier_One_Vs_All():\n",
    "    classifier=neural_network.MLPClassifier(hidden_layer_sizes=(5,),activation='relu',max_iter=1000,solver='sgd',verbose=10,random_state=1,learning_rate_init=.1)\n",
    "    return classifier\n"
   ],
   "metadata": {
    "collapsed": false
   },
   "id": "initial_id"
  },
  {
   "cell_type": "code",
   "execution_count": null,
   "outputs": [],
   "source": [
    "def train_classifier_MultiClass():\n",
    "    classifier=neural_network.MLPClassifier(hidden_layer_sizes=(5,),activation='relu',max_iter=1000,solver='sgd',verbose=10,random_state=1,learning_rate_init=.1)\n",
    "    return classifier"
   ],
   "metadata": {
    "collapsed": false
   },
   "id": "d285bb7dd066e2a0"
  },
  {
   "cell_type": "code",
   "execution_count": null,
   "outputs": [],
   "source": [
    "def fit_data(classifier,inputsTrain,outputsTrain):\n",
    "    classifier.fit(inputsTrain,outputsTrain)\n",
    "    return classifier"
   ],
   "metadata": {
    "collapsed": false
   },
   "id": "85a1de67718f8012"
  },
  {
   "cell_type": "code",
   "execution_count": null,
   "outputs": [],
   "source": [],
   "metadata": {
    "collapsed": false
   },
   "id": "ee87bfdfcb3730f3"
  }
 ],
 "metadata": {
  "kernelspec": {
   "display_name": "Python 3",
   "language": "python",
   "name": "python3"
  },
  "language_info": {
   "codemirror_mode": {
    "name": "ipython",
    "version": 2
   },
   "file_extension": ".py",
   "mimetype": "text/x-python",
   "name": "python",
   "nbconvert_exporter": "python",
   "pygments_lexer": "ipython2",
   "version": "2.7.6"
  }
 },
 "nbformat": 4,
 "nbformat_minor": 5
}

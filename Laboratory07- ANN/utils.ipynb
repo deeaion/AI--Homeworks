{
 "cells": [
  {
   "cell_type": "code",
   "execution_count": 1,
   "id": "initial_id",
   "metadata": {
    "collapsed": true,
    "ExecuteTime": {
     "end_time": "2024-04-18T20:08:34.876233800Z",
     "start_time": "2024-04-18T20:08:33.585488400Z"
    }
   },
   "outputs": [],
   "source": [
    "import itertools\n",
    "\n",
    "# Imports\n",
    "import pandas as pd\n",
    "import numpy as np\n",
    "import os\n",
    "import random\n",
    "from PIL import Image\n",
    "import matplotlib.pyplot as plt\n",
    "from sklearn.metrics import confusion_matrix\n",
    "import itertools \n",
    "from sklearn.preprocessing import StandardScaler\n",
    "import numpy as np \n",
    "from sklearn import neural_network\n",
    "import matplotlib.pyplot as plt \n",
    "from sklearn import neural_network\n",
    "from sklearn import linear_model\n",
    "from sklearn.datasets import load_iris\n",
    "from sklearn.metrics import confusion_matrix, accuracy_score"
   ]
  },
  {
   "cell_type": "markdown",
   "source": [
    "## Spliting Data into train and test\n"
   ],
   "metadata": {
    "collapsed": false
   },
   "id": "3c113f4e47eb82b3"
  },
  {
   "cell_type": "code",
   "execution_count": 2,
   "outputs": [],
   "source": [
    "def splitData(inputs, outputs):\n",
    "    np.random.seed(5)\n",
    "    indexes = [i for i in range(len(inputs))]\n",
    "    trainSample = np.random.choice(indexes, int(0.8 * len(inputs)), replace = False)\n",
    "    testSample = [i for i in indexes  if not i in trainSample]\n",
    "\n",
    "    trainInputs = [inputs[i] for i in trainSample]\n",
    "    trainOutputs = [outputs[i] for i in trainSample]\n",
    "    testInputs = [inputs[i] for i in testSample]\n",
    "    testOutputs = [outputs[i] for i in testSample]\n",
    "    \n",
    "    return trainInputs, trainOutputs, testInputs, testOutputs"
   ],
   "metadata": {
    "collapsed": false,
    "ExecuteTime": {
     "end_time": "2024-04-18T20:08:34.886347600Z",
     "start_time": "2024-04-18T20:08:34.878233700Z"
    }
   },
   "id": "6eb0ca9538337f5a"
  },
  {
   "cell_type": "markdown",
   "source": [
    "## Normalize Data"
   ],
   "metadata": {
    "collapsed": false
   },
   "id": "811810532142597e"
  },
  {
   "cell_type": "code",
   "execution_count": 1,
   "outputs": [],
   "source": [
    "def normalizeData(inputsTrain,inputsTest):\n",
    "    scaler=StandardScaler()\n",
    "    #if i send the data as a list [a,b,c] for the scaller i need to transform it into [[a],[b],[c]] and after the transformation i need to transform it back\n",
    "    if not isinstance(inputsTrain[0],list):\n",
    "        inputsTrain=[[el] for el in inputsTrain]\n",
    "        inputsTest=[[el] for el in inputsTest]\n",
    "        scaler.fit(inputsTrain)# doar aici fac fit pe datele de antrenare\n",
    "        normalizedInputsTraintr=scaler.transform(inputsTrain)\n",
    "        normalizedInputsTesttr=scaler.transform(inputsTest)\n",
    "        normalizedInputsTrain=[el[0] for el in normalizedInputsTraintr]\n",
    "        normalizedInputsTest=[el[0] for el in normalizedInputsTesttr]\n",
    "    else:\n",
    "        # daca datele sunt deja in formatul [[a],[b],[c]] atunci fac fit pe toate datele\n",
    "        scaler.fit(inputsTrain)\n",
    "        normalizedInputsTrain=scaler.transform(inputsTrain)\n",
    "        normalizedInputsTest=scaler.transform(inputsTest)\n",
    "    return normalizedInputsTrain,normalizedInputsTest\n"
   ],
   "metadata": {
    "collapsed": false,
    "ExecuteTime": {
     "end_time": "2024-04-19T04:52:26.554043500Z",
     "start_time": "2024-04-19T04:52:26.548891100Z"
    }
   },
   "id": "944938ca0d1ce772"
  },
  {
   "cell_type": "markdown",
   "source": [
    "# Plotting Data Distribution"
   ],
   "metadata": {
    "collapsed": false
   },
   "id": "6ca89fd30a5270be"
  },
  {
   "cell_type": "code",
   "execution_count": 4,
   "outputs": [],
   "source": [
    "def plotDataDistribution(inputs,outputs,features,outputNames):\n",
    "    labels= set(outputs)\n",
    "    noData=len(inputs)\n",
    "    colors=['r','g','b']\n",
    "    for label,color in zip(labels,colors):\n",
    "        plt.scatter([inputs[i][0] for i in range(len(inputs)) if outputs[i]==label],[inputs[i][1] for i in range(len(inputs)) if outputs[i]==label],c=color,label=outputNames[label])\n",
    "        \n",
    "    plt.xlabel(features[0])\n",
    "    plt.ylabel(features[1])\n",
    "    plt.legend()\n",
    "    plt.show()\n"
   ],
   "metadata": {
    "collapsed": false,
    "ExecuteTime": {
     "end_time": "2024-04-18T20:08:34.899548900Z",
     "start_time": "2024-04-18T20:08:34.892090200Z"
    }
   },
   "id": "b2418d79ff1a58fe"
  },
  {
   "cell_type": "markdown",
   "source": [
    "## Plotting training data and distribution"
   ],
   "metadata": {
    "collapsed": false
   },
   "id": "68ade70122661432"
  },
  {
   "cell_type": "code",
   "execution_count": 2,
   "outputs": [],
   "source": [
    "def plotTrainingDataDistribution(inputsTrain,outputsTrain,features,outputNames):\n",
    "    bins=range(len(outputNames)+1)\n",
    "    plt.hist(outputsTrain,bins,rwidth=0.8)\n",
    "    binw_w=(max(bins)-min(bins))/(len(bins)-1)\n",
    "    plt.xticks(np.arange(min(bins)+binw_w/2,max(bins),binw_w),outputNames)\n",
    "    plt.show()"
   ],
   "metadata": {
    "collapsed": false,
    "ExecuteTime": {
     "end_time": "2024-04-19T05:23:48.954893500Z",
     "start_time": "2024-04-19T05:23:48.945972600Z"
    }
   },
   "id": "fe269da6d71106a1"
  },
  {
   "cell_type": "markdown",
   "source": [
    "## Evaluating Multi Class"
   ],
   "metadata": {
    "collapsed": false
   },
   "id": "2be0ae43023199c8"
  },
  {
   "cell_type": "code",
   "execution_count": 6,
   "outputs": [],
   "source": [
    "def evalMultiClass(realLabels,predictedLabels,labelNames):\n",
    "    confMatrix=confusion_matrix(realLabels,predictedLabels)\n",
    "    acc=sum([confMatrix[i][i] for i in range(len(labelNames))])/len(realLabels)\n",
    "    precision={}\n",
    "    recall={}\n",
    "    for i in range(len(labelNames)):\n",
    "        precision[labelNames[i]]=confMatrix[i][i]/sum([confMatrix[j][i] for j in range (len(labelNames))])\n",
    "        recall[labelNames[i]]= confMatrix[i][i] / sum([confMatrix[i][j] for j in range (len(labelNames))])\n",
    "    return acc,precision,recall,confMatrix"
   ],
   "metadata": {
    "collapsed": false,
    "ExecuteTime": {
     "end_time": "2024-04-18T20:08:34.914110900Z",
     "start_time": "2024-04-18T20:08:34.904416700Z"
    }
   },
   "id": "3a257cf2e12843be"
  },
  {
   "cell_type": "markdown",
   "source": [
    "## Another one that I do not use"
   ],
   "metadata": {
    "collapsed": false
   },
   "id": "c1962511b05e6be5"
  },
  {
   "cell_type": "code",
   "execution_count": 3,
   "outputs": [],
   "source": [
    "def evaluate(testOutputs, predictedLabels, labels, division = 1):\n",
    "    cmx = confusion_matrix(testOutputs, predictedLabels)\n",
    "    accuracy = accuracy_score(testOutputs, predictedLabels)\n",
    "    # accuracy = sum([cmx[i][i] for i in range(len(predictedLabels) // division)]) / len(testOutputs)\n",
    "    precision = {}\n",
    "    recall = {}\n",
    "    for i in range(len(labels)):\n",
    "        precision[labels[i]] = cmx[i][i] / sum([cmx[j][i] for j in range(len(labels))])\n",
    "        recall[labels[i]] = cmx[i][i] / sum([cmx[i][j] for j in range(len(labels))])\n",
    "    print('Accuracy: ', accuracy)\n",
    "    print('Precision: ', precision)\n",
    "    print('Recall: ', recall)\n",
    "    return accuracy, precision, recall, cmx"
   ],
   "metadata": {
    "collapsed": false,
    "ExecuteTime": {
     "end_time": "2024-04-19T05:24:18.654746900Z",
     "start_time": "2024-04-19T05:24:18.653236Z"
    }
   },
   "id": "a6bccf3ef402d9d2"
  },
  {
   "cell_type": "markdown",
   "source": [
    "## Plotting the confusion matrix given"
   ],
   "metadata": {
    "collapsed": false
   },
   "id": "1844b32d963643bf"
  },
  {
   "cell_type": "code",
   "execution_count": 8,
   "outputs": [],
   "source": [
    "def plotConfusionMatrix(cm,classNames,title):\n",
    "    classes=classNames\n",
    "    plt.figure()\n",
    "    plt.imshow(cm,interpolation='nearest',cmap=plt.cm.Blues)\n",
    "    plt.title('Confusion Matrix' + title)\n",
    "    plt.colorbar()\n",
    "    tick_marks=np.arange(len(classes))\n",
    "    plt.xticks(tick_marks,classes,rotation=45)\n",
    "    plt.yticks(tick_marks,classes)\n",
    "    text_format='d'\n",
    "    thresh=cm.max()/2\n",
    "    for row,column in itertools.product(range(cm.shape[0]),range(cm.shape[1])):\n",
    "        plt.text(column,row,format(cm[row,column],text_format),horizontalalignment='center',color='white' if cm[row,column]>thresh else 'black')\n",
    "    plt.ylabel('True label')\n",
    "    plt.xlabel('Predicted label')\n",
    "    plt.tight_layout()\n",
    "    plt.show()\n"
   ],
   "metadata": {
    "collapsed": false,
    "ExecuteTime": {
     "end_time": "2024-04-18T20:08:35.378243100Z",
     "start_time": "2024-04-18T20:08:35.371930100Z"
    }
   },
   "id": "697fc5c44723c42"
  },
  {
   "cell_type": "markdown",
   "source": [
    "## Plot the images predicted \n"
   ],
   "metadata": {
    "collapsed": false
   },
   "id": "f8ce057d02c31d44"
  },
  {
   "cell_type": "code",
   "execution_count": 4,
   "outputs": [],
   "source": [
    "def plotImagesAndPredictions(testInputs, testOutputs, predictedLabels,n=10,m=5,figsize=(7,7)):\n",
    "\n",
    "    fig, axes = plt.subplots(n, m, figsize = (7, 7))\n",
    "    fig.tight_layout() \n",
    "    for i in range(0, n):\n",
    "        for j in range(0, m):\n",
    "            axes[i][j].imshow(testInputs[m * i + j])\n",
    "            if (testOutputs[m * i + j] == predictedLabels[m * i + j]):\n",
    "                font = 'normal'\n",
    "            else:\n",
    "                font = 'bold'\n",
    "            axes[i][j].set_title('real ' + str(testOutputs[m * i + j]) + '\\npredicted ' + str(predictedLabels[m * i + j]), fontweight=font)\n",
    "            axes[i][j].set_axis_off()\n",
    "            \n",
    "    plt.show()"
   ],
   "metadata": {
    "collapsed": false,
    "ExecuteTime": {
     "end_time": "2024-04-18T14:33:07.793731700Z",
     "start_time": "2024-04-18T14:33:07.782887300Z"
    }
   },
   "id": "b9cc474e1350bf63"
  },
  {
   "cell_type": "markdown",
   "source": [
    "## Flatten the data"
   ],
   "metadata": {
    "collapsed": false
   },
   "id": "12dd93ef45548e68"
  },
  {
   "cell_type": "code",
   "execution_count": 1,
   "outputs": [],
   "source": [
    "def flatten(mat):\n",
    "    x=[]\n",
    "    for line in mat:\n",
    "        for el in line:\n",
    "            x.append(el)\n",
    "    return x\n"
   ],
   "metadata": {
    "collapsed": false,
    "ExecuteTime": {
     "end_time": "2024-04-19T05:32:17.306135200Z",
     "start_time": "2024-04-19T05:32:17.302993700Z"
    }
   },
   "id": "b54c3ec3fdb92e8"
  },
  {
   "cell_type": "markdown",
   "source": [
    "# Flatten inputs "
   ],
   "metadata": {
    "collapsed": false
   },
   "id": "1826d05d6ad56a2b"
  },
  {
   "cell_type": "code",
   "execution_count": 6,
   "outputs": [],
   "source": [
    "def flatten_data(train_inputs,test_inputs):\n",
    "    train_inputs=[flatten(el) for el in train_inputs]\n",
    "    test_inputs=[flatten(el) for el in test_inputs]\n",
    "    return train_inputs,test_inputs\n"
   ],
   "metadata": {
    "collapsed": false,
    "ExecuteTime": {
     "end_time": "2024-04-18T15:03:39.442459100Z",
     "start_time": "2024-04-18T15:03:39.435421500Z"
    }
   },
   "id": "13824c145a4f932a"
  },
  {
   "cell_type": "code",
   "execution_count": null,
   "outputs": [],
   "source": [],
   "metadata": {
    "collapsed": false
   },
   "id": "5d3d7d6e25b3ab1c"
  }
 ],
 "metadata": {
  "kernelspec": {
   "display_name": "Python 3",
   "language": "python",
   "name": "python3"
  },
  "language_info": {
   "codemirror_mode": {
    "name": "ipython",
    "version": 2
   },
   "file_extension": ".py",
   "mimetype": "text/x-python",
   "name": "python",
   "nbconvert_exporter": "python",
   "pygments_lexer": "ipython2",
   "version": "2.7.6"
  }
 },
 "nbformat": 4,
 "nbformat_minor": 5
}

{
 "cells": [
  {
   "cell_type": "code",
   "execution_count": 1,
   "outputs": [],
   "source": [
    "import numpy as np"
   ],
   "metadata": {
    "collapsed": false,
    "ExecuteTime": {
     "end_time": "2024-04-18T18:18:03.452030200Z",
     "start_time": "2024-04-18T18:18:03.367536800Z"
    }
   },
   "id": "9a73ff81f58f0acc"
  },
  {
   "cell_type": "markdown",
   "source": [
    "## Define the ANN class"
   ],
   "metadata": {
    "collapsed": false
   },
   "id": "6967f90a59ce2d36"
  },
  {
   "cell_type": "code",
   "execution_count": 1,
   "outputs": [],
   "source": [
    "class ANN():\n",
    "    def __init__(self,input_size=128*128*3,hidden_size=12,output_size=1):\n",
    "        #initialize the weights\n",
    "        self.a1,self.a2,self.z1,self.z2 = None,None,None,None\n",
    "        self.w1 = np.random.randn(hidden_size,input_size)*0.01\n",
    "        self.w2 = np.random.rand(output_size,hidden_size)*0.01\n",
    "        #initialize the biases\n",
    "        self.b1 = np.zeros((hidden_size,1))\n",
    "        self.b2 = np.zeros((output_size,1))\n",
    "        self.learning_rate = 0.01\n",
    "    def sigmoid(self,z):\n",
    "        return 1/(1+np.exp(-z))\n",
    "    def relu(self,z):\n",
    "        return np.maximum(0,z)\n",
    "    def relu_derivative(self,z):\n",
    "        return np.where(z>0,1,0)\n",
    "    def forward(self, x):\n",
    "        self.z1 = np.dot(self.w1, x) + self.b1  # z1 = w1 * x + b1\n",
    "        self.a1 = self.relu(self.z1)  # a1 = relu(z1)\n",
    "        self.z2 = np.dot(self.w2, self.a1) + self.b2  # z2 = w2 * a1 + b2\n",
    "        self.a2 = self.sigmoid(self.z2)  # a2 = sigmoid(z2)\n",
    "        return self.a2\n",
    "    def compute_loss(self,x,y):\n",
    "        a2 = self.forward(x)\n",
    "        loss = -y*np.log(a2)-(1-y)*np.log(1-a2)\n",
    "        return loss\n",
    "    def backward(self,x,y):\n",
    "        m = y.shape[1]\n",
    "        dZ2 = self.a2 - y\n",
    "        dW2 = (1 / m) * np.dot(dZ2, self.a1.T)\n",
    "        db2 = (1 / m) * np.sum(dZ2, axis=1, keepdims=True)\n",
    "        dZ1 = np.dot(self.w2.T, dZ2) * self.relu_derivative(self.z1)\n",
    "        dW1 = (1 / m) * np.dot(dZ1, x.T)\n",
    "        db1 = (1 / m) * np.sum(dZ1, axis=1, keepdims=True)\n",
    "\n",
    "        # Update parameters\n",
    "        self.w1 -= self.learning_rate * dW1\n",
    "        self.b1 -= self.learning_rate * db1\n",
    "        self.w2 -= self.learning_rate * dW2\n",
    "        self.b2 -= self.learning_rate * db2\n",
    "    def compute_loss(self, Y):\n",
    "        m = Y.shape[1]\n",
    "        logprobs = np.multiply(np.log(self.a2), Y) + np.multiply((1 - Y), np.log(1 - self.a2))\n",
    "        loss = -np.sum(logprobs) / m\n",
    "        return loss\n",
    "    def fit(self,X,Y,epochs=1000,learning_rate=0.01):\n",
    "        self.learning_rate = learning_rate\n",
    "        for i in range(epochs):\n",
    "            f=self.forward(X)\n",
    "            loss=self.compute_loss(Y)\n",
    "            self.backward(X,Y)\n",
    "            if i%100==0:\n",
    "                print(f'Loss at epoch {i} is {loss}')\n",
    "    def predict(self, X, threshold=0.5):\n",
    "        predictions = self.forward(X)\n",
    "        return predictions > threshold\n",
    "    \n",
    "\n",
    "    \n",
    "    "
   ],
   "metadata": {
    "collapsed": false,
    "ExecuteTime": {
     "end_time": "2024-04-19T05:44:01.201030200Z",
     "start_time": "2024-04-19T05:44:01.197117Z"
    }
   },
   "id": "initial_id"
  },
  {
   "cell_type": "code",
   "execution_count": 2,
   "outputs": [],
   "source": [
    "def reshape_data(train_inputs,train_outputs,test_inputs,test_outputs):\n",
    "    train_inputs = np.array(train_inputs)\n",
    "    train_inputs = np.array(train_inputs).reshape(train_inputs.shape[0], -1).T\n",
    "    train_outputs = np.array(train_outputs).reshape(1, -1)\n",
    "    test_inputs = np.array(test_inputs)\n",
    "    test_inputs = np.array(test_inputs).reshape(test_inputs.shape[0], -1).T\n",
    "    test_outputs = np.array(test_outputs)\n",
    "    return train_inputs,train_outputs,test_inputs,test_outputs"
   ],
   "metadata": {
    "collapsed": false,
    "ExecuteTime": {
     "end_time": "2024-04-19T05:44:01.341922400Z",
     "start_time": "2024-04-19T05:44:01.337951700Z"
    }
   },
   "id": "a275bf82896946d6"
  },
  {
   "cell_type": "code",
   "execution_count": 3,
   "outputs": [],
   "source": [
    "import numpy as np\n",
    "\n",
    "def with_MyAnn(train_inputs, train_outputs, test_inputs, test_outputs, output_names=['no_sepia', 'sepia']):\n",
    "    # Reshape the data\n",
    "    train_inputs, train_outputs, test_inputs, test_outputs = reshape_data(train_inputs, train_outputs, test_inputs, test_outputs)\n",
    "\n",
    "    annTool = ANN(input_size=49152, hidden_size=23, output_size=1) \n",
    "    annTool.fit(train_inputs, train_outputs)\n",
    "    \n",
    "    computed_outputs = annTool.predict(test_inputs)  \n",
    "    computed_outputs = computed_outputs[0]\n",
    "    \n",
    "    computed_outputs=[1 if i==True else 0 for i in computed_outputs]\n",
    "    return computed_outputs\n"
   ],
   "metadata": {
    "collapsed": false,
    "ExecuteTime": {
     "end_time": "2024-04-19T05:44:02.677561Z",
     "start_time": "2024-04-19T05:44:02.601249Z"
    }
   },
   "id": "77ee6a76603da51e"
  },
  {
   "cell_type": "code",
   "execution_count": 4,
   "outputs": [],
   "source": [
    "def run_myann_experiments(train_inputs, train_outputs, test_inputs, test_outputs):\n",
    "    configurations = [\n",
    "        {'epochs': 500, 'learning_rate': 0.01, 'hidden_size': 12},\n",
    "        {'epochs': 1000, 'learning_rate': 0.005, 'hidden_size': 12},\n",
    "        {'epochs': 500, 'learning_rate': 0.01, 'hidden_size': 24},\n",
    "        {'epochs': 1000, 'learning_rate': 0.005, 'hidden_size': 24},\n",
    "        {'epochs': 500, 'learning_rate': 0.01, 'hidden_size': 36},\n",
    "        {'epochs': 1000, 'learning_rate': 0.005, 'hidden_size': 36}\n",
    "    ]\n",
    "    train_inputs, train_outputs, test_inputs, test_outputs = reshape_data(train_inputs, train_outputs, test_inputs, test_outputs)\n",
    "    results = []\n",
    "    for config in configurations:\n",
    "        model = ANN(input_size=train_inputs.shape[0], hidden_size=config['hidden_size'], output_size=train_outputs.shape[0])\n",
    "        print(f\"Training with config: epochs={config['epochs']}, learning_rate={config['learning_rate']}, hidden_size={config['hidden_size']}\")\n",
    "        model.fit(train_inputs, train_outputs, epochs=config['epochs'], learning_rate=config['learning_rate'])\n",
    "        predictions = model.predict(test_inputs)\n",
    "        accuracy = np.mean((predictions == test_outputs).astype(int))  # Simple accuracy calculation\n",
    "        results.append({'config': config, 'accuracy': accuracy})\n",
    "        print(f\"Accuracy: {accuracy}\")\n",
    "    \n",
    "    return results\n"
   ],
   "metadata": {
    "collapsed": false,
    "ExecuteTime": {
     "end_time": "2024-04-19T05:44:03.781170700Z",
     "start_time": "2024-04-19T05:44:03.773468800Z"
    }
   },
   "id": "8cb9cd1561080f87"
  },
  {
   "cell_type": "code",
   "execution_count": 33,
   "outputs": [],
   "source": [],
   "metadata": {
    "collapsed": false,
    "ExecuteTime": {
     "end_time": "2024-04-18T20:51:16.226214300Z",
     "start_time": "2024-04-18T20:51:16.223608200Z"
    }
   },
   "id": "bbe13db0bea268ce"
  },
  {
   "cell_type": "code",
   "execution_count": null,
   "outputs": [],
   "source": [],
   "metadata": {
    "collapsed": false
   },
   "id": "bd888b936e8d8c99"
  }
 ],
 "metadata": {
  "kernelspec": {
   "display_name": "Python 3",
   "language": "python",
   "name": "python3"
  },
  "language_info": {
   "codemirror_mode": {
    "name": "ipython",
    "version": 2
   },
   "file_extension": ".py",
   "mimetype": "text/x-python",
   "name": "python",
   "nbconvert_exporter": "python",
   "pygments_lexer": "ipython2",
   "version": "2.7.6"
  }
 },
 "nbformat": 4,
 "nbformat_minor": 5
}

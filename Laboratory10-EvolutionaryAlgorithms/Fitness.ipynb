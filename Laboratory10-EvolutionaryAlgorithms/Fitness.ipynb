{
 "cells": [
  {
   "cell_type": "code",
   "execution_count": 7,
   "id": "initial_id",
   "metadata": {
    "collapsed": true,
    "ExecuteTime": {
     "end_time": "2024-06-01T09:33:50.531196600Z",
     "start_time": "2024-06-01T09:33:50.409447900Z"
    }
   },
   "outputs": [],
   "source": [
    "def modularity_fitness(repres, problParam):\n",
    "    '''\n",
    "    Fitness function for the modularity maximization problem.\n",
    "    :param repres:\n",
    "    :param problParam:\n",
    "    :return:\n",
    "    '''\n",
    "    graph = problParam['graph']\n",
    "    min_node = min(graph.nodes)\n",
    "    communities = decode_communities(repres, problParam['numNodes'], min_node)\n",
    "\n",
    "    community_list = list(communities.values())\n",
    "    # print(f\"Communities: {communities}\")\n",
    "    # print(f\"Community List: {community_list}\")\n",
    "\n",
    "    if not is_partition(graph, community_list):\n",
    "        raise ValueError(f\"{community_list} is not a valid partition of the graph\")\n",
    "\n",
    "    return -modularity(graph, community_list)"
   ]
  },
  {
   "cell_type": "code",
   "execution_count": 8,
   "outputs": [],
   "source": [
    "def my_modularity_fitness(repres, graph):\n",
    "    communities = decode_communities(repres, graph.number_of_nodes())\n",
    "    m = graph.number_of_edges()\n",
    "    q = 0\n",
    "    for community in communities:\n",
    "        for i in community:\n",
    "            for j in community:\n",
    "                if i != j:\n",
    "                    if graph.has_edge(i, j):\n",
    "                        Aij = 1\n",
    "                    else:\n",
    "                        Aij = 0\n",
    "                    ki = graph.degree(i)\n",
    "                    kj = graph.degree(j)\n",
    "                    q += Aij - (ki * kj) / (2 * m)\n",
    "    return q / (2 * m)"
   ],
   "metadata": {
    "collapsed": false,
    "ExecuteTime": {
     "end_time": "2024-06-01T09:33:50.665591500Z",
     "start_time": "2024-06-01T09:33:50.547513Z"
    }
   },
   "id": "52505533dd3a81c5"
  },
  {
   "cell_type": "code",
   "execution_count": 9,
   "outputs": [],
   "source": [
    "def inter_community_edges_fitness(repres, problParam):\n",
    "    fitness = 0\n",
    "    graph = problParam['graph']\n",
    "    communities = decode_communities(repres, problParam['numNodes'])\n",
    "    for u, v in graph.edges():\n",
    "        if u not in communities or v not in communities:\n",
    "            raise ValueError(f\"Nodurile {u} sau {v} nu sunt prezente în comunități.\")\n",
    "        if communities[u] != communities[v]:\n",
    "            fitness += 1\n",
    "    return fitness"
   ],
   "metadata": {
    "collapsed": false,
    "ExecuteTime": {
     "end_time": "2024-06-01T09:33:50.666567800Z",
     "start_time": "2024-06-01T09:33:50.550693100Z"
    }
   },
   "id": "966b43f9fa411c6f"
  },
  {
   "cell_type": "code",
   "execution_count": 10,
   "outputs": [],
   "source": [
    "import networkx as nx\n",
    "\n",
    "\n",
    "# Edge Density within Communities\n",
    "def edge_density_fitness(repres, graph):\n",
    "    communities = decode_communities(repres)\n",
    "    density = 0\n",
    "    for community in communities:\n",
    "        subgraph = graph.subgraph(community)\n",
    "        density += nx.density(subgraph)\n",
    "    return -density\n"
   ],
   "metadata": {
    "collapsed": false,
    "ExecuteTime": {
     "end_time": "2024-06-01T09:33:51.253672500Z",
     "start_time": "2024-06-01T09:33:51.242044500Z"
    }
   },
   "id": "6bb725ea871a9eef"
  },
  {
   "cell_type": "code",
   "execution_count": 11,
   "outputs": [],
   "source": [
    "def my_edge_density_fitness(repres, graph):\n",
    "    communities = decode_communities(repres)\n",
    "    density = 0\n",
    "    for community in communities:\n",
    "        subgraph = graph.subgraph(community)\n",
    "        m = subgraph.number_of_edges()\n",
    "        n = subgraph.number_of_nodes()\n",
    "        density += m / (n * (n - 1) / 2)\n",
    "    return -density"
   ],
   "metadata": {
    "collapsed": false,
    "ExecuteTime": {
     "end_time": "2024-06-01T09:33:51.439767800Z",
     "start_time": "2024-06-01T09:33:51.425571200Z"
    }
   },
   "id": "a1c36562c3549325"
  },
  {
   "cell_type": "code",
   "execution_count": 12,
   "outputs": [],
   "source": [
    "def decode_communities(repres, num_nodes, min_node=0):\n",
    "    '''\n",
    "    Decodes a chromosome into a partition of the graph nodes into communities.\n",
    "    :param repres:\n",
    "    :param num_nodes:\n",
    "    :return:\n",
    "    '''\n",
    "    if len(repres) != num_nodes:\n",
    "        raise ValueError(\"Lungimea reprezentării nu corespunde numărului de noduri.\")\n",
    "\n",
    "    communities = {i: [] for i in range(max(repres) + 1)}\n",
    "    for node, community in enumerate(repres):\n",
    "        communities[community].append(node + min_node)\n",
    "\n",
    "    # Check if all nodes are included\n",
    "    all_nodes = set(range(min_node, min_node + num_nodes))\n",
    "    included_nodes = set(node for community in communities.values() for node in community)\n",
    "\n",
    "    if all_nodes != included_nodes:\n",
    "        missing_nodes = all_nodes - included_nodes\n",
    "        raise ValueError(f\"Missing nodes in communities: {missing_nodes}\")\n",
    "\n",
    "    # Remove empty communities\n",
    "    communities = {k: v for k, v in communities.items() if v}\n",
    "\n",
    "    return communities"
   ],
   "metadata": {
    "collapsed": false,
    "ExecuteTime": {
     "end_time": "2024-06-01T09:33:51.645287100Z",
     "start_time": "2024-06-01T09:33:51.642844900Z"
    }
   },
   "id": "9289bff8922d4101"
  },
  {
   "cell_type": "code",
   "execution_count": 6,
   "outputs": [],
   "source": [],
   "metadata": {
    "collapsed": false,
    "ExecuteTime": {
     "end_time": "2024-06-01T09:31:07.916029400Z",
     "start_time": "2024-06-01T09:31:07.861113800Z"
    }
   },
   "id": "a92f447e1eb0c80e"
  },
  {
   "cell_type": "code",
   "execution_count": 22,
   "outputs": [],
   "source": [],
   "metadata": {
    "collapsed": false,
    "ExecuteTime": {
     "end_time": "2024-05-31T13:18:22.052160800Z",
     "start_time": "2024-05-31T13:18:22.047147200Z"
    }
   },
   "id": "84917d47fc007638"
  },
  {
   "cell_type": "code",
   "execution_count": null,
   "outputs": [],
   "source": [],
   "metadata": {
    "collapsed": false
   },
   "id": "9af0a54cc60ee103"
  }
 ],
 "metadata": {
  "kernelspec": {
   "display_name": "Python 3",
   "language": "python",
   "name": "python3"
  },
  "language_info": {
   "codemirror_mode": {
    "name": "ipython",
    "version": 2
   },
   "file_extension": ".py",
   "mimetype": "text/x-python",
   "name": "python",
   "nbconvert_exporter": "python",
   "pygments_lexer": "ipython2",
   "version": "2.7.6"
  }
 },
 "nbformat": 4,
 "nbformat_minor": 5
}

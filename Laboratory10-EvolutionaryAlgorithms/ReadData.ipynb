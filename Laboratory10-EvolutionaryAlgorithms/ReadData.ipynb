{
 "cells": [
  {
   "cell_type": "markdown",
   "source": [
    "# Read Data"
   ],
   "metadata": {
    "collapsed": false
   },
   "id": "b8177296bc25e79a"
  },
  {
   "cell_type": "code",
   "execution_count": 1,
   "id": "4972045be11614f0",
   "metadata": {
    "collapsed": false,
    "ExecuteTime": {
     "end_time": "2024-06-01T06:56:42.669956300Z",
     "start_time": "2024-06-01T06:56:42.486316400Z"
    }
   },
   "outputs": [],
   "source": [
    "# libraries\n",
    "import os\n",
    "import networkx as nx"
   ]
  },
  {
   "cell_type": "code",
   "execution_count": null,
   "outputs": [],
   "source": [
    "\n",
    "def plot_graph_with_communities(graph, partition):\n",
    "    pos = nx.spring_layout(graph)  # Positions for all nodes\n",
    "    communities = {}\n",
    "    community_index = 0  # Index for community\n",
    "    for community in partition.values():\n",
    "        communities[community_index] = community\n",
    "        community_index += 1\n",
    "\n",
    "    colors = [plt.cm.tab20(i / len(communities)) for i in range(len(communities))]\n",
    "\n",
    "    for community, color in zip(communities.values(), colors):\n",
    "        nx.draw_networkx_nodes(graph, pos, nodelist=community, node_color=[color])\n",
    "    nx.draw_networkx_edges(graph, pos)\n",
    "    nx.draw_networkx_labels(graph, pos)\n",
    "    plt.show()\n"
   ],
   "metadata": {
    "collapsed": false
   },
   "id": "3214e89e795b108a"
  },
  {
   "cell_type": "code",
   "execution_count": 2,
   "id": "177c36eff2e8a257",
   "metadata": {
    "collapsed": false,
    "ExecuteTime": {
     "end_time": "2024-06-01T06:56:42.949734800Z",
     "start_time": "2024-06-01T06:56:42.938031700Z"
    }
   },
   "outputs": [],
   "source": [
    "def my_read_gml(file_path):\n",
    "    G = nx.Graph()\n",
    "\n",
    "    with open(file_path, 'r') as file:\n",
    "        lines = file.readlines()\n",
    "\n",
    "    is_node = False\n",
    "    is_edge = False\n",
    "    nodes = {}\n",
    "    edges = set()\n",
    "    node_id = None\n",
    "\n",
    "    for line in lines:\n",
    "        if line.strip().startswith(\"node\"):\n",
    "            is_node = True\n",
    "            is_edge = False\n",
    "            node_id = None\n",
    "        elif line.strip().startswith(\"edge\"):\n",
    "            is_node = False\n",
    "            is_edge = True\n",
    "            source, target = None, None\n",
    "        elif is_node:\n",
    "            if line.strip().startswith(\"id\"):\n",
    "                node_id = int(line.strip().split()[1])\n",
    "                nodes[node_id] = {}\n",
    "        elif is_edge:\n",
    "            if line.strip().startswith(\"source\"):\n",
    "                source = int(line.strip().split()[1])\n",
    "            elif line.strip().startswith(\"target\"):\n",
    "                target = int(line.strip().split()[1])\n",
    "            elif line.strip() == \"]\":\n",
    "                if source is not None and target is not None:\n",
    "                    edges.add((source, target))\n",
    "            else:\n",
    "                continue\n",
    "\n",
    "    if min(nodes.keys()) == 0:\n",
    "        # adaug 1 la toate nodurile si muchiile\n",
    "        nodes = {k + 1: v for k, v in nodes.items()}\n",
    "        edges = {(k + 1, v + 1) for k, v in edges}\n",
    "\n",
    "    G.add_nodes_from(nodes.keys())\n",
    "    G.add_edges_from(edges)\n",
    "\n",
    "    return G"
   ]
  },
  {
   "cell_type": "code",
   "execution_count": null,
   "outputs": [],
   "source": [],
   "metadata": {
    "collapsed": false
   },
   "id": "37bd2773299e1e93"
  }
 ],
 "metadata": {
  "kernelspec": {
   "display_name": "Python 3",
   "language": "python",
   "name": "python3"
  },
  "language_info": {
   "codemirror_mode": {
    "name": "ipython",
    "version": 2
   },
   "file_extension": ".py",
   "mimetype": "text/x-python",
   "name": "python",
   "nbconvert_exporter": "python",
   "pygments_lexer": "ipython2",
   "version": "2.7.6"
  }
 },
 "nbformat": 4,
 "nbformat_minor": 5
}

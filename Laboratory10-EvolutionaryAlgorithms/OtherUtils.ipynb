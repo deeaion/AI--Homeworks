{
 "cells": [
  {
   "cell_type": "markdown",
   "source": [
    "# Other utils"
   ],
   "metadata": {
    "collapsed": false
   },
   "id": "8836005508390528"
  },
  {
   "cell_type": "code",
   "execution_count": 1,
   "outputs": [],
   "source": [
    "from random import uniform\n",
    "import networkx as nx"
   ],
   "metadata": {
    "collapsed": false,
    "ExecuteTime": {
     "end_time": "2024-05-27T15:04:51.925566400Z",
     "start_time": "2024-05-27T15:04:51.756517Z"
    }
   },
   "id": "e38d5b3d26f0d0c8"
  },
  {
   "cell_type": "code",
   "execution_count": 1,
   "outputs": [],
   "source": [
    "def generateNewValue(lim1,lim2):\n",
    "    return uniform(lim1,lim2)"
   ],
   "metadata": {
    "collapsed": false,
    "ExecuteTime": {
     "end_time": "2024-06-01T09:40:21.699700600Z",
     "start_time": "2024-06-01T09:40:21.696271300Z"
    }
   },
   "id": "70083daf972601ef"
  },
  {
   "cell_type": "code",
   "execution_count": 3,
   "outputs": [],
   "source": [
    "\n",
    "def binToInt(x):\n",
    "    '''\n",
    "    Converts a binary list to an integer.\n",
    "    :param x:\n",
    "    :return:\n",
    "    '''\n",
    "    val = 0\n",
    "    for bit in x:\n",
    "        val = val * 2 + bit\n",
    "    return val"
   ],
   "metadata": {
    "collapsed": false,
    "ExecuteTime": {
     "end_time": "2024-05-27T15:04:51.939514800Z",
     "start_time": "2024-05-27T15:04:51.928785100Z"
    }
   },
   "id": "cd5ba3fb2e2f099d"
  },
  {
   "cell_type": "code",
   "execution_count": 4,
   "outputs": [],
   "source": [
    "def create_graph_from_gml(nodes, edges):\n",
    "    graph = nx.Graph()\n",
    "    for node_id, node_attrs in nodes.items():\n",
    "        graph.add_node(node_id, **node_attrs)\n",
    "    for edge in edges:\n",
    "        graph.add_edge(*edge)\n",
    "    return graph"
   ],
   "metadata": {
    "collapsed": false,
    "ExecuteTime": {
     "end_time": "2024-05-27T15:04:53.244931700Z",
     "start_time": "2024-05-27T15:04:53.240416500Z"
    }
   },
   "id": "844bd5c59b37d9d4"
  },
  {
   "cell_type": "code",
   "execution_count": 4,
   "outputs": [],
   "source": [],
   "metadata": {
    "collapsed": false,
    "ExecuteTime": {
     "end_time": "2024-05-27T15:04:53.410005300Z",
     "start_time": "2024-05-27T15:04:53.400199100Z"
    }
   },
   "id": "728e41ae49882cdc"
  },
  {
   "cell_type": "code",
   "execution_count": 4,
   "outputs": [],
   "source": [],
   "metadata": {
    "collapsed": false,
    "ExecuteTime": {
     "end_time": "2024-05-27T15:04:53.625445900Z",
     "start_time": "2024-05-27T15:04:53.618929700Z"
    }
   },
   "id": "9cf409950f84e018"
  },
  {
   "cell_type": "code",
   "execution_count": null,
   "outputs": [],
   "source": [],
   "metadata": {
    "collapsed": false
   },
   "id": "4e5f77508db60eaf"
  }
 ],
 "metadata": {
  "kernelspec": {
   "display_name": "Python 3",
   "language": "python",
   "name": "python3"
  },
  "language_info": {
   "codemirror_mode": {
    "name": "ipython",
    "version": 2
   },
   "file_extension": ".py",
   "mimetype": "text/x-python",
   "name": "python",
   "nbconvert_exporter": "python",
   "pygments_lexer": "ipython2",
   "version": "2.7.6"
  }
 },
 "nbformat": 4,
 "nbformat_minor": 5
}

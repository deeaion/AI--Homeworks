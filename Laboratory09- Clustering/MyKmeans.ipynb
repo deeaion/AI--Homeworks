{
 "cells": [
  {
   "cell_type": "code",
   "execution_count": 2,
   "id": "initial_id",
   "metadata": {
    "collapsed": true,
    "ExecuteTime": {
     "end_time": "2024-05-02T18:04:51.057241800Z",
     "start_time": "2024-05-02T18:04:50.465815900Z"
    }
   },
   "outputs": [],
   "source": [
    "from sklearn.metrics.pairwise import cosine_similarity\n",
    "from collections import Counter\n",
    "\n",
    "import numpy as np\n",
    "class MyKmeans:\n",
    "    def __init__(self, k, max_iters=100):\n",
    "        self.k = k\n",
    "        self.max_iters = max_iters\n",
    "        self.centroids = None\n",
    "        self.cluster_assignments = None\n",
    "        self.cluster_labels = None\n",
    "\n",
    "    def _initialize_centroids(self, X):\n",
    "        np.random.seed(42)\n",
    "        indices = np.random.choice(len(X), self.k, replace=False)\n",
    "        self.centroids = X[indices]\n",
    "\n",
    "    def _compute_similarities(self, X):\n",
    "        return cosine_similarity(X, self.centroids)\n",
    "\n",
    "    def fit(self, X, labels):\n",
    "        labels = np.array(labels)  \n",
    "\n",
    "        # Initialize centroids\n",
    "        self._initialize_centroids(X)\n",
    "\n",
    "        for _ in range(self.max_iters):\n",
    "            \n",
    "            similarities = self._compute_similarities(X)\n",
    "            self.cluster_assignments = np.argmax(similarities, axis=1)\n",
    "\n",
    "            # Recompute centroids by averaging vectors in each cluster\n",
    "            new_centroids = np.array([X[self.cluster_assignments == i].mean(axis=0) for i in range(self.k)])\n",
    "\n",
    "            # Check for convergence\n",
    "            if np.all(self.centroids == new_centroids):\n",
    "                break\n",
    "\n",
    "            self.centroids = new_centroids\n",
    "\n",
    "        #Initialize cluster labels list\n",
    "        self.cluster_labels = [None] * self.k\n",
    "\n",
    "        for i in range(self.k):\n",
    "            #Filter labels for the current cluster\n",
    "            cluster_labels = labels[self.cluster_assignments == i]\n",
    "\n",
    "            #Find the majority label\n",
    "            most_common_label = Counter(cluster_labels).most_common(1)\n",
    "\n",
    "            if most_common_label:\n",
    "                self.cluster_labels[i] = most_common_label[0][0]\n",
    "    def predict(self, X_new):\n",
    "        \n",
    "        similarities = self._compute_similarities(X_new)\n",
    "        self.cluster_assignments = np.argmax(similarities, axis=1)\n",
    "\n",
    "        # Map clusters to labels\n",
    "        predicted_labels = [str(self.cluster_labels[i]) for i in self.cluster_assignments]\n",
    "\n",
    "        return predicted_labels\n",
    "\n",
    "    def get_inertia(self, X):\n",
    "        \n",
    "        inertia = sum(\n",
    "            np.linalg.norm(np.array(x) - self.centroids[c_idx]) ** 2 for x, c_idx in zip(X, self.cluster_assignments))\n",
    "        return inertia"
   ]
  },
  {
   "cell_type": "code",
   "execution_count": null,
   "outputs": [],
   "source": [],
   "metadata": {
    "collapsed": false
   },
   "id": "e7edf4f4806effb4"
  },
  {
   "cell_type": "markdown",
   "source": [],
   "metadata": {
    "collapsed": false
   },
   "id": "609492947d609c7a"
  }
 ],
 "metadata": {
  "kernelspec": {
   "display_name": "Python 3",
   "language": "python",
   "name": "python3"
  },
  "language_info": {
   "codemirror_mode": {
    "name": "ipython",
    "version": 2
   },
   "file_extension": ".py",
   "mimetype": "text/x-python",
   "name": "python",
   "nbconvert_exporter": "python",
   "pygments_lexer": "ipython2",
   "version": "2.7.6"
  }
 },
 "nbformat": 4,
 "nbformat_minor": 5
}

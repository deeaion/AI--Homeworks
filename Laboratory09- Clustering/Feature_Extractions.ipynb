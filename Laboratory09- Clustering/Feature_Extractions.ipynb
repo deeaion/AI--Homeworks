{
 "cells": [
  {
   "cell_type": "markdown",
   "id": "4436d4515efc924d",
   "metadata": {},
   "source": [
    "# Extracting features from text"
   ]
  },
  {
   "cell_type": "code",
   "execution_count": 21,
   "id": "7998899a94f2dce6",
   "metadata": {
    "collapsed": false,
    "tags": [],
    "ExecuteTime": {
     "end_time": "2024-05-02T15:01:41.064970100Z",
     "start_time": "2024-05-02T15:01:41.062026200Z"
    }
   },
   "outputs": [
    {
     "name": "stdout",
     "output_type": "stream",
     "text": [
      "1.12.0\n"
     ]
    }
   ],
   "source": [
    "import re\n",
    "import string\n",
    "from nltk.corpus import stopwords\n",
    "from nltk.stem import PorterStemmer\n",
    "import scipy\n",
    "print(scipy.__version__)\n",
    "from gensim.models import Word2Vec\n",
    "from gensim.models import KeyedVectors\n",
    "import numpy as np\n",
    "\n"
   ]
  },
  {
   "cell_type": "code",
   "execution_count": 22,
   "id": "c9a91528ea5ef897",
   "metadata": {
    "collapsed": false,
    "tags": [],
    "ExecuteTime": {
     "end_time": "2024-05-02T15:01:41.469263800Z",
     "start_time": "2024-05-02T15:01:41.465237300Z"
    }
   },
   "outputs": [],
   "source": [
    "import gensim.downloader as api"
   ]
  },
  {
   "cell_type": "code",
   "execution_count": 23,
   "id": "d4ab8075a844458d",
   "metadata": {
    "collapsed": false,
    "tags": [],
    "ExecuteTime": {
     "end_time": "2024-05-02T15:01:41.695333400Z",
     "start_time": "2024-05-02T15:01:41.689047900Z"
    }
   },
   "outputs": [
    {
     "name": "stderr",
     "output_type": "stream",
     "text": [
      "[nltk_data] Downloading package stopwords to\n",
      "[nltk_data]     C:\\Users\\Deea\\AppData\\Roaming\\nltk_data...\n",
      "[nltk_data]   Package stopwords is already up-to-date!\n"
     ]
    }
   ],
   "source": [
    "import nltk\n",
    "nltk.download('stopwords')\n",
    "stop_words = set(stopwords.words('english'))"
   ]
  },
  {
   "cell_type": "code",
   "execution_count": 24,
   "id": "e077713f74ddb6c4",
   "metadata": {
    "collapsed": false,
    "tags": [],
    "ExecuteTime": {
     "end_time": "2024-05-02T15:01:41.868946600Z",
     "start_time": "2024-05-02T15:01:41.864482600Z"
    }
   },
   "outputs": [],
   "source": [
    "def preprocess_text(text):\n",
    "    # Lowercase\n",
    "    text=text.lower()\n",
    "    # Remove punctuation\n",
    "    text = re.sub('[%s]' % re.escape(string.punctuation), '', text)\n",
    "    # Remove numbers\n",
    "    text = re.sub(r'\\d+', '', text)\n",
    "    #Tokenize\n",
    "    words=text.split()\n",
    "    # Remove stop words\n",
    "    words = [word for word in words if word not in stop_words]\n",
    "    # Stemming\n",
    "    stemmer = PorterStemmer()\n",
    "    words = [stemmer.stem(word) for word in words]\n",
    "    return words"
   ]
  },
  {
   "cell_type": "markdown",
   "id": "c155083dab8e36a2",
   "metadata": {},
   "source": [
    "### Example of how the preprocessing works\n",
    "text = \"I really wanna see,  every step of the process of extracting features from text1233!!!\"\n",
    "words = preprocess_text(text)\n",
    "--- Output\n",
    "Lowering the text i really wanna see,  every step of the process of extracting features from text1233!!!\n",
    "Removing the punctuation i really wanna see  every step of the process of extracting features from text1233\n",
    "i really wanna see  every step of the process of extracting features from text\n",
    "Words that were retrieved ['i', 'really', 'wanna', 'see', 'every', 'step', 'of', 'the', 'process', 'of', 'extracting', 'features', 'from', 'text']\n",
    "Without stop words:  ['really', 'wanna', 'see', 'every', 'step', 'process', 'extracting', 'features', 'text']\n",
    "After stemming:  ['realli', 'wanna', 'see', 'everi', 'step', 'process', 'extract', 'featur', 'text']\n",
    "\n"
   ]
  },
  {
   "cell_type": "code",
   "execution_count": 25,
   "id": "e73f0d3571995714",
   "metadata": {
    "collapsed": false,
    "tags": [],
    "ExecuteTime": {
     "end_time": "2024-05-02T15:01:42.244885Z",
     "start_time": "2024-05-02T15:01:42.241827500Z"
    }
   },
   "outputs": [],
   "source": [
    "def get_processed_docs(texts):\n",
    "    return [preprocess_text(text) for text in texts]"
   ]
  },
  {
   "cell_type": "code",
   "execution_count": 26,
   "id": "b7586bc58fdf5b4a",
   "metadata": {
    "collapsed": false,
    "tags": [],
    "ExecuteTime": {
     "end_time": "2024-05-02T15:01:42.695700600Z",
     "start_time": "2024-05-02T15:01:42.692189200Z"
    }
   },
   "outputs": [],
   "source": [
    "def get_vocabulary(texts):\n",
    "    vocabulary = set()\n",
    "\n",
    "    for doc in texts:\n",
    "        vocabulary.update(preprocess_text(doc))\n",
    "\n",
    "    return sorted(list(vocabulary))"
   ]
  },
  {
   "cell_type": "code",
   "execution_count": 27,
   "id": "d6c042e71c7c05ff",
   "metadata": {
    "collapsed": false,
    "tags": [],
    "ExecuteTime": {
     "end_time": "2024-05-02T15:01:42.905557200Z",
     "start_time": "2024-05-02T15:01:42.904550300Z"
    }
   },
   "outputs": [],
   "source": [
    "def get_bow(texts):\n",
    "    vocabulary = get_vocabulary(texts)\n",
    "    vocab_index_map = {word: idx for idx, word in enumerate(vocabulary)}\n",
    "    processed_texts = get_processed_docs(texts)\n",
    "    bow_vectors = []\n",
    "    for doc in processed_texts:\n",
    "        vector = [0] * len(vocabulary)\n",
    "        for word in doc:\n",
    "            if word in vocab_index_map:\n",
    "                vector[vocab_index_map[word]] += 1\n",
    "        bow_vectors.append(vector)\n",
    "\n",
    "    return bow_vectors"
   ]
  },
  {
   "cell_type": "markdown",
   "id": "a86a432c9b671e85",
   "metadata": {},
   "source": [
    "# Using Word2Vec"
   ]
  },
  {
   "cell_type": "code",
   "execution_count": 28,
   "id": "2351b4e9cb71de47",
   "metadata": {
    "collapsed": false,
    "tags": [],
    "ExecuteTime": {
     "end_time": "2024-05-02T15:01:43.468384Z",
     "start_time": "2024-05-02T15:01:43.465785900Z"
    }
   },
   "outputs": [],
   "source": [
    "def get_word2VecGensimModel(texts):\n",
    "    processed_texts = get_processed_docs(texts)\n",
    "    model = Word2Vec(sentences=processed_texts, vector_size=100,window=5, min_count=1, workers=4)\n",
    "    return model"
   ]
  },
  {
   "cell_type": "code",
   "execution_count": 29,
   "id": "f8cff9aab2355a13",
   "metadata": {
    "collapsed": false,
    "tags": [],
    "ExecuteTime": {
     "end_time": "2024-05-02T15:01:43.998840800Z",
     "start_time": "2024-05-02T15:01:43.994907800Z"
    }
   },
   "outputs": [],
   "source": [
    "\n",
    "def featureComputation(model,data):\n",
    "    features=[]\n",
    "    phrases=[phrase.split() for phrase in data]\n",
    "    for phrase in phrases:\n",
    "        vectors=[model[word] for word in phrase if (word in model.index_to_key)]\n",
    "        if len(vectors)==0:\n",
    "            result=[0]*model.vector_size\n",
    "        else:\n",
    "            result=np.sum(vectors,axis=0)/len(vectors)\n",
    "        features.append(result)\n",
    "    return features"
   ]
  },
  {
   "cell_type": "code",
   "execution_count": 30,
   "id": "a50f44558b345f39",
   "metadata": {
    "collapsed": false,
    "tags": [],
    "ExecuteTime": {
     "end_time": "2024-05-02T15:01:44.179501Z",
     "start_time": "2024-05-02T15:01:44.175434Z"
    }
   },
   "outputs": [],
   "source": [
    "def get_GoogleWord2VecModel():\n",
    "    return api.load('word2vec-google-news-300')\n"
   ]
  },
  {
   "cell_type": "code",
   "execution_count": 31,
   "id": "dac814c98dbf4ff1",
   "metadata": {
    "collapsed": false,
    "tags": [],
    "ExecuteTime": {
     "end_time": "2024-05-02T15:01:44.358895600Z",
     "start_time": "2024-05-02T15:01:44.355382200Z"
    }
   },
   "outputs": [],
   "source": [
    "# model=get_GoogleWord2VecModel()\n"
   ]
  },
  {
   "cell_type": "code",
   "execution_count": 32,
   "id": "bb2d3e1784a4d1bb",
   "metadata": {
    "collapsed": false,
    "tags": [],
    "ExecuteTime": {
     "end_time": "2024-05-02T15:01:44.539913200Z",
     "start_time": "2024-05-02T15:01:44.535870600Z"
    }
   },
   "outputs": [],
   "source": [
    "from sklearn.cluster import KMeans\n",
    "def get_KMeansSklearn(n_clusters,randomstates=0):\n",
    "    return KMeans(n_clusters=n_clusters, random_state=randomstates)"
   ]
  },
  {
   "cell_type": "code",
   "execution_count": 33,
   "id": "72e80923d4a82596",
   "metadata": {
    "collapsed": false,
    "tags": [],
    "ExecuteTime": {
     "end_time": "2024-05-02T15:01:44.735575700Z",
     "start_time": "2024-05-02T15:01:44.731387400Z"
    }
   },
   "outputs": [],
   "source": [
    "\n",
    "\n",
    "\n",
    "\n",
    "\n",
    "import os\n",
    "from azure.core.credentials import AzureKeyCredential\n",
    "from azure.ai.textanalytics import TextAnalyticsClient"
   ]
  },
  {
   "cell_type": "code",
   "execution_count": 33,
   "id": "5166d489fa6e6714",
   "metadata": {
    "collapsed": false,
    "ExecuteTime": {
     "end_time": "2024-05-02T15:01:44.921245Z",
     "start_time": "2024-05-02T15:01:44.918236300Z"
    }
   },
   "outputs": [],
   "source": []
  },
  {
   "cell_type": "code",
   "execution_count": 34,
   "id": "27a12e19b620a503",
   "metadata": {
    "collapsed": false,
    "tags": [],
    "ExecuteTime": {
     "end_time": "2024-05-02T15:01:45.104456700Z",
     "start_time": "2024-05-02T15:01:45.101944700Z"
    }
   },
   "outputs": [],
   "source": [
    "def get_client():\n",
    "    endpoint = os.environ[\"LANGUAGE_ENDPOINT\"]\n",
    "    #print(endpoint)\n",
    "    key = os.environ[\"LANGUAGE_KEYSEC\"]\n",
    "    #print(key)\n",
    "    client=TextAnalyticsClient(endpoint=endpoint,credential=AzureKeyCredential(key))\n",
    "    return client\n"
   ]
  },
  {
   "cell_type": "code",
   "execution_count": 35,
   "id": "8a4bdd37-354e-4f32-8caf-3b47ecf2bfba",
   "metadata": {
    "tags": [],
    "ExecuteTime": {
     "end_time": "2024-05-02T15:01:45.275588900Z",
     "start_time": "2024-05-02T15:01:45.273048500Z"
    }
   },
   "outputs": [],
   "source": [
    "#client=get_client()\n",
    "#print(client)"
   ]
  },
  {
   "cell_type": "code",
   "execution_count": 36,
   "id": "c05606b6-d189-46f3-89b9-ac597efd5c6d",
   "metadata": {
    "tags": [],
    "ExecuteTime": {
     "end_time": "2024-05-02T15:01:45.432036300Z",
     "start_time": "2024-05-02T15:01:45.430031400Z"
    }
   },
   "outputs": [],
   "source": [
    "def analyze_batch(batch,client):\n",
    "    \n",
    "    response = client.analyze_sentiment(batch,show_opinion_mining=True)\n",
    "    return [doc for doc in response if not doc.is_error]\n",
    "    \n"
   ]
  },
  {
   "cell_type": "code",
   "execution_count": 37,
   "id": "730865212b9da2c5",
   "metadata": {
    "collapsed": false,
    "tags": [],
    "ExecuteTime": {
     "end_time": "2024-05-02T15:01:45.600277100Z",
     "start_time": "2024-05-02T15:01:45.595716300Z"
    }
   },
   "outputs": [],
   "source": [
    "def get_sentiments(texts):\n",
    "    client=get_client()\n",
    "    batch_size=10\n",
    "    batches=[texts[i:i+batch_size] for i in range(0,len(texts),batch_size)]\n",
    "    results=[]\n",
    "    for b in batches:\n",
    "        b_res=analyze_batch(b,client)\n",
    "        results.extend(b_res)\n",
    "    return results,client"
   ]
  },
  {
   "cell_type": "code",
   "execution_count": 38,
   "id": "33abf53285f7d45a",
   "metadata": {
    "collapsed": false,
    "tags": [],
    "ExecuteTime": {
     "end_time": "2024-05-02T15:01:45.758390400Z",
     "start_time": "2024-05-02T15:01:45.754589400Z"
    }
   },
   "outputs": [],
   "source": [
    "def show_sentiments(docs,text):\n",
    "    for idx,doc in enumerate(docs):\n",
    "        print(f\"Document text:{text[idx]}\")\n",
    "        print(f\"Overall sentiment:{doc.sentiment}\")\n",
    "        "
   ]
  },
  {
   "cell_type": "code",
   "execution_count": 39,
   "id": "a3ca571da886c3c",
   "metadata": {
    "collapsed": false,
    "tags": [],
    "ExecuteTime": {
     "end_time": "2024-05-02T15:01:45.896385200Z",
     "start_time": "2024-05-02T15:01:45.894378900Z"
    }
   },
   "outputs": [],
   "source": [
    "# Hierical clustering"
   ]
  },
  {
   "cell_type": "code",
   "execution_count": 40,
   "id": "53528270a949356e",
   "metadata": {
    "collapsed": false,
    "tags": [],
    "ExecuteTime": {
     "end_time": "2024-05-02T15:01:46.056180300Z",
     "start_time": "2024-05-02T15:01:46.048127800Z"
    }
   },
   "outputs": [],
   "source": [
    "from scipy.cluster.hierarchy import dendrogram, linkage\n",
    "import matplotlib.pyplot as plt\n",
    "from sklearn.cluster import AgglomerativeClustering\n",
    "from sklearn.feature_extraction.text import TfidfVectorizer"
   ]
  },
  {
   "cell_type": "code",
   "execution_count": 41,
   "id": "1a336999e2cd1dfe",
   "metadata": {
    "collapsed": false,
    "tags": [],
    "ExecuteTime": {
     "end_time": "2024-05-02T15:01:46.225075400Z",
     "start_time": "2024-05-02T15:01:46.222564300Z"
    }
   },
   "outputs": [],
   "source": [
    "def get_tfidf(texts):\n",
    "    vectorizer = TfidfVectorizer()\n",
    "    X = vectorizer.fit_transform(texts)\n",
    "    return X"
   ]
  },
  {
   "cell_type": "code",
   "execution_count": 42,
   "id": "e5b9f9c69a25f082",
   "metadata": {
    "collapsed": false,
    "tags": [],
    "ExecuteTime": {
     "end_time": "2024-05-02T15:01:46.396326100Z",
     "start_time": "2024-05-02T15:01:46.393812700Z"
    }
   },
   "outputs": [],
   "source": [
    "def get_hierarchical_clusters(n_clusters,features):\n",
    "    tfid_matrix=get_tfidf(features)\n",
    "    model = AgglomerativeClustering(n_clusters=n_clusters, affinity=\"cosine\", linkage=\"complete\")\n",
    "    labels=model.fit_predict(tfid_matrix.toarray())\n",
    "    print(labels)\n",
    "    linkage_matrix = linkage(tfid_matrix.toarray(), 'complete',metric='cosine')\n",
    "    plt.figure(figsize=(10, 7))\n",
    "    dendrogram(linkage_matrix,orientation='top',labels=[f\"Doc {idx}\" for idx in range(len(features))])\n",
    "    plt.show()"
   ]
  },
  {
   "cell_type": "code",
   "execution_count": 42,
   "id": "90bd944ebdf06954",
   "metadata": {
    "collapsed": false,
    "ExecuteTime": {
     "end_time": "2024-05-02T15:01:46.645396Z",
     "start_time": "2024-05-02T15:01:46.620962Z"
    }
   },
   "outputs": [],
   "source": []
  },
  {
   "cell_type": "code",
   "execution_count": 42,
   "outputs": [],
   "source": [],
   "metadata": {
    "collapsed": false,
    "ExecuteTime": {
     "end_time": "2024-05-02T15:01:47.065882200Z",
     "start_time": "2024-05-02T15:01:47.038561500Z"
    }
   },
   "id": "7ecbcdbf0fab833d"
  },
  {
   "cell_type": "code",
   "execution_count": 43,
   "outputs": [],
   "source": [
    "def cluster_text(model, text, vectorizer):\n",
    "    text_features = vectorizer.transform(text).toarray()\n",
    "    centroids, labels = model.evaluate(text_features)\n",
    "    return labels"
   ],
   "metadata": {
    "collapsed": false,
    "ExecuteTime": {
     "end_time": "2024-05-02T15:12:51.778571400Z",
     "start_time": "2024-05-02T15:12:51.759884200Z"
    }
   },
   "id": "a3ead55f2fedeef"
  },
  {
   "cell_type": "code",
   "execution_count": null,
   "outputs": [],
   "source": [],
   "metadata": {
    "collapsed": false
   },
   "id": "8e749a30eb0221ba"
  }
 ],
 "metadata": {
  "kernelspec": {
   "display_name": "Python 3 (ipykernel)",
   "language": "python",
   "name": "python3"
  },
  "language_info": {
   "codemirror_mode": {
    "name": "ipython",
    "version": 3
   },
   "file_extension": ".py",
   "mimetype": "text/x-python",
   "name": "python",
   "nbconvert_exporter": "python",
   "pygments_lexer": "ipython3",
   "version": "3.11.5"
  }
 },
 "nbformat": 4,
 "nbformat_minor": 5
}

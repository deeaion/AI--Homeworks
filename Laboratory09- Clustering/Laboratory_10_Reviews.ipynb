{
 "cells": [
  {
   "cell_type": "markdown",
   "id": "33faa5ef47c08ed1",
   "metadata": {},
   "source": [
    "# Resolving clustering problems"
   ]
  },
  {
   "cell_type": "code",
   "execution_count": 236,
   "id": "6aabd2c944e96f7e",
   "metadata": {
    "collapsed": false,
    "tags": [],
    "ExecuteTime": {
     "end_time": "2024-05-02T18:06:09.712952200Z",
     "start_time": "2024-05-02T18:06:09.655241700Z"
    }
   },
   "outputs": [
    {
     "name": "stdout",
     "output_type": "stream",
     "text": [
      "1.12.0\n",
      "1.12.0\n"
     ]
    },
    {
     "name": "stderr",
     "output_type": "stream",
     "text": [
      "[nltk_data] Downloading package stopwords to\n",
      "[nltk_data]     C:\\Users\\Deea\\AppData\\Roaming\\nltk_data...\n",
      "[nltk_data]   Package stopwords is already up-to-date!\n",
      "[nltk_data] Downloading package stopwords to\n",
      "[nltk_data]     C:\\Users\\Deea\\AppData\\Roaming\\nltk_data...\n",
      "[nltk_data]   Package stopwords is already up-to-date!\n"
     ]
    }
   ],
   "source": [
    "%run Feature_Extractions.ipynb\n",
    "%run MyKmeans.ipynb\n",
    "%run Utils.ipynb\n",
    "import numpy as np"
   ]
  },
  {
   "cell_type": "markdown",
   "id": "d90ba455bd75e994",
   "metadata": {},
   "source": [
    "## For negative vs postive sentiment"
   ]
  },
  {
   "cell_type": "markdown",
   "id": "bd93601374827fbc",
   "metadata": {},
   "source": [
    "Extracting the data from the file"
   ]
  },
  {
   "cell_type": "code",
   "execution_count": 237,
   "id": "de8b458f5798fcc3",
   "metadata": {
    "collapsed": false,
    "tags": [],
    "ExecuteTime": {
     "end_time": "2024-05-02T18:06:10.133241100Z",
     "start_time": "2024-05-02T18:06:10.125870600Z"
    }
   },
   "outputs": [
    {
     "name": "stdout",
     "output_type": "stream",
     "text": [
      "['Text', 'Sentiment']\n",
      "['positive', 'negative']\n",
      "['The rooms are extremely small, practically only a bed.', 'Room safe did not work.', 'Mattress very comfortable.', 'Very uncomfortable, thin mattress, with plastic cover that rustles every time you move.', 'No bathroom in room']\n",
      "['negative', 'negative', 'positive', 'negative', 'negative']\n"
     ]
    }
   ],
   "source": [
    "inputs,outputs,dataNames,labelNames=load_data('data/reviews_mixed.csv')\n",
    "print(dataNames)\n",
    "print(labelNames)\n",
    "print(inputs[:5])\n",
    "print(outputs[:5])"
   ]
  },
  {
   "cell_type": "markdown",
   "id": "c59e3ae2793ad743",
   "metadata": {},
   "source": [
    "Extracting training inputs,outputs,test inputs and outputs"
   ]
  },
  {
   "cell_type": "code",
   "execution_count": 238,
   "id": "870c5f77fab9e0e1",
   "metadata": {
    "collapsed": false,
    "tags": [],
    "ExecuteTime": {
     "end_time": "2024-05-02T18:06:10.465096700Z",
     "start_time": "2024-05-02T18:06:10.462466200Z"
    }
   },
   "outputs": [
    {
     "name": "stdout",
     "output_type": "stream",
     "text": [
      "['still easy to reach.', 'Some thinks didnt work well : air, tv , open windows,', 'Room was not cleaned even once during our stay.', 'The bed is really terrible,especially the blanket is heavy and terrible terrible quality.', 'The TV was not working.']\n",
      "['positive', 'negative', 'negative', 'negative', 'negative']\n",
      "['The rooms are extremely small, practically only a bed.', 'Mattress very comfortable.', 'The bed was soooo comfy.', 'The bed is very comfortable.', 'Very spacious rooms, quiet and very comfortable.']\n",
      "['negative', 'positive', 'positive', 'positive', 'positive']\n"
     ]
    }
   ],
   "source": [
    "trainInputs,trainOutputs,testInputs,testOutputs=split_data(inputs,outputs,0.8)\n",
    "print(trainInputs[:5])\n",
    "print(trainOutputs[:5])\n",
    "print(testInputs[:5])\n",
    "print(testOutputs[:5])"
   ]
  },
  {
   "cell_type": "markdown",
   "id": "7570996c7a63f7eb",
   "metadata": {},
   "source": [
    "Get Train Features BOW"
   ]
  },
  {
   "cell_type": "code",
   "execution_count": 239,
   "id": "2b806d91b07f7708",
   "metadata": {
    "collapsed": false,
    "tags": [],
    "ExecuteTime": {
     "end_time": "2024-05-02T18:06:10.814591600Z",
     "start_time": "2024-05-02T18:06:10.789367600Z"
    }
   },
   "outputs": [],
   "source": [
    "trainFeatures=get_bow(trainInputs)"
   ]
  },
  {
   "cell_type": "markdown",
   "id": "d1e802444b8153ce",
   "metadata": {},
   "source": [
    "Get Train Vocabulary"
   ]
  },
  {
   "cell_type": "code",
   "execution_count": 240,
   "id": "d021ea0dc7aa8859",
   "metadata": {
    "collapsed": false,
    "tags": [],
    "ExecuteTime": {
     "end_time": "2024-05-02T18:06:11.271138700Z",
     "start_time": "2024-05-02T18:06:11.261081500Z"
    }
   },
   "outputs": [],
   "source": [
    "vocab=get_vocabulary(trainInputs)\n"
   ]
  },
  {
   "cell_type": "markdown",
   "id": "446ed6b59e3a116b",
   "metadata": {},
   "source": [
    "Get Test Bow"
   ]
  },
  {
   "cell_type": "code",
   "execution_count": 241,
   "id": "a7c69b9d5b060f01",
   "metadata": {
    "collapsed": false,
    "tags": [],
    "ExecuteTime": {
     "end_time": "2024-05-02T18:06:11.666758Z",
     "start_time": "2024-05-02T18:06:11.658258100Z"
    }
   },
   "outputs": [],
   "source": [
    "testFeatures=get_bow(testInputs)"
   ]
  },
  {
   "cell_type": "markdown",
   "id": "22706badfd52253a",
   "metadata": {},
   "source": [
    "Get Train Vocabulary"
   ]
  },
  {
   "cell_type": "code",
   "execution_count": 242,
   "id": "9ad87ba14739efe2",
   "metadata": {
    "collapsed": false,
    "tags": [],
    "ExecuteTime": {
     "end_time": "2024-05-02T18:06:12.058019600Z",
     "start_time": "2024-05-02T18:06:12.049943300Z"
    }
   },
   "outputs": [],
   "source": [
    "testVocab=get_vocabulary(testInputs)"
   ]
  },
  {
   "cell_type": "code",
   "execution_count": 243,
   "id": "94ebb51057970228",
   "metadata": {
    "collapsed": false,
    "tags": [],
    "ExecuteTime": {
     "end_time": "2024-05-02T18:06:12.256813900Z",
     "start_time": "2024-05-02T18:06:12.252168300Z"
    }
   },
   "outputs": [
    {
     "name": "stdout",
     "output_type": "stream",
     "text": [
      "Voabulary Size: 470\n",
      "[[0 0 0 0 0 0 0 0 0 0 0 0 0 0 0 0 0 0 0 0 0 0 0 0 0 0 0 0 0 0 0 0 0 0 0 0\n",
      "  0 0 0 0 0 0 0 0 0 0 0 0 0 0 0 0 0 0 0 0 0 0 0 0 0 0 0 0 0 0 0 0 0 0 0 0\n",
      "  0 0 0 0 0 0 0 0 0 0 0 0 0 0 0 0 0 0 0 0 0 0 0 0 0 0 0 0 0 0 0 0 0 0 0 0\n",
      "  0 0 0 0 0 0 0 0 0 0 0 0 0 1 0 0 0 0 0 0 0 0 0 0 0 0 0 0 0 0 0 0 0 0 0 0\n",
      "  0 0 0 0 0 0 0 0 0 0 0 0 0 0 0 0 0 0 0 0 0 0 0 0 0 0 0 0 0 0 0 0 0 0 0 0\n",
      "  0 0 0 0 0 0 0 0 0 0 0 0 0 0 0 0 0 0 0 0 0 0 0 0 0 0 0 0 0 0 0 0 0 0 0 0\n",
      "  0 0 0 0 0 0 0 0 0 0 0 0 0 0 0 0 0 0 0 0 0 0 0 0 0 0 0 0 0 0 0 0 0 0 0 0\n",
      "  0 0 0 0 0 0 0 0 0 0 0 0 0 0 0 0 0 0 0 0 0 0 0 0 0 0 0 0 0 0 0 0 0 0 0 0\n",
      "  0 0 0 0 0 0 0 0 0 0 0 0 0 0 0 0 0 0 0 0 0 0 0 0 0 0 0 0 0 0 0 0 1 0 0 0\n",
      "  0 0 0 0 0 0 0 0 0 0 0 0 0 0 0 0 0 0 0 0 0 0 0 0 0 0 0 0 0 0 0 0 0 0 0 0\n",
      "  0 0 0 0 0 0 0 0 0 0 0 0 0 0 0 0 0 0 0 0 0 0 0 0 0 0 0 0 0 1 0 0 0 0 0 0\n",
      "  0 0 0 0 0 0 0 0 0 0 0 0 0 0 0 0 0 0 0 0 0 0 0 0 0 0 0 0 0 0 0 0 0 0 0 0\n",
      "  0 0 0 0 0 0 0 0 0 0 0 0 0 0 0 0 0 0 0 0 0 0 0 0 0 0 0 0 0 0 0 0 0 0 0 0\n",
      "  0 0]]\n",
      "[[0 0 0 0 0 0 0 0 0 0 0 0 1 0 0 0 0 0 0 0 0 0 0 0 0 0 0 0 0 0 0 0 0 0 0 0\n",
      "  0 0 0 1 0 0 0 0 0 0 0 0 0 0 0 0 0 0 0 0 0 0 0 0 0 0 0 0 0 0 0 0 0 0 0 0\n",
      "  0 0 0 0 0 0 0 0 0 1 0 0 0 0 0 0 0 0 1 0 0 0 0 0 0 0 1 0 0 0 0 0 0 0 0 0\n",
      "  0 0 0 0 0 0 0 0 0 0 0 0 0 0 0 0 0 0 0 0 0]]\n",
      "Train Data Size: 165\n",
      "Test Data Size: 42\n",
      "Train Features Size: 470\n",
      "Some words in the vocabulary: ['abund', 'ac', 'access', 'across', 'actual', 'ad', 'adjust', 'advertis', 'advis', 'agre']\n"
     ]
    }
   ],
   "source": [
    "print(\"Voabulary Size:\",len(trainFeatures[0]))\n",
    "print(np.array(trainFeatures[:1]))\n",
    "print(np.array(testFeatures[:1]))\n",
    "print(\"Train Data Size:\",len(trainFeatures))\n",
    "print(\"Test Data Size:\",len(testFeatures))\n",
    "print(\"Train Features Size:\",len(trainFeatures[0]))\n",
    "print(\"Some words in the vocabulary:\",vocab[0:10])"
   ]
  },
  {
   "cell_type": "markdown",
   "id": "81713ff986e6241",
   "metadata": {},
   "source": [
    "# Other characteristics"
   ]
  },
  {
   "cell_type": "code",
   "execution_count": 244,
   "id": "d3c5630a65b6ee57",
   "metadata": {
    "collapsed": false,
    "tags": [],
    "ExecuteTime": {
     "end_time": "2024-05-02T18:06:19.751941300Z",
     "start_time": "2024-05-02T18:06:12.650755300Z"
    }
   },
   "outputs": [],
   "source": [
    "#print(trainInputs)\n",
    "sentiments,model_trained_sentient=get_sentiments(trainInputs)"
   ]
  },
  {
   "cell_type": "code",
   "execution_count": 245,
   "id": "340e550b-9957-4020-ac8c-09763ebbf718",
   "metadata": {
    "tags": [],
    "ExecuteTime": {
     "end_time": "2024-05-02T18:06:19.765193300Z",
     "start_time": "2024-05-02T18:06:19.753942200Z"
    }
   },
   "outputs": [
    {
     "name": "stdout",
     "output_type": "stream",
     "text": [
      "Document text:still easy to reach.\n",
      "Overall sentiment:positive\n",
      "Document text:Some thinks didnt work well : air, tv , open windows,\n",
      "Overall sentiment:negative\n",
      "Document text:Room was not cleaned even once during our stay.\n",
      "Overall sentiment:negative\n",
      "Document text:The bed is really terrible,especially the blanket is heavy and terrible terrible quality.\n",
      "Overall sentiment:negative\n",
      "Document text:The TV was not working.\n",
      "Overall sentiment:negative\n"
     ]
    }
   ],
   "source": [
    "show_sentiments(sentiments[:5],trainInputs[:5])"
   ]
  },
  {
   "cell_type": "markdown",
   "id": "8fed3310b2191b2e",
   "metadata": {},
   "source": [
    "# Tagging emotions using KMeans"
   ]
  },
  {
   "cell_type": "code",
   "execution_count": 263,
   "id": "2e1e74409ca09216",
   "metadata": {
    "collapsed": false,
    "ExecuteTime": {
     "end_time": "2024-05-02T18:06:54.107816200Z",
     "start_time": "2024-05-02T18:06:54.098773800Z"
    }
   },
   "outputs": [],
   "source": [
    "kmeans=get_KMeansSklearn(n_clusters=2,randomstates=0)"
   ]
  },
  {
   "cell_type": "code",
   "execution_count": 264,
   "id": "422ab2851dfee7e9",
   "metadata": {
    "collapsed": false,
    "ExecuteTime": {
     "end_time": "2024-05-02T18:06:54.319387700Z",
     "start_time": "2024-05-02T18:06:54.312791300Z"
    }
   },
   "outputs": [],
   "source": [
    "import numpy as np\n",
    "from sklearn.metrics import confusion_matrix, accuracy_score\n"
   ]
  },
  {
   "cell_type": "code",
   "execution_count": 265,
   "outputs": [],
   "source": [
    "def evaluate_clusters(cluster_labels, true_labels):\n",
    "    conf_matrix = confusion_matrix(true_labels, cluster_labels)\n",
    "    acc = accuracy_score(true_labels, cluster_labels)\n",
    "    print(f\"Confusion Matrix:\\n{conf_matrix}\\nAccuracy: {acc}\")"
   ],
   "metadata": {
    "collapsed": false,
    "ExecuteTime": {
     "end_time": "2024-05-02T18:06:54.505016600Z",
     "start_time": "2024-05-02T18:06:54.502502700Z"
    }
   },
   "id": "f862da190242db65"
  },
  {
   "cell_type": "code",
   "execution_count": 268,
   "id": "81e986031c76a5a4",
   "metadata": {
    "collapsed": false,
    "ExecuteTime": {
     "end_time": "2024-05-02T18:08:09.601538200Z",
     "start_time": "2024-05-02T18:08:09.581115600Z"
    }
   },
   "outputs": [
    {
     "name": "stdout",
     "output_type": "stream",
     "text": [
      "40.01143751669931\n",
      "[0, 1, 1, 1, 1, 1, 0, 0, 0, 0, 0, 0, 0, 0, 1, 0, 0, 0, 0, 0, 1, 0, 1, 0, 0, 1, 1, 1, 1, 1, 1, 0, 0, 0, 0, 0, 1, 0, 1, 1, 0, 0]\n",
      "[1 0 1 1 1 1 1 0 0 0 0 1 1 1 0 1 1 1 0 1 1 1 0 1 1 0 0 0 1 0 0 0 1 0 0 1 1\n",
      " 0 0 1 1 1]\n",
      "Confusion Matrix:\n",
      "[[ 9 16]\n",
      " [ 9  8]]\n",
      "Accuracy: 0.40476190476190477\n",
      "Negative\n"
     ]
    }
   ],
   "source": [
    "from sklearn.feature_extraction.text import TfidfVectorizer\n",
    "\n",
    "vectorizer = TfidfVectorizer()\n",
    "\n",
    "train_features = vectorizer.fit_transform(trainInputs).toarray()\n",
    "test_features = vectorizer.transform(testInputs).toarray()\n",
    "\n",
    "kmeans.fit(train_features)\n",
    "\n",
    "# Assign clusters to test data\n",
    "test_labels = kmeans.predict(test_features)\n",
    "\n",
    "test_inertia = sum(np.linalg.norm(np.array(x) - kmeans.cluster_centers_[c_idx])**2 for x, c_idx in zip(test_features, test_labels))\n",
    "print(test_inertia)\n",
    "testValOutputs = [1 if x == \"positive\" else 0 for x in testOutputs]\n",
    "print(testValOutputs)\n",
    "print(test_labels)\n",
    "evaluate_model(test_labels,testValOutputs)\n",
    "toPred=[\"By choosing a bike over a car, I’m reducing my environmental footprint. Cycling promotes eco-friendly transportation, and I’m proud to be part of that movement..\"]\n",
    "prediction=kmeans.predict(vectorizer.transform(toPred).toarray())\n",
    "if prediction[0]==0:\n",
    "    print(\"Negative\")\n",
    "else:\n",
    "    print(\"Positive\")\n",
    "\n"
   ]
  },
  {
   "cell_type": "markdown",
   "id": "c58f0f843be753eb",
   "metadata": {},
   "source": [
    "# My own Kmeans"
   ]
  },
  {
   "cell_type": "code",
   "execution_count": 268,
   "outputs": [],
   "source": [],
   "metadata": {
    "collapsed": false,
    "ExecuteTime": {
     "end_time": "2024-05-02T18:08:10.991054900Z",
     "start_time": "2024-05-02T18:08:10.979830800Z"
    }
   },
   "id": "441fcd94f811a373"
  },
  {
   "cell_type": "code",
   "execution_count": 275,
   "outputs": [],
   "source": [
    "from collections import Counter\n",
    "\n",
    "\n",
    "def train_and_map(trainInputs, trainOutputs, testInputs, testOutputs, nClusters=2, max_iter=10000):\n",
    "    vectorizer = TfidfVectorizer()\n",
    "    trainFeatures = vectorizer.fit_transform(trainInputs).toarray()\n",
    "\n",
    "    model = MyKmeans(nClusters, max_iter)\n",
    "    model.fit(trainFeatures, trainOutputs)\n",
    "    testFeatures = vectorizer.transform(testInputs).toarray()\n",
    "\n",
    "    train_labels = model.predict(testFeatures)\n",
    "\n",
    "    evaluate_clusters(train_labels, testOutputs)\n",
    "\n",
    "    # Compute cluster sentiment mapping\n",
    "    cluster_sentiment_map = {}\n",
    "    for i in range(nClusters):\n",
    "        cluster_labels = np.array(trainOutputs)[train_labels == i]\n",
    "        counts = Counter(cluster_labels)\n",
    "        cluster_sentiment_map[i] = \"positive\" if counts[\"positive\"] > counts[\"negative\"] else \"negative\"\n",
    "\n",
    "    return model, vectorizer, cluster_sentiment_map"
   ],
   "metadata": {
    "collapsed": false,
    "ExecuteTime": {
     "end_time": "2024-05-02T18:08:43.757710100Z",
     "start_time": "2024-05-02T18:08:43.747103100Z"
    }
   },
   "id": "8c44b6a3487dc34b"
  },
  {
   "cell_type": "code",
   "execution_count": 276,
   "outputs": [],
   "source": [
    "def predict_sentiment(model, vectorizer, text):\n",
    "    new_features = vectorizer.transform(text).toarray()\n",
    "    new_cluster_labels = model.predict(new_features)\n",
    "\n",
    "    predicted_sentiments = new_cluster_labels\n",
    "    return predicted_sentiments"
   ],
   "metadata": {
    "collapsed": false,
    "ExecuteTime": {
     "end_time": "2024-05-02T18:08:44.042496700Z",
     "start_time": "2024-05-02T18:08:44.036005700Z"
    }
   },
   "id": "893e038c6c27eae"
  },
  {
   "cell_type": "code",
   "execution_count": 277,
   "outputs": [
    {
     "name": "stdout",
     "output_type": "stream",
     "text": [
      "Confusion Matrix:\n",
      "[[25  0]\n",
      " [17  0]]\n",
      "Accuracy: 0.5952380952380952\n",
      "Predicted Sentiment: ['negative']\n"
     ]
    }
   ],
   "source": [
    "model, vectorizer, cluster_sentiment_map = train_and_map(trainInputs, trainOutputs, testInputs, testOutputs)\n",
    "new_text = [\"By choosing a bike over a car, I’m reducing my environmental footprint. Cycling promotes eco-friendly transportation, and I’m proud to be part of that movement..\"]\n",
    "predicted_sentiment = predict_sentiment(model, vectorizer, new_text)\n",
    "print(f\"Predicted Sentiment: {predicted_sentiment}\")"
   ],
   "metadata": {
    "collapsed": false,
    "ExecuteTime": {
     "end_time": "2024-05-02T18:08:44.341667300Z",
     "start_time": "2024-05-02T18:08:44.328621500Z"
    }
   },
   "id": "c1128dcc1ca3b699"
  },
  {
   "cell_type": "code",
   "execution_count": 316,
   "outputs": [
    {
     "name": "stdout",
     "output_type": "stream",
     "text": [
      "[AnalyzeSentimentResult(id=0, sentiment=positive, warnings=[], statistics=None, confidence_scores=SentimentConfidenceScores(positive=0.94, neutral=0.05, negative=0.01), sentences=[SentenceSentiment(text=By choosing a bike over a car, I’m reducing my environmental footprint. , sentiment=neutral, confidence_scores=SentimentConfidenceScores(positive=0.01, neutral=0.98, negative=0.01), length=72, offset=0, mined_opinions=[]), SentenceSentiment(text=Cycling promotes eco-friendly transportation, and I’m proud to be part of that movement.., sentiment=positive, confidence_scores=SentimentConfidenceScores(positive=0.94, neutral=0.05, negative=0.01), length=89, offset=72, mined_opinions=[])], is_error=False)]\n",
      "Document text:By choosing a bike over a car, I’m reducing my environmental footprint. Cycling promotes eco-friendly transportation, and I’m proud to be part of that movement..\n",
      "Overall sentiment:positive\n"
     ]
    }
   ],
   "source": [
    "sent,model=get_sentiments(new_text)\n",
    "print(sent)\n",
    "show_sentiments(sent,new_text)"
   ],
   "metadata": {
    "collapsed": false,
    "ExecuteTime": {
     "end_time": "2024-05-02T18:36:58.045718800Z",
     "start_time": "2024-05-02T18:36:57.112074Z"
    }
   },
   "id": "619122719753f252"
  },
  {
   "cell_type": "markdown",
   "source": [
    "# DBSCAN - apparently NOT suitable for this problem at all\n",
    "## it identifies the noise points and the clusters\n",
    "## everything is noise in this case"
   ],
   "metadata": {
    "collapsed": false
   },
   "id": "55dd7443dd929cc2"
  },
  {
   "cell_type": "code",
   "execution_count": 296,
   "id": "3baf0c0f6d2001a3",
   "metadata": {
    "collapsed": false,
    "ExecuteTime": {
     "end_time": "2024-05-02T18:21:30.565292900Z",
     "start_time": "2024-05-02T18:21:30.556030800Z"
    }
   },
   "outputs": [],
   "source": [
    "from sklearn.cluster import DBSCAN"
   ]
  },
  {
   "cell_type": "code",
   "execution_count": 314,
   "outputs": [
    {
     "name": "stdout",
     "output_type": "stream",
     "text": [
      "[-1 -1 -1 -1 -1 -1 -1 -1 -1 -1 -1  0 -1 -1 -1 -1 -1 -1 -1 -1 -1 -1 -1 -1\n",
      " -1 -1 -1 -1 -1 -1 -1 -1 -1 -1 -1 -1 -1 -1 -1 -1 -1 -1 -1 -1 -1 -1 -1 -1\n",
      " -1 -1 -1 -1 -1 -1 -1 -1 -1 -1 -1 -1 -1 -1 -1 -1 -1 -1 -1 -1 -1 -1 -1 -1\n",
      " -1 -1 -1 -1 -1 -1 -1 -1 -1 -1 -1 -1 -1 -1 -1 -1 -1 -1 -1 -1 -1 -1 -1 -1\n",
      " -1 -1 -1 -1 -1 -1  0 -1 -1 -1 -1 -1 -1 -1 -1 -1 -1 -1 -1 -1 -1 -1 -1 -1\n",
      " -1 -1 -1 -1 -1 -1 -1  1 -1 -1 -1 -1 -1 -1 -1 -1 -1 -1  1 -1 -1 -1 -1 -1\n",
      " -1 -1 -1 -1 -1 -1 -1 -1 -1 -1 -1 -1 -1 -1 -1 -1 -1 -1 -1 -1 -1]\n",
      "Confusion Matrix:\n",
      "[[117   0]\n",
      " [ 48   0]]\n",
      "Accuracy: 0.7090909090909091\n",
      "Confusion Matrix:\n",
      "[[24  0  1]\n",
      " [16  0  1]\n",
      " [ 0  0  0]]\n",
      "Accuracy: 0.5714285714285714\n",
      "[-1]\n"
     ]
    }
   ],
   "source": [
    "vectorizer = TfidfVectorizer()\n",
    "train_features = vectorizer.fit_transform(trainInputs).toarray()\n",
    "# Aplicarea DBSCAN\n",
    "dbscan = DBSCAN(eps=0.9, min_samples=2)  # Parametrii EPS și min_samples pot fi ajustați\n",
    "cluster_labels = dbscan.fit_predict(train_features)\n",
    "for i in set(cluster_labels):\n",
    "    cluster_points = np.array(trainOutputs)[cluster_labels == i]\n",
    "    counts = Counter(cluster_points)\n",
    "\n",
    "    if counts:\n",
    "        cluster_sentiment_map[i] = \"positive\" if counts[\"positive\"] > counts[\"negative\"] else \"negative\"\n",
    "\n",
    "print(cluster_labels)\n",
    "# Evaluarea clusterelor\n",
    "evaluate_clusters([cluster_sentiment_map.get(l, \"unknown\") for l in cluster_labels],trainOutputs)\n",
    "test_features = vectorizer.transform(testInputs).toarray()\n",
    "test_cluster_labels = dbscan.fit_predict(test_features)\n",
    "test_predicted_sentiments = [cluster_sentiment_map.get(l, \"unknown\") for l in  test_cluster_labels]\n",
    "evaluate_clusters(test_predicted_sentiments, testOutputs)\n",
    "print(dbscan.fit_predict(vectorizer.transform([\"By choosing a bike over a car, I’m reducing my environmental footprint. Cycling promotes eco-friendly transportation, and I’m proud to be part of that movement..\"]).toarray()))"
   ],
   "metadata": {
    "collapsed": false,
    "ExecuteTime": {
     "end_time": "2024-05-02T18:36:37.124510800Z",
     "start_time": "2024-05-02T18:36:37.100980500Z"
    }
   },
   "id": "50d0c7a472feccb3"
  },
  {
   "cell_type": "markdown",
   "source": [
    "## GMM - Gaussian Mixture Model\n",
    "## let's see how it performs"
   ],
   "metadata": {
    "collapsed": false
   },
   "id": "d3daebf4e74d90d5"
  },
  {
   "cell_type": "code",
   "execution_count": 315,
   "outputs": [
    {
     "name": "stdout",
     "output_type": "stream",
     "text": [
      "Confusion Matrix:\n",
      "[[117   0]\n",
      " [ 48   0]]\n",
      "Accuracy: 0.7090909090909091\n",
      "Confusion Matrix:\n",
      "[[25  0]\n",
      " [17  0]]\n",
      "Accuracy: 0.5952380952380952\n",
      "[0]\n"
     ]
    }
   ],
   "source": [
    "from sklearn.mixture import GaussianMixture\n",
    "\n",
    "vectorizer = TfidfVectorizer()\n",
    "train_features = vectorizer.fit_transform(trainInputs).toarray()\n",
    "# Applying GMM\n",
    "n_clusters = 2  #  avem pozitiv și negativ\n",
    "gmm = GaussianMixture(n_components=n_clusters, random_state=20)\n",
    "gmm.fit(train_features)\n",
    "cluster_labels = gmm.predict(train_features)\n",
    "# print(cluster_labels)\n",
    "\n",
    "# print(cluster_labels)\n",
    "cluster_sentiment_map = {}\n",
    "# Evaluarea clusterelor\n",
    "cluster_sentiment_map = {}\n",
    "for i in set(cluster_labels):\n",
    "    cluster_points = np.array(trainOutputs)[cluster_labels == i]\n",
    "    counts = Counter(cluster_points)\n",
    "\n",
    "    if counts:\n",
    "        cluster_sentiment_map[i] = \"positive\" if counts[\"positive\"] > counts[\"negative\"] else \"negative\"\n",
    "predicted_sentiments = [cluster_sentiment_map.get(l, \"unknown\") for l in cluster_labels]\n",
    "evaluate_clusters(predicted_sentiments, trainOutputs)\n",
    "\n",
    "    # Testing\n",
    "test_features = vectorizer.transform(testInputs).toarray()\n",
    "test_cluster_labels = gmm.predict(test_features)\n",
    "test_predicted_sentiments = [cluster_sentiment_map.get(l, \"unknown\") for l in test_cluster_labels]\n",
    "evaluate_clusters(test_predicted_sentiments,testOutputs)\n",
    "print(gmm.predict(vectorizer.transform([\"By choosing a bike over a car, I’m reducing my environmental footprint. Cycling promotes eco-friendly transportation, and I’m proud to be part of that movement..\"]).toarray()))\n"
   ],
   "metadata": {
    "collapsed": false,
    "ExecuteTime": {
     "end_time": "2024-05-02T18:36:50.732832200Z",
     "start_time": "2024-05-02T18:36:50.588564500Z"
    }
   },
   "id": "1ff46819774f3efb"
  },
  {
   "cell_type": "code",
   "execution_count": 315,
   "outputs": [],
   "source": [],
   "metadata": {
    "collapsed": false,
    "ExecuteTime": {
     "end_time": "2024-05-02T18:36:50.805248800Z",
     "start_time": "2024-05-02T18:36:50.803212700Z"
    }
   },
   "id": "d3b79f9d10d9fdfc"
  },
  {
   "cell_type": "code",
   "execution_count": null,
   "outputs": [],
   "source": [],
   "metadata": {
    "collapsed": false
   },
   "id": "ec4cc2e058ba84f4"
  }
 ],
 "metadata": {
  "kernelspec": {
   "display_name": "Python 3 (ipykernel)",
   "language": "python",
   "name": "python3"
  },
  "language_info": {
   "codemirror_mode": {
    "name": "ipython",
    "version": 3
   },
   "file_extension": ".py",
   "mimetype": "text/x-python",
   "name": "python",
   "nbconvert_exporter": "python",
   "pygments_lexer": "ipython3",
   "version": "3.11.5"
  }
 },
 "nbformat": 4,
 "nbformat_minor": 5
}

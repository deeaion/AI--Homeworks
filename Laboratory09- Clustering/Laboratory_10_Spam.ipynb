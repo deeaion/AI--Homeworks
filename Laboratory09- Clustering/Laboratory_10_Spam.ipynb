{
 "cells": [
  {
   "cell_type": "markdown",
   "source": [
    "# Resolving clustering problems"
   ],
   "metadata": {
    "collapsed": false
   },
   "id": "33faa5ef47c08ed1"
  },
  {
   "cell_type": "code",
   "execution_count": 29,
   "outputs": [
    {
     "name": "stdout",
     "output_type": "stream",
     "text": [
      "1.12.0\n",
      "1.12.0\n"
     ]
    },
    {
     "name": "stderr",
     "output_type": "stream",
     "text": [
      "[nltk_data] Downloading package stopwords to\n",
      "[nltk_data]     C:\\Users\\Deea\\AppData\\Roaming\\nltk_data...\n",
      "[nltk_data]   Package stopwords is already up-to-date!\n",
      "[nltk_data] Downloading package stopwords to\n",
      "[nltk_data]     C:\\Users\\Deea\\AppData\\Roaming\\nltk_data...\n",
      "[nltk_data]   Package stopwords is already up-to-date!\n"
     ]
    }
   ],
   "source": [
    "\n",
    "%run Feature_Extractions.ipynb\n",
    "%run MyKmeans.ipynb\n",
    "%run Utils.ipynb\n",
    "import numpy as np"
   ],
   "metadata": {
    "collapsed": false,
    "ExecuteTime": {
     "end_time": "2024-05-02T19:18:21.101483600Z",
     "start_time": "2024-05-02T19:18:20.752926400Z"
    }
   },
   "id": "6aabd2c944e96f7e"
  },
  {
   "cell_type": "markdown",
   "source": [
    "## For spam vs Ham"
   ],
   "metadata": {
    "collapsed": false
   },
   "id": "d90ba455bd75e994"
  },
  {
   "cell_type": "markdown",
   "source": [
    "Extracting the data from the file"
   ],
   "metadata": {
    "collapsed": false
   },
   "id": "bd93601374827fbc"
  },
  {
   "cell_type": "code",
   "execution_count": 30,
   "outputs": [
    {
     "name": "stdout",
     "output_type": "stream",
     "text": [
      "['emailText', 'emailType']\n",
      "['ham', 'spam']\n",
      "['Go until jurong point, crazy.. Available only in bugis n great world la e buffet... Cine there got amore wat...', 'Ok lar... Joking wif u oni...', \"Free entry in 2 a wkly comp to win FA Cup final tkts 21st May 2005. Text FA to 87121 to receive entry question(std txt rate)T&C's apply 08452810075over18's\", 'U dun say so early hor... U c already then say...', \"Nah I don't think he goes to usf, he lives around here though\"]\n",
      "['ham', 'ham', 'spam', 'ham', 'ham']\n"
     ]
    }
   ],
   "source": [
    "inputs,outputs,dataNames,labelNames=load_data('data/spam.csv')\n",
    "dataNames=dataNames[0:2]\n",
    "print(dataNames)\n",
    "\n",
    "print(labelNames)\n",
    "print(inputs[:5])\n",
    "print(outputs[:5])"
   ],
   "metadata": {
    "collapsed": false,
    "ExecuteTime": {
     "end_time": "2024-05-02T19:18:22.554819900Z",
     "start_time": "2024-05-02T19:18:22.532198500Z"
    }
   },
   "id": "de8b458f5798fcc3"
  },
  {
   "cell_type": "markdown",
   "source": [
    "Extracting training inputs,outputs,test inputs and outputs"
   ],
   "metadata": {
    "collapsed": false
   },
   "id": "c59e3ae2793ad743"
  },
  {
   "cell_type": "code",
   "execution_count": 31,
   "outputs": [
    {
     "name": "stdout",
     "output_type": "stream",
     "text": [
      "['Probably, want to pick up more?', \"No go. No openings for that room 'til after thanksgiving without an upcharge.\", \"Fuck babe ... I miss you already, you know ? Can't you let me send you some money towards your net ? I need you ... I want you ... I crave you ...\", 'I to am looking forward to all the sex cuddling.. Only two more sleeps ', \"I'm freezing and craving ice. Fml\"]\n",
      "['ham', 'ham', 'ham', 'ham', 'ham']\n",
      "['Fine if thatåÕs the way u feel. ThatåÕs the way its gota b', \"Just forced myself to eat a slice. I'm really not hungry tho. This sucks. Mark is getting worried. He knows I'm sick when I turn down pizza. Lol\", \"Oops, I'll let you know when my roommate's done\", 'Anything lor... U decide...', 'Did I forget to tell you ? I want you , I need you, I crave you ... But most of all ... I love you my sweet Arabian steed ... Mmmmmm ... Yummy']\n",
      "['ham', 'ham', 'ham', 'ham', 'ham']\n"
     ]
    }
   ],
   "source": [
    "trainInputs,trainOutputs,testInputs,testOutputs=split_data(inputs,outputs,0.8)\n",
    "print(trainInputs[:5])\n",
    "print(trainOutputs[:5])\n",
    "print(testInputs[:5])\n",
    "print(testOutputs[:5])"
   ],
   "metadata": {
    "collapsed": false,
    "ExecuteTime": {
     "end_time": "2024-05-02T19:18:24.317462900Z",
     "start_time": "2024-05-02T19:18:24.292398700Z"
    }
   },
   "id": "870c5f77fab9e0e1"
  },
  {
   "cell_type": "markdown",
   "source": [
    "Get Train Features BOW"
   ],
   "metadata": {
    "collapsed": false
   },
   "id": "7570996c7a63f7eb"
  },
  {
   "cell_type": "code",
   "execution_count": 32,
   "outputs": [],
   "source": [
    "trainFeatures=get_bow(trainInputs)"
   ],
   "metadata": {
    "collapsed": false,
    "ExecuteTime": {
     "end_time": "2024-05-02T19:18:27.068407100Z",
     "start_time": "2024-05-02T19:18:25.732118300Z"
    }
   },
   "id": "2b806d91b07f7708"
  },
  {
   "cell_type": "markdown",
   "source": [
    "Get Train Vocabulary"
   ],
   "metadata": {
    "collapsed": false
   },
   "id": "d1e802444b8153ce"
  },
  {
   "cell_type": "code",
   "execution_count": 33,
   "outputs": [],
   "source": [
    "vocab=get_vocabulary(trainInputs)\n"
   ],
   "metadata": {
    "collapsed": false,
    "ExecuteTime": {
     "end_time": "2024-05-02T19:18:27.583696Z",
     "start_time": "2024-05-02T19:18:27.083953700Z"
    }
   },
   "id": "d021ea0dc7aa8859"
  },
  {
   "cell_type": "markdown",
   "source": [
    "Get Test Bow"
   ],
   "metadata": {
    "collapsed": false
   },
   "id": "446ed6b59e3a116b"
  },
  {
   "cell_type": "code",
   "execution_count": 34,
   "outputs": [],
   "source": [
    "testFeatures=get_bow(testInputs)"
   ],
   "metadata": {
    "collapsed": false,
    "ExecuteTime": {
     "end_time": "2024-05-02T19:18:27.853579900Z",
     "start_time": "2024-05-02T19:18:27.586211700Z"
    }
   },
   "id": "a7c69b9d5b060f01"
  },
  {
   "cell_type": "markdown",
   "source": [
    "Get Train Vocabulary"
   ],
   "metadata": {
    "collapsed": false
   },
   "id": "22706badfd52253a"
  },
  {
   "cell_type": "code",
   "execution_count": 35,
   "outputs": [],
   "source": [
    "testVocab=get_vocabulary(testInputs)"
   ],
   "metadata": {
    "collapsed": false,
    "ExecuteTime": {
     "end_time": "2024-05-02T19:18:28.028385200Z",
     "start_time": "2024-05-02T19:18:27.908029700Z"
    }
   },
   "id": "9ad87ba14739efe2"
  },
  {
   "cell_type": "code",
   "execution_count": 36,
   "outputs": [
    {
     "name": "stdout",
     "output_type": "stream",
     "text": [
      "Voabulary Size: 6310\n",
      "[[0 0 0 ... 0 0 0]]\n",
      "[[0 0 0 ... 0 0 0]]\n",
      "Train Data Size: 4457\n",
      "Test Data Size: 1115\n",
      "Train Features Size: 6310\n",
      "Some words in the vocabulary: ['aa', 'aah', 'aaniy', 'aaooooright', 'aathilov', 'aathiwher', 'ab', 'abbey', 'abdomen', 'abeg']\n"
     ]
    }
   ],
   "source": [
    "print(\"Voabulary Size:\",len(trainFeatures[0]))\n",
    "print(np.array(trainFeatures[:1]))\n",
    "print(np.array(testFeatures[:1]))\n",
    "print(\"Train Data Size:\",len(trainFeatures))\n",
    "print(\"Test Data Size:\",len(testFeatures))\n",
    "print(\"Train Features Size:\",len(trainFeatures[0]))\n",
    "print(\"Some words in the vocabulary:\",vocab[0:10])"
   ],
   "metadata": {
    "collapsed": false,
    "ExecuteTime": {
     "end_time": "2024-05-02T19:18:28.849129800Z",
     "start_time": "2024-05-02T19:18:28.797569700Z"
    }
   },
   "id": "94ebb51057970228"
  },
  {
   "cell_type": "markdown",
   "source": [
    "# Other characteristics"
   ],
   "metadata": {
    "collapsed": false
   },
   "id": "81713ff986e6241"
  },
  {
   "cell_type": "code",
   "execution_count": 37,
   "outputs": [],
   "source": [
    "sentiments=get_sentiments(trainInputs[:20])"
   ],
   "metadata": {
    "collapsed": false,
    "ExecuteTime": {
     "end_time": "2024-05-02T19:18:34.272780300Z",
     "start_time": "2024-05-02T19:18:31.409946500Z"
    }
   },
   "id": "d3c5630a65b6ee57"
  },
  {
   "cell_type": "markdown",
   "source": [
    "# Tagging emotions using KMeans"
   ],
   "metadata": {
    "collapsed": false
   },
   "id": "8fed3310b2191b2e"
  },
  {
   "cell_type": "code",
   "execution_count": 38,
   "outputs": [],
   "source": [
    "kmeans=get_KMeansSklearn(n_clusters=2,randomstates=0)"
   ],
   "metadata": {
    "collapsed": false,
    "ExecuteTime": {
     "end_time": "2024-05-02T19:18:34.279864700Z",
     "start_time": "2024-05-02T19:18:34.273780100Z"
    }
   },
   "id": "2e1e74409ca09216"
  },
  {
   "cell_type": "code",
   "execution_count": 39,
   "outputs": [],
   "source": [
    "import numpy as np"
   ],
   "metadata": {
    "collapsed": false,
    "ExecuteTime": {
     "end_time": "2024-05-02T19:18:34.292729500Z",
     "start_time": "2024-05-02T19:18:34.277862600Z"
    }
   },
   "id": "422ab2851dfee7e9"
  },
  {
   "cell_type": "code",
   "execution_count": 40,
   "outputs": [
    {
     "name": "stdout",
     "output_type": "stream",
     "text": [
      "1078.2275663410608\n"
     ]
    }
   ],
   "source": [
    "from sklearn.feature_extraction.text import TfidfVectorizer\n",
    "\n",
    "vectorizer = TfidfVectorizer()\n",
    "\n",
    "train_features = vectorizer.fit_transform(trainInputs).toarray()\n",
    "test_features = vectorizer.transform(testInputs).toarray()\n",
    "\n",
    "# Fit the KMeans model using training features\n",
    "kmeans.fit(train_features)\n",
    "\n",
    "# Assign clusters to test data\n",
    "test_labels = kmeans.predict(test_features)\n",
    "\n",
    "# Compute inertia for the test data\n",
    "test_inertia = sum(np.linalg.norm(np.array(x) - kmeans.cluster_centers_[c_idx])**2 for x, c_idx in zip(test_features, test_labels))\n",
    "print(test_inertia)"
   ],
   "metadata": {
    "collapsed": false,
    "ExecuteTime": {
     "end_time": "2024-05-02T19:18:35.556020800Z",
     "start_time": "2024-05-02T19:18:34.503803200Z"
    }
   },
   "id": "81e986031c76a5a4"
  },
  {
   "cell_type": "markdown",
   "source": [
    "# My own Kmeans"
   ],
   "metadata": {
    "collapsed": false
   },
   "id": "c58f0f843be753eb"
  },
  {
   "cell_type": "code",
   "execution_count": 45,
   "outputs": [
    {
     "name": "stdout",
     "output_type": "stream",
     "text": [
      "Test Inertia: 1079.280966467375\n"
     ]
    }
   ],
   "source": [
    "vectorizer = TfidfVectorizer()\n",
    "\n",
    "trainFeatures = vectorizer.fit_transform(trainInputs).toarray()\n",
    "testFeatures = vectorizer.transform(testInputs).toarray()\n",
    "model = MyKmeans(2, 200)\n",
    "model.fit(trainFeatures,trainOutputs)\n",
    "\n",
    "# Evaluate on test set\n",
    "test_labels = model.predict(testFeatures)\n",
    "\n",
    "# Compute inertia for test set\n",
    "test_inertia = model.get_inertia(testFeatures)\n",
    "\n",
    "print(\"Test Inertia:\", test_inertia)"
   ],
   "metadata": {
    "collapsed": false,
    "ExecuteTime": {
     "end_time": "2024-05-02T19:19:45.319706100Z",
     "start_time": "2024-05-02T19:19:42.079345Z"
    }
   },
   "id": "c0182de042b2758d"
  },
  {
   "cell_type": "code",
   "execution_count": null,
   "outputs": [],
   "source": [],
   "metadata": {
    "collapsed": false
   },
   "id": "425c8ec50e643706"
  }
 ],
 "metadata": {
  "kernelspec": {
   "display_name": "Python 3",
   "language": "python",
   "name": "python3"
  },
  "language_info": {
   "codemirror_mode": {
    "name": "ipython",
    "version": 2
   },
   "file_extension": ".py",
   "mimetype": "text/x-python",
   "name": "python",
   "nbconvert_exporter": "python",
   "pygments_lexer": "ipython2",
   "version": "2.7.6"
  }
 },
 "nbformat": 4,
 "nbformat_minor": 5
}

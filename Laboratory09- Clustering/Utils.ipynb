{
 "cells": [
  {
   "cell_type": "markdown",
   "source": [
    "# Loading the data"
   ],
   "metadata": {
    "collapsed": false
   },
   "id": "3e78bd3aae1f84e0"
  },
  {
   "cell_type": "code",
   "execution_count": 7,
   "outputs": [],
   "source": [
    "import csv\n",
    "import numpy as np\n",
    "import os"
   ],
   "metadata": {
    "collapsed": false,
    "ExecuteTime": {
     "end_time": "2024-04-30T16:23:07.762271900Z",
     "start_time": "2024-04-30T16:23:07.440883900Z"
    }
   },
   "id": "f62985108358f117"
  },
  {
   "cell_type": "code",
   "execution_count": 8,
   "outputs": [],
   "source": [
    "def load_data(file):\n",
    "    data=[]\n",
    "    with open(file) as csv_file:\n",
    "        csv_reader = csv.reader(csv_file, delimiter=',')\n",
    "        line_count=0\n",
    "        for row in csv_reader:\n",
    "            if line_count==0:\n",
    "                dataNames=row\n",
    "            else:\n",
    "                data.append(row)\n",
    "            line_count+=1\n",
    "        inputs=[data[i][0] for i in range(len(data))]\n",
    "        outputs=[data[i][1] for i in range(len(data))]\n",
    "        labelNames=list(set(outputs))\n",
    "    return inputs,outputs,dataNames,labelNames\n",
    "        "
   ],
   "metadata": {
    "collapsed": false,
    "ExecuteTime": {
     "end_time": "2024-04-30T16:23:07.768187600Z",
     "start_time": "2024-04-30T16:23:07.763276Z"
    }
   },
   "id": "1783fb5b82bc8b6a"
  },
  {
   "cell_type": "code",
   "execution_count": 9,
   "outputs": [
    {
     "name": "stdout",
     "output_type": "stream",
     "text": [
      "['emailText', 'emailType', '', '']\n",
      "['spam', 'ham']\n",
      "['Go until jurong point, crazy.. Available only in bugis n great world la e buffet... Cine there got amore wat...', 'Ok lar... Joking wif u oni...', \"Free entry in 2 a wkly comp to win FA Cup final tkts 21st May 2005. Text FA to 87121 to receive entry question(std txt rate)T&C's apply 08452810075over18's\", 'U dun say so early hor... U c already then say...', \"Nah I don't think he goes to usf, he lives around here though\"]\n",
      "['ham', 'ham', 'spam', 'ham', 'ham']\n"
     ]
    }
   ],
   "source": [
    "# inputs,outputs,dataNames,labelNames=load_data('data/spam.csv')\n",
    "# print(dataNames)\n",
    "# print(labelNames)\n",
    "# print(inputs[:5])\n",
    "# print(outputs[:5])"
   ],
   "metadata": {
    "collapsed": false,
    "ExecuteTime": {
     "end_time": "2024-04-30T16:23:07.794394800Z",
     "start_time": "2024-04-30T16:23:07.780858100Z"
    }
   },
   "id": "f0fed2a7ff53fb7b"
  },
  {
   "cell_type": "code",
   "execution_count": 10,
   "outputs": [],
   "source": [
    "#Training and Testing data"
   ],
   "metadata": {
    "collapsed": false,
    "ExecuteTime": {
     "end_time": "2024-04-30T16:23:07.973528800Z",
     "start_time": "2024-04-30T16:23:07.967518Z"
    }
   },
   "id": "37d45ff166d4b23"
  },
  {
   "cell_type": "code",
   "execution_count": 1,
   "outputs": [],
   "source": [
    "def split_data(inputs,output,ratio):\n",
    "    np.random.seed(5)\n",
    "    noSamples=len(inputs)\n",
    "    indexes=[i for i in range(noSamples)]\n",
    "    trainSample=np.random.choice(indexes,int(ratio*noSamples),replace=False)\n",
    "    testSample=[i for i in indexes if i not in trainSample]\n",
    "    trainInputs=[inputs[i] for i in trainSample]\n",
    "    trainOutputs=[output[i] for i in trainSample]\n",
    "    testInputs=[inputs[i] for i in testSample]\n",
    "    testOutputs=[output[i] for i in testSample]\n",
    "    return trainInputs,trainOutputs,testInputs,testOutputs"
   ],
   "metadata": {
    "collapsed": false,
    "ExecuteTime": {
     "end_time": "2024-05-02T17:21:12.062067200Z",
     "start_time": "2024-05-02T17:21:12.059423100Z"
    }
   },
   "id": "83ef8039a122306b"
  },
  {
   "cell_type": "code",
   "execution_count": 2,
   "outputs": [],
   "source": [
    "# trainInputs,trainOutputs,testInputs,testOutputs=split_data(inputs,outputs,0.8)\n",
    "# print(trainInputs[:5])\n",
    "# print(trainOutputs[:5])\n",
    "# print(testInputs[:5])\n",
    "# print(testOutputs[:5])"
   ],
   "metadata": {
    "collapsed": false,
    "ExecuteTime": {
     "end_time": "2024-05-02T17:21:12.070889300Z",
     "start_time": "2024-05-02T17:21:12.063065800Z"
    }
   },
   "id": "f41ac0ca13554dcd"
  },
  {
   "cell_type": "code",
   "execution_count": 14,
   "outputs": [
    {
     "name": "stderr",
     "output_type": "stream",
     "text": [
      "[nltk_data] Downloading package stopwords to\n",
      "[nltk_data]     C:\\Users\\Deea\\AppData\\Roaming\\nltk_data...\n",
      "[nltk_data]   Package stopwords is already up-to-date!\n"
     ]
    }
   ],
   "source": [
    "%run Feature_Extractions.ipynb"
   ],
   "metadata": {
    "collapsed": false,
    "ExecuteTime": {
     "end_time": "2024-04-30T16:24:02.416889900Z",
     "start_time": "2024-04-30T16:24:01.767788500Z"
    }
   },
   "id": "75bd6bc14df215e3"
  },
  {
   "cell_type": "code",
   "execution_count": 27,
   "outputs": [],
   "source": [
    "# trainFeatures=get_bow(trainInputs)\n",
    "# vocab=get_vocabulary(trainInputs)\n",
    "# testFeatures=get_bow(testInputs)"
   ],
   "metadata": {
    "collapsed": false,
    "ExecuteTime": {
     "end_time": "2024-04-30T16:29:28.288844Z",
     "start_time": "2024-04-30T16:29:26.713325Z"
    }
   },
   "id": "edcb468ce13d1bbd"
  },
  {
   "cell_type": "code",
   "execution_count": 29,
   "outputs": [
    {
     "name": "stdout",
     "output_type": "stream",
     "text": [
      "Voabulary Size: 6310\n",
      "[[0 0 0 ... 0 0 0]]\n",
      "[[0 0 0 ... 0 0 0]]\n",
      "Train Data Size: 4457\n",
      "Test Data Size: 1115\n",
      "Train Features Size: 6310\n",
      "Some words in the vocabulary: ['aa', 'aah', 'aaniy', 'aaooooright', 'aathilov', 'aathiwher', 'ab', 'abbey', 'abdomen', 'abeg']\n"
     ]
    }
   ],
   "source": [
    "# print(\"Voabulary Size:\",len(trainFeatures[0]))\n",
    "# print(np.array(trainFeatures[:1]))\n",
    "# print(np.array(testFeatures[:1]))\n",
    "# print(\"Train Data Size:\",len(trainFeatures))\n",
    "# print(\"Test Data Size:\",len(testFeatures))\n",
    "# print(\"Train Features Size:\",len(trainFeatures[0]))\n",
    "# print(\"Some words in the vocabulary:\",vocab[0:10])\n"
   ],
   "metadata": {
    "collapsed": false,
    "ExecuteTime": {
     "end_time": "2024-04-30T16:29:36.891941200Z",
     "start_time": "2024-04-30T16:29:36.865405700Z"
    }
   },
   "id": "44bdb1db591bb6f9"
  },
  {
   "cell_type": "code",
   "execution_count": null,
   "outputs": [],
   "source": [
    "def test_Feature_Extract(testFeatures,computed,classifier):\n",
    "    computedTextIndexes=classifier.predict(testFeatures)\n",
    "    computedTestOutputs=[labelNames[i] for i in computedTextIndexes]\n",
    "    return computedTextIndexes,computedTestOutputs"
   ],
   "metadata": {
    "collapsed": false
   },
   "id": "ffcd87cec5cae230"
  },
  {
   "cell_type": "code",
   "execution_count": null,
   "outputs": [],
   "source": [
    "def visualise_results(testInputs,computedTestOutputs,testOutputs):\n",
    "    for i in range(5):\n",
    "        print(\"Input:\",testInputs[i])\n",
    "        print(\"Computed Output:\",computedTestOutputs[i])\n",
    "        print(\"Actual Output:\",testOutputs[i])\n",
    "        print(\"\\n\")\n"
   ],
   "metadata": {
    "collapsed": false
   },
   "id": "79f2a6fd97f99bc4"
  },
  {
   "cell_type": "code",
   "execution_count": null,
   "outputs": [],
   "source": [
    "def evaluate_results(testOutputs,computedTestOutputs):\n",
    "    noTestSamples=len(testOutputs)\n",
    "    correct=0\n",
    "    for i in range(noTestSamples):\n",
    "        if testOutputs[i]==computedTestOutputs[i]:\n",
    "            correct+=1\n",
    "    accuracy=correct/noTestSamples\n",
    "    return accuracy\n"
   ],
   "metadata": {
    "collapsed": false
   },
   "id": "29bc2748d3d82ad2"
  }
 ],
 "metadata": {
  "kernelspec": {
   "display_name": "Python 3",
   "language": "python",
   "name": "python3"
  },
  "language_info": {
   "codemirror_mode": {
    "name": "ipython",
    "version": 2
   },
   "file_extension": ".py",
   "mimetype": "text/x-python",
   "name": "python",
   "nbconvert_exporter": "python",
   "pygments_lexer": "ipython2",
   "version": "2.7.6"
  }
 },
 "nbformat": 4,
 "nbformat_minor": 5
}
